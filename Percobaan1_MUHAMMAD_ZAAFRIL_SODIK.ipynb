{
  "nbformat": 4,
  "nbformat_minor": 0,
  "metadata": {
    "colab": {
      "name": "Percobaan1_MUHAMMAD ZAAFRIL SODIK.ipynb",
      "provenance": [],
      "authorship_tag": "ABX9TyMg8fjRoZzZQ1nAW6jPq+dT",
      "include_colab_link": true
    },
    "kernelspec": {
      "name": "python3",
      "display_name": "Python 3"
    },
    "language_info": {
      "name": "python"
    }
  },
  "cells": [
    {
      "cell_type": "markdown",
      "metadata": {
        "id": "view-in-github",
        "colab_type": "text"
      },
      "source": [
        "<a href=\"https://colab.research.google.com/github/muhzaafrils/coba/blob/master/Percobaan1_MUHAMMAD_ZAAFRIL_SODIK.ipynb\" target=\"_parent\"><img src=\"https://colab.research.google.com/assets/colab-badge.svg\" alt=\"Open In Colab\"/></a>"
      ]
    },
    {
      "cell_type": "markdown",
      "metadata": {
        "id": "K0PefGAzhszu"
      },
      "source": [
        "Statement (Pernyataan) di Python"
      ]
    },
    {
      "cell_type": "code",
      "metadata": {
        "id": "Qh-NhPHIhxrO"
      },
      "source": [
        "a = panjang1 + panjang2 + \\\n",
        " panjang3 + \\\n",
        " panjang4\n"
      ],
      "execution_count": null,
      "outputs": []
    },
    {
      "cell_type": "code",
      "metadata": {
        "colab": {
          "base_uri": "https://localhost:8080/"
        },
        "id": "f02SaHQhfVoH",
        "outputId": "2c9ef912-3038-4a92-b0c6-cc708a560a24"
      },
      "source": [
        "nama_bulan = ['Januari', 'Maret', 'Juni', 'September']\n",
        "print(nama_bulan)"
      ],
      "execution_count": 1,
      "outputs": [
        {
          "output_type": "stream",
          "text": [
            "['Januari', 'Maret', 'Juni', 'September']\n"
          ],
          "name": "stdout"
        }
      ]
    },
    {
      "cell_type": "code",
      "metadata": {
        "id": "Pbsp4DUSgCr3"
      },
      "source": [
        "if nilai <= 5:\n",
        "  print(\"Nilai merah\")\n",
        "  print(\"Tidak lulus\")\n",
        "else:\n",
        "  print(\"Nilai biru\")print(\"Lulus\")\n"
      ],
      "execution_count": null,
      "outputs": []
    },
    {
      "cell_type": "code",
      "metadata": {
        "colab": {
          "base_uri": "https://localhost:8080/"
        },
        "id": "_BUrB02pgVV8",
        "outputId": "0a23768e-8232-4e85-ec3f-93d50d67a179"
      },
      "source": [
        "if True:\n",
        "  print (\"Jawab\")\n",
        "  print (\"Benar\")\n",
        "else:\n",
        "  print (\"Jawab\")\n",
        "  print (\"Salah\")\n"
      ],
      "execution_count": 4,
      "outputs": [
        {
          "output_type": "stream",
          "text": [
            "Jawab\n",
            "Benar\n"
          ],
          "name": "stdout"
        }
      ]
    },
    {
      "cell_type": "code",
      "metadata": {
        "colab": {
          "base_uri": "https://localhost:8080/"
        },
        "id": "XXSo8c-lgo7V",
        "outputId": "3be77f5c-3139-4ca1-d2b2-de5d74b40c24"
      },
      "source": [
        "kata = 'kata'\n",
        "kalimat = \"Ini adalah kalimat\"\n",
        "paragraf = \"\"\"Ini adalah paragraf. Paragraf terdiri dari beberapa baris.\"\"\"\n",
        "print(kata)\n",
        "print(kalimat)\n",
        "print(paragraf)"
      ],
      "execution_count": 5,
      "outputs": [
        {
          "output_type": "stream",
          "text": [
            "kata\n",
            "Ini adalah kalimat\n",
            "Ini adalah paragraf. Paragraf terdiri dari beberapa baris.\n"
          ],
          "name": "stdout"
        }
      ]
    },
    {
      "cell_type": "code",
      "metadata": {
        "colab": {
          "base_uri": "https://localhost:8080/"
        },
        "id": "eQWtxFE3hMod",
        "outputId": "f97ca9f7-33e5-416f-dbaf-293fb79d67d0"
      },
      "source": [
        "# Komentar pertama\n",
        "print(\"Hello World!\") # Komentar kedua\n"
      ],
      "execution_count": 6,
      "outputs": [
        {
          "output_type": "stream",
          "text": [
            "Hello World!\n"
          ],
          "name": "stdout"
        }
      ]
    },
    {
      "cell_type": "code",
      "metadata": {
        "id": "pqn0k3d_hPuO"
      },
      "source": [
        "# Ini komentar\n",
        "# Ini juga adalah komentar\n",
        "# Ini juga masih komentar"
      ],
      "execution_count": 7,
      "outputs": []
    },
    {
      "cell_type": "markdown",
      "metadata": {
        "id": "Eg8aPFmXh15Y"
      },
      "source": [
        "Variabel dan Tipe Data Python"
      ]
    },
    {
      "cell_type": "code",
      "metadata": {
        "colab": {
          "base_uri": "https://localhost:8080/"
        },
        "id": "lwa4V3DUh5UB",
        "outputId": "1bcc2fab-aeb2-4284-eaf3-a730e6e276f0"
      },
      "source": [
        "panjang = 100 # tipe data integer\n",
        "lebar = 21.5 # tipe data float\n",
        "nama = \"Umar\" # tipe string\n",
        "print(panjang)\n",
        "print(lebar)\n",
        "print(nama)\n"
      ],
      "execution_count": 8,
      "outputs": [
        {
          "output_type": "stream",
          "text": [
            "100\n",
            "21.5\n",
            "Umar\n"
          ],
          "name": "stdout"
        }
      ]
    },
    {
      "cell_type": "code",
      "metadata": {
        "colab": {
          "base_uri": "https://localhost:8080/"
        },
        "id": "phjq6YvyiNB3",
        "outputId": "bf961df2-acc0-4a67-e3a2-9ce01641d345"
      },
      "source": [
        "x = y = z = 3\n",
        "print(x)\n",
        "print(y)\n",
        "print(z)"
      ],
      "execution_count": 9,
      "outputs": [
        {
          "output_type": "stream",
          "text": [
            "3\n",
            "3\n",
            "3\n"
          ],
          "name": "stdout"
        }
      ]
    },
    {
      "cell_type": "code",
      "metadata": {
        "colab": {
          "base_uri": "https://localhost:8080/"
        },
        "id": "v_HVNy07iNoI",
        "outputId": "1e89a9fd-98a7-41df-d278-901f0f6c3649"
      },
      "source": [
        "a, b, c = 1, 3.4, \"Umar\"\n",
        "print(a)\n",
        "print(b)\n",
        "print(c)"
      ],
      "execution_count": 10,
      "outputs": [
        {
          "output_type": "stream",
          "text": [
            "1\n",
            "3.4\n",
            "Umar\n"
          ],
          "name": "stdout"
        }
      ]
    },
    {
      "cell_type": "code",
      "metadata": {
        "colab": {
          "base_uri": "https://localhost:8080/"
        },
        "id": "y4nHPzn_iqjs",
        "outputId": "6df68e93-cf68-4549-9aac-a6784bd82b41"
      },
      "source": [
        "x = 5 \n",
        "print(x, \"tipenya adalah \", type(x))\n",
        "x = 2.0\n",
        "print(x, \"tipenya adalah \", type(x))\n",
        "x = 1+2j\n",
        "print(x, \"tipenya adalah \",type(x))\n"
      ],
      "execution_count": 11,
      "outputs": [
        {
          "output_type": "stream",
          "text": [
            "5 tipenya adalah  <class 'int'>\n",
            "2.0 tipenya adalah  <class 'float'>\n",
            "(1+2j) tipenya adalah  <class 'complex'>\n"
          ],
          "name": "stdout"
        }
      ]
    },
    {
      "cell_type": "code",
      "metadata": {
        "colab": {
          "base_uri": "https://localhost:8080/"
        },
        "id": "xe-qaQCji6rc",
        "outputId": "71fd3861-9a6a-4297-b7ae-aa199f26978f"
      },
      "source": [
        ">>> a = 1234567899999999999999999999\n",
        ">>> a\n",
        "1234567899999999999999999999\n",
        ">>> b = 0.123456789123456789\n",
        ">>> b\n",
        "0.12345678912345678\n",
        ">>> c = 1+4j\n",
        ">>> c\n",
        "(1+4j)"
      ],
      "execution_count": 12,
      "outputs": [
        {
          "output_type": "execute_result",
          "data": {
            "text/plain": [
              "(1+4j)"
            ]
          },
          "metadata": {
            "tags": []
          },
          "execution_count": 12
        }
      ]
    },
    {
      "cell_type": "code",
      "metadata": {
        "colab": {
          "base_uri": "https://localhost:8080/"
        },
        "id": "jjGLWjGFjGWJ",
        "outputId": "f100d37e-6498-43a4-fc8d-947473da8372"
      },
      "source": [
        "kalimat = \"Nama saya Umar\"\n",
        "print(kalimat) # print string lengkap\n",
        "print(kalimat[0]) # print karakter pertama\n",
        "print(kalimat[-1]) # print karakter terakhir\n",
        "print(kalimat[4:7]) # print dari indeks 4 - 6\n",
        "print(kalimat[:4]) # print dari indeks 0 - 3"
      ],
      "execution_count": 13,
      "outputs": [
        {
          "output_type": "stream",
          "text": [
            "Nama saya Umar\n",
            "N\n",
            "r\n",
            " sa\n",
            "Nama\n"
          ],
          "name": "stdout"
        }
      ]
    },
    {
      "cell_type": "code",
      "metadata": {
        "id": "K7sfR8IgjUR4"
      },
      "source": [
        ">>> lst = [1, 'dua', 3.0]\n"
      ],
      "execution_count": null,
      "outputs": []
    },
    {
      "cell_type": "code",
      "metadata": {
        "colab": {
          "base_uri": "https://localhost:8080/"
        },
        "id": "ZxI6da9QjUxL",
        "outputId": "9af07717-f23d-4f5b-82fa-e34dffc889b4"
      },
      "source": [
        "a = [5,10,15,20,25,30,35,40]\n",
        "# a[2] = 15\n",
        "print(\"a[2] = \", a[2])\n",
        "# a[0:3] = [5, 10, 15]\n",
        "print(\"a[0:3] = \", a[0:3])\n",
        "# a[5:] = [30, 35, 40]\n",
        "print(\"a[5:] = \", a[5:])\n"
      ],
      "execution_count": 14,
      "outputs": [
        {
          "output_type": "stream",
          "text": [
            "a[2] =  15\n",
            "a[0:3] =  [5, 10, 15]\n",
            "a[5:] =  [30, 35, 40]\n"
          ],
          "name": "stdout"
        }
      ]
    },
    {
      "cell_type": "code",
      "metadata": {
        "colab": {
          "base_uri": "https://localhost:8080/",
          "height": 250
        },
        "id": "1FZpm1PpjkBP",
        "outputId": "c22788d7-1dc7-4492-9f93-f10d77bde9c5"
      },
      "source": [
        "white = (255,255, 255)\n",
        "red = (255,0,0)\n",
        "print(white)\n",
        "print(red[0])\n",
        "print(red[1])\n",
        "# akan menghasilkan error\n",
        "# tuple bersifat immutable\n",
        "red[0] = 128\n"
      ],
      "execution_count": 15,
      "outputs": [
        {
          "output_type": "stream",
          "text": [
            "(255, 255, 255)\n",
            "255\n",
            "0\n"
          ],
          "name": "stdout"
        },
        {
          "output_type": "error",
          "ename": "TypeError",
          "evalue": "ignored",
          "traceback": [
            "\u001b[0;31m---------------------------------------------------------------------------\u001b[0m",
            "\u001b[0;31mTypeError\u001b[0m                                 Traceback (most recent call last)",
            "\u001b[0;32m<ipython-input-15-cae886dfc4d0>\u001b[0m in \u001b[0;36m<module>\u001b[0;34m()\u001b[0m\n\u001b[1;32m      6\u001b[0m \u001b[0;31m# akan menghasilkan error\u001b[0m\u001b[0;34m\u001b[0m\u001b[0;34m\u001b[0m\u001b[0;34m\u001b[0m\u001b[0m\n\u001b[1;32m      7\u001b[0m \u001b[0;31m# tuple bersifat immutable\u001b[0m\u001b[0;34m\u001b[0m\u001b[0;34m\u001b[0m\u001b[0;34m\u001b[0m\u001b[0m\n\u001b[0;32m----> 8\u001b[0;31m \u001b[0mred\u001b[0m\u001b[0;34m[\u001b[0m\u001b[0;36m0\u001b[0m\u001b[0;34m]\u001b[0m \u001b[0;34m=\u001b[0m \u001b[0;36m128\u001b[0m\u001b[0;34m\u001b[0m\u001b[0;34m\u001b[0m\u001b[0m\n\u001b[0m",
            "\u001b[0;31mTypeError\u001b[0m: 'tuple' object does not support item assignment"
          ]
        }
      ]
    },
    {
      "cell_type": "code",
      "metadata": {
        "colab": {
          "base_uri": "https://localhost:8080/",
          "height": 267
        },
        "id": "2TxXYv6ejy6i",
        "outputId": "4787a502-1cda-4bce-dbad-feef5f7a7014"
      },
      "source": [
        "# set integer \n",
        "my_set = {1,2,3} \n",
        "print(my_set) \n",
        "# set dengan menggunakan fungsi set() \n",
        "my_set = set([1,2,3]) \n",
        "print(my_set) \n",
        "# set data campuran \n",
        "my_set = {1, 2.0, \"Python\", (3,4,5)} \n",
        "print(my_set) \n",
        "# bila kita mengisi duplikasi, set akan menghilangkan salah satu \n",
        "# output: {1,2,3} \n",
        "my_set = {1,2,2,3,3,3} \n",
        "print(my_set) \n",
        "# set tidak bisa berisi anggota list \n",
        "# contoh berikut akan muncul error TypeError \n",
        "my_set = {1,2,[3,4,5]}"
      ],
      "execution_count": 16,
      "outputs": [
        {
          "output_type": "stream",
          "text": [
            "{1, 2, 3}\n",
            "{1, 2, 3}\n",
            "{1, 2.0, (3, 4, 5), 'Python'}\n",
            "{1, 2, 3}\n"
          ],
          "name": "stdout"
        },
        {
          "output_type": "error",
          "ename": "TypeError",
          "evalue": "ignored",
          "traceback": [
            "\u001b[0;31m---------------------------------------------------------------------------\u001b[0m",
            "\u001b[0;31mTypeError\u001b[0m                                 Traceback (most recent call last)",
            "\u001b[0;32m<ipython-input-16-959f6d69e1ca>\u001b[0m in \u001b[0;36m<module>\u001b[0;34m()\u001b[0m\n\u001b[1;32m     14\u001b[0m \u001b[0;31m# set tidak bisa berisi anggota list\u001b[0m\u001b[0;34m\u001b[0m\u001b[0;34m\u001b[0m\u001b[0;34m\u001b[0m\u001b[0m\n\u001b[1;32m     15\u001b[0m \u001b[0;31m# contoh berikut akan muncul error TypeError\u001b[0m\u001b[0;34m\u001b[0m\u001b[0;34m\u001b[0m\u001b[0;34m\u001b[0m\u001b[0m\n\u001b[0;32m---> 16\u001b[0;31m \u001b[0mmy_set\u001b[0m \u001b[0;34m=\u001b[0m \u001b[0;34m{\u001b[0m\u001b[0;36m1\u001b[0m\u001b[0;34m,\u001b[0m\u001b[0;36m2\u001b[0m\u001b[0;34m,\u001b[0m\u001b[0;34m[\u001b[0m\u001b[0;36m3\u001b[0m\u001b[0;34m,\u001b[0m\u001b[0;36m4\u001b[0m\u001b[0;34m,\u001b[0m\u001b[0;36m5\u001b[0m\u001b[0;34m]\u001b[0m\u001b[0;34m}\u001b[0m\u001b[0;34m\u001b[0m\u001b[0;34m\u001b[0m\u001b[0m\n\u001b[0m",
            "\u001b[0;31mTypeError\u001b[0m: unhashable type: 'list'"
          ]
        }
      ]
    },
    {
      "cell_type": "code",
      "metadata": {
        "colab": {
          "base_uri": "https://localhost:8080/",
          "height": 233
        },
        "id": "HlRm1KC3kAl7",
        "outputId": "e8a672ce-ffb0-4425-d856-2c1a47b544a5"
      },
      "source": [
        "d = {1:'satu', 2:'dua', 'tiga':3}\n",
        "print(tipe(d))\n",
        "print(\"d[1] = \", d[1])\n",
        "print(\"d['tiga'] = \", d['tiga'])\n",
        "# Error\n",
        "print(\"d[3] = \", d[3])\n"
      ],
      "execution_count": 17,
      "outputs": [
        {
          "output_type": "error",
          "ename": "NameError",
          "evalue": "ignored",
          "traceback": [
            "\u001b[0;31m---------------------------------------------------------------------------\u001b[0m",
            "\u001b[0;31mNameError\u001b[0m                                 Traceback (most recent call last)",
            "\u001b[0;32m<ipython-input-17-d6da757d5e0e>\u001b[0m in \u001b[0;36m<module>\u001b[0;34m()\u001b[0m\n\u001b[1;32m      1\u001b[0m \u001b[0md\u001b[0m \u001b[0;34m=\u001b[0m \u001b[0;34m{\u001b[0m\u001b[0;36m1\u001b[0m\u001b[0;34m:\u001b[0m\u001b[0;34m'satu'\u001b[0m\u001b[0;34m,\u001b[0m \u001b[0;36m2\u001b[0m\u001b[0;34m:\u001b[0m\u001b[0;34m'dua'\u001b[0m\u001b[0;34m,\u001b[0m \u001b[0;34m'tiga'\u001b[0m\u001b[0;34m:\u001b[0m\u001b[0;36m3\u001b[0m\u001b[0;34m}\u001b[0m\u001b[0;34m\u001b[0m\u001b[0;34m\u001b[0m\u001b[0m\n\u001b[0;32m----> 2\u001b[0;31m \u001b[0mprint\u001b[0m\u001b[0;34m(\u001b[0m\u001b[0mtipe\u001b[0m\u001b[0;34m(\u001b[0m\u001b[0md\u001b[0m\u001b[0;34m)\u001b[0m\u001b[0;34m)\u001b[0m\u001b[0;34m\u001b[0m\u001b[0;34m\u001b[0m\u001b[0m\n\u001b[0m\u001b[1;32m      3\u001b[0m \u001b[0mprint\u001b[0m\u001b[0;34m(\u001b[0m\u001b[0;34m\"d[1] = \"\u001b[0m\u001b[0;34m,\u001b[0m \u001b[0md\u001b[0m\u001b[0;34m[\u001b[0m\u001b[0;36m1\u001b[0m\u001b[0;34m]\u001b[0m\u001b[0;34m)\u001b[0m\u001b[0;34m\u001b[0m\u001b[0;34m\u001b[0m\u001b[0m\n\u001b[1;32m      4\u001b[0m \u001b[0mprint\u001b[0m\u001b[0;34m(\u001b[0m\u001b[0;34m\"d['tiga'] = \"\u001b[0m\u001b[0;34m,\u001b[0m \u001b[0md\u001b[0m\u001b[0;34m[\u001b[0m\u001b[0;34m'tiga'\u001b[0m\u001b[0;34m]\u001b[0m\u001b[0;34m)\u001b[0m\u001b[0;34m\u001b[0m\u001b[0;34m\u001b[0m\u001b[0m\n\u001b[1;32m      5\u001b[0m \u001b[0;31m# Error\u001b[0m\u001b[0;34m\u001b[0m\u001b[0;34m\u001b[0m\u001b[0;34m\u001b[0m\u001b[0m\n",
            "\u001b[0;31mNameError\u001b[0m: name 'tipe' is not defined"
          ]
        }
      ]
    },
    {
      "cell_type": "markdown",
      "metadata": {
        "id": "-uVpf2l8kQv8"
      },
      "source": [
        "Percabangan\n"
      ]
    },
    {
      "cell_type": "code",
      "metadata": {
        "id": "SDmNSAeZkR0i"
      },
      "source": [
        "if tes kondisi:\n",
        " blok pernyataan if\n"
      ],
      "execution_count": null,
      "outputs": []
    },
    {
      "cell_type": "code",
      "metadata": {
        "colab": {
          "base_uri": "https://localhost:8080/"
        },
        "id": "SsFhFaFqkhdY",
        "outputId": "a4a289cb-f02f-4a59-8eba-36a933225bdf"
      },
      "source": [
        "# Bila bilangan positif, tampilkan pesan\n",
        "angka = 5\n",
        "if angka > 0:\n",
        " print(angka, \"adalah bilangan positif.\")\n",
        "angka = -1\n",
        "# yang berikut akan bernilai False sehingga tidak dieksekusi\n",
        "if angka > 0:\n",
        " print(angka, \"adalah bilangan positif.\")\n"
      ],
      "execution_count": 18,
      "outputs": [
        {
          "output_type": "stream",
          "text": [
            "5 adalah bilangan positif.\n"
          ],
          "name": "stdout"
        }
      ]
    },
    {
      "cell_type": "code",
      "metadata": {
        "id": "vRRwQ0sekxQk"
      },
      "source": [
        "if tes kondisi:\n",
        " blok pernyataan if\n",
        "else:\n",
        " blok pernyataan else\n"
      ],
      "execution_count": null,
      "outputs": []
    },
    {
      "cell_type": "code",
      "metadata": {
        "colab": {
          "base_uri": "https://localhost:8080/"
        },
        "id": "ObDYWf8Ukx5V",
        "outputId": "fddd1baf-ec67-4b56-a9dc-8bb7569240e3"
      },
      "source": [
        "# Program menguji apakah sebuah bilangan positif atau negatif\n",
        "# dan menampilkan pesan ke monitor\n",
        "bilangan = 5\n",
        "# coba juga mengubah bilangan menjadi bilangan = -1\n",
        "# dan perhatikan hasilnya\n",
        "if bilangan >= 0:\n",
        "  print(\"Positif atau Nol\")\n",
        "else:\n",
        "  print(\"Bilangan negatif\")"
      ],
      "execution_count": 19,
      "outputs": [
        {
          "output_type": "stream",
          "text": [
            "Positif atau Nol\n"
          ],
          "name": "stdout"
        }
      ]
    },
    {
      "cell_type": "code",
      "metadata": {
        "id": "AXlwndA-lRVZ"
      },
      "source": [
        "if tes kondisi:\n",
        " blok pernyataan if\n",
        "elif tes kondisi:\n",
        " blok pernyataan elif\n",
        "else:\n",
        " blok pernyataan else"
      ],
      "execution_count": null,
      "outputs": []
    },
    {
      "cell_type": "code",
      "metadata": {
        "colab": {
          "base_uri": "https://localhost:8080/"
        },
        "id": "sbDNnqjelGrg",
        "outputId": "8e1706e7-d7bd-4a79-8d39-df0577fc5a4e"
      },
      "source": [
        "# Di sini kita menguji apakah sebuah bilangan\n",
        "# adalah bilangan positif, nol, atau negatif\n",
        "# dan menampilkan hasilnya ke layar\n",
        "bilangan = 5.5\n",
        "# Coba juga mengganti bilangan jadi\n",
        "# bilangan = 0\n",
        "# bilangan = -5.5\n",
        "if bilangan > 0:\n",
        " print(\"Bilangan positif\")\n",
        "elif bilangan == 0:\n",
        " print(\"Nol\")"
      ],
      "execution_count": 21,
      "outputs": [
        {
          "output_type": "stream",
          "text": [
            "Bilangan positif\n"
          ],
          "name": "stdout"
        }
      ]
    },
    {
      "cell_type": "markdown",
      "metadata": {
        "id": "9yp20EdPljpM"
      },
      "source": [
        "Perulangan"
      ]
    },
    {
      "cell_type": "code",
      "metadata": {
        "id": "fHG9dYCOlkwR"
      },
      "source": [
        "for var in sequence:\n",
        " body of for"
      ],
      "execution_count": null,
      "outputs": []
    },
    {
      "cell_type": "code",
      "metadata": {
        "colab": {
          "base_uri": "https://localhost:8080/"
        },
        "id": "dVOKAgx0llX2",
        "outputId": "e28323e4-8b13-48c0-a098-b73d70b90960"
      },
      "source": [
        "# Program untuk menemukan jumlah bilangan dalam satu list\n",
        "# List number\n",
        "numbers = [7, 5, 9, 8, 4, 2, 6, 4, 1]\n",
        "# variablel untuk menyimpan jumlah\n",
        "sum = 0\n",
        "# iterasi\n",
        "for each in numbers:\n",
        " sum = sum + each\n",
        "# Output: Jumlah semuanya: 46\n",
        "print(\"Jumlah semuanya:\", sum)\n"
      ],
      "execution_count": 22,
      "outputs": [
        {
          "output_type": "stream",
          "text": [
            "Jumlah semuanya: 46\n"
          ],
          "name": "stdout"
        }
      ]
    },
    {
      "cell_type": "code",
      "metadata": {
        "colab": {
          "base_uri": "https://localhost:8080/"
        },
        "id": "dXrVZ8Cpl6jF",
        "outputId": "8e979231-4b2b-490c-9626-b88fc8da3c0f"
      },
      "source": [
        "# Output: range(0,10)\n",
        "print(range(10))\n",
        "\n"
      ],
      "execution_count": 24,
      "outputs": [
        {
          "output_type": "stream",
          "text": [
            "range(0, 10)\n"
          ],
          "name": "stdout"
        }
      ]
    },
    {
      "cell_type": "code",
      "metadata": {
        "id": "COYjot8nmAXQ"
      },
      "source": [
        "# Output: [0, 1, 2, 3, 4, 5, 6, 7, 8, 9]\n",
        "print(list(range(10))\n",
        "# Output: [2, 3, 4, 5, 6, 7]\n",
        "print(list(range(2,8))\n",
        "# Output: [2, 5, 8, 11, 14, 17]\n",
        "print(list(range(2, 20, 3))"
      ],
      "execution_count": null,
      "outputs": []
    },
    {
      "cell_type": "code",
      "metadata": {
        "colab": {
          "base_uri": "https://localhost:8080/"
        },
        "id": "S4QBiQMWmBHH",
        "outputId": "3ac4df92-0587-49e7-a270-34d4934dd136"
      },
      "source": [
        "# Program untuk iterasi list menggunakan pengindeksan\n",
        "mapel = ['matematika', 'fisika', 'kimia']\n",
        "# iterasi list menggunakan indeks\n",
        "for i in range(len(mapel)):\n",
        " print(\"Saya suka\", mapel[i])\n"
      ],
      "execution_count": 25,
      "outputs": [
        {
          "output_type": "stream",
          "text": [
            "Saya suka matematika\n",
            "Saya suka fisika\n",
            "Saya suka kimia\n"
          ],
          "name": "stdout"
        }
      ]
    },
    {
      "cell_type": "code",
      "metadata": {
        "id": "5fzojLoEmL8o"
      },
      "source": [
        "while expression:\n",
        " statement (s)\n"
      ],
      "execution_count": null,
      "outputs": []
    },
    {
      "cell_type": "code",
      "metadata": {
        "colab": {
          "base_uri": "https://localhost:8080/"
        },
        "id": "SG_qQTD0mMn8",
        "outputId": "55f3b4a6-dcff-4a31-ebe4-6d37cee14fc2"
      },
      "source": [
        "count = 0\n",
        "while (count < 5):\n",
        " print('The count is:', count)\n",
        " count = count + 1\n",
        "print('Good bye!')\n"
      ],
      "execution_count": 26,
      "outputs": [
        {
          "output_type": "stream",
          "text": [
            "The count is: 0\n",
            "The count is: 1\n",
            "The count is: 2\n",
            "The count is: 3\n",
            "The count is: 4\n",
            "Good bye!\n"
          ],
          "name": "stdout"
        }
      ]
    },
    {
      "cell_type": "code",
      "metadata": {
        "colab": {
          "base_uri": "https://localhost:8080/",
          "height": 1000
        },
        "id": "CqWVblttm8j5",
        "outputId": "6633ede1-32f2-4b77-f92b-041d93b665b3"
      },
      "source": [
        "count = 0\n",
        "while (count < 5):\n",
        " print('The count is:', count)\n",
        "print('Good bye!')"
      ],
      "execution_count": 28,
      "outputs": [
        {
          "output_type": "stream",
          "text": [
            "\u001b[1;30;43mStreaming output truncated to the last 5000 lines.\u001b[0m\n",
            "The count is: 0\n",
            "The count is: 0\n",
            "The count is: 0\n",
            "The count is: 0\n",
            "The count is: 0\n",
            "The count is: 0\n",
            "The count is: 0\n",
            "The count is: 0\n",
            "The count is: 0\n",
            "The count is: 0\n",
            "The count is: 0\n",
            "The count is: 0\n",
            "The count is: 0\n",
            "The count is: 0\n",
            "The count is: 0\n",
            "The count is: 0\n",
            "The count is: 0\n",
            "The count is: 0\n",
            "The count is: 0\n",
            "The count is: 0\n",
            "The count is: 0\n",
            "The count is: 0\n",
            "The count is: 0\n",
            "The count is: 0\n",
            "The count is: 0\n",
            "The count is: 0\n",
            "The count is: 0\n",
            "The count is: 0\n",
            "The count is: 0\n",
            "The count is: 0\n",
            "The count is: 0\n",
            "The count is: 0\n",
            "The count is: 0\n",
            "The count is: 0\n",
            "The count is: 0\n",
            "The count is: 0\n",
            "The count is: 0\n",
            "The count is: 0\n",
            "The count is: 0\n",
            "The count is: 0\n",
            "The count is: 0\n",
            "The count is: 0\n",
            "The count is: 0\n",
            "The count is: 0\n",
            "The count is: 0\n",
            "The count is: 0\n",
            "The count is: 0\n",
            "The count is: 0\n",
            "The count is: 0\n",
            "The count is: 0\n",
            "The count is: 0\n",
            "The count is: 0\n",
            "The count is: 0\n",
            "The count is: 0\n",
            "The count is: 0\n",
            "The count is: 0\n",
            "The count is: 0\n",
            "The count is: 0\n",
            "The count is: 0\n",
            "The count is: 0\n",
            "The count is: 0\n",
            "The count is: 0\n",
            "The count is: 0\n",
            "The count is: 0\n",
            "The count is: 0\n",
            "The count is: 0\n",
            "The count is: 0\n",
            "The count is: 0\n",
            "The count is: 0\n",
            "The count is: 0\n",
            "The count is: 0\n",
            "The count is: 0\n",
            "The count is: 0\n",
            "The count is: 0\n",
            "The count is: 0\n",
            "The count is: 0\n",
            "The count is: 0\n",
            "The count is: 0\n",
            "The count is: 0\n",
            "The count is: 0\n",
            "The count is: 0\n",
            "The count is: 0\n",
            "The count is: 0\n",
            "The count is: 0\n",
            "The count is: 0\n",
            "The count is: 0\n",
            "The count is: 0\n",
            "The count is: 0\n",
            "The count is: 0\n",
            "The count is: 0\n",
            "The count is: 0\n",
            "The count is: 0\n",
            "The count is: 0\n",
            "The count is: 0\n",
            "The count is: 0\n",
            "The count is: 0\n",
            "The count is: 0\n",
            "The count is: 0\n",
            "The count is: 0\n",
            "The count is: 0\n",
            "The count is: 0\n",
            "The count is: 0\n",
            "The count is: 0\n",
            "The count is: 0\n",
            "The count is: 0\n",
            "The count is: 0\n",
            "The count is: 0\n",
            "The count is: 0\n",
            "The count is: 0\n",
            "The count is: 0\n",
            "The count is: 0\n",
            "The count is: 0\n",
            "The count is: 0\n",
            "The count is: 0\n",
            "The count is: 0\n",
            "The count is: 0\n",
            "The count is: 0\n",
            "The count is: 0\n",
            "The count is: 0\n",
            "The count is: 0\n",
            "The count is: 0\n",
            "The count is: 0\n",
            "The count is: 0\n",
            "The count is: 0\n",
            "The count is: 0\n",
            "The count is: 0\n",
            "The count is: 0\n",
            "The count is: 0\n",
            "The count is: 0\n",
            "The count is: 0\n",
            "The count is: 0\n",
            "The count is: 0\n",
            "The count is: 0\n",
            "The count is: 0\n",
            "The count is: 0\n",
            "The count is: 0\n",
            "The count is: 0\n",
            "The count is: 0\n",
            "The count is: 0\n",
            "The count is: 0\n",
            "The count is: 0\n",
            "The count is: 0\n",
            "The count is: 0\n",
            "The count is: 0\n",
            "The count is: 0\n",
            "The count is: 0\n",
            "The count is: 0\n",
            "The count is: 0\n",
            "The count is: 0\n",
            "The count is: 0\n",
            "The count is: 0\n",
            "The count is: 0\n",
            "The count is: 0\n",
            "The count is: 0\n",
            "The count is: 0\n",
            "The count is: 0\n",
            "The count is: 0\n",
            "The count is: 0\n",
            "The count is: 0\n",
            "The count is: 0\n",
            "The count is: 0\n",
            "The count is: 0\n",
            "The count is: 0\n",
            "The count is: 0\n",
            "The count is: 0\n",
            "The count is: 0\n",
            "The count is: 0\n",
            "The count is: 0\n",
            "The count is: 0\n",
            "The count is: 0\n",
            "The count is: 0\n",
            "The count is: 0\n",
            "The count is: 0\n",
            "The count is: 0\n",
            "The count is: 0\n",
            "The count is: 0\n",
            "The count is: 0\n",
            "The count is: 0\n",
            "The count is: 0\n",
            "The count is: 0\n",
            "The count is: 0\n",
            "The count is: 0\n",
            "The count is: 0\n",
            "The count is: 0\n",
            "The count is: 0\n",
            "The count is: 0\n",
            "The count is: 0\n",
            "The count is: 0\n",
            "The count is: 0\n",
            "The count is: 0\n",
            "The count is: 0\n",
            "The count is: 0\n",
            "The count is: 0\n",
            "The count is: 0\n",
            "The count is: 0\n",
            "The count is: 0\n",
            "The count is: 0\n",
            "The count is: 0\n",
            "The count is: 0\n",
            "The count is: 0\n",
            "The count is: 0\n",
            "The count is: 0\n",
            "The count is: 0\n",
            "The count is: 0\n",
            "The count is: 0\n",
            "The count is: 0\n",
            "The count is: 0\n",
            "The count is: 0\n",
            "The count is: 0\n",
            "The count is: 0\n",
            "The count is: 0\n",
            "The count is: 0\n",
            "The count is: 0\n",
            "The count is: 0\n",
            "The count is: 0\n",
            "The count is: 0\n",
            "The count is: 0\n",
            "The count is: 0\n",
            "The count is: 0\n",
            "The count is: 0\n",
            "The count is: 0\n",
            "The count is: 0\n",
            "The count is: 0\n",
            "The count is: 0\n",
            "The count is: 0\n",
            "The count is: 0\n",
            "The count is: 0\n",
            "The count is: 0\n",
            "The count is: 0\n",
            "The count is: 0\n",
            "The count is: 0\n",
            "The count is: 0\n",
            "The count is: 0\n",
            "The count is: 0\n",
            "The count is: 0\n",
            "The count is: 0\n",
            "The count is: 0\n",
            "The count is: 0\n",
            "The count is: 0\n",
            "The count is: 0\n",
            "The count is: 0\n",
            "The count is: 0\n",
            "The count is: 0\n",
            "The count is: 0\n",
            "The count is: 0\n",
            "The count is: 0\n",
            "The count is: 0\n",
            "The count is: 0\n",
            "The count is: 0\n",
            "The count is: 0\n",
            "The count is: 0\n",
            "The count is: 0\n",
            "The count is: 0\n",
            "The count is: 0\n",
            "The count is: 0\n",
            "The count is: 0\n",
            "The count is: 0\n",
            "The count is: 0\n",
            "The count is: 0\n",
            "The count is: 0\n",
            "The count is: 0\n",
            "The count is: 0\n",
            "The count is: 0\n",
            "The count is: 0\n",
            "The count is: 0\n",
            "The count is: 0\n",
            "The count is: 0\n",
            "The count is: 0\n",
            "The count is: 0\n",
            "The count is: 0\n",
            "The count is: 0\n",
            "The count is: 0\n",
            "The count is: 0\n",
            "The count is: 0\n",
            "The count is: 0\n",
            "The count is: 0\n",
            "The count is: 0\n",
            "The count is: 0\n",
            "The count is: 0\n",
            "The count is: 0\n",
            "The count is: 0\n",
            "The count is: 0\n",
            "The count is: 0\n",
            "The count is: 0\n",
            "The count is: 0\n",
            "The count is: 0\n",
            "The count is: 0\n",
            "The count is: 0\n",
            "The count is: 0\n",
            "The count is: 0\n",
            "The count is: 0\n",
            "The count is: 0\n",
            "The count is: 0\n",
            "The count is: 0\n",
            "The count is: 0\n",
            "The count is: 0\n",
            "The count is: 0\n",
            "The count is: 0\n",
            "The count is: 0\n",
            "The count is: 0\n",
            "The count is: 0\n",
            "The count is: 0\n",
            "The count is: 0\n",
            "The count is: 0\n",
            "The count is: 0\n",
            "The count is: 0\n",
            "The count is: 0\n",
            "The count is: 0\n",
            "The count is: 0\n",
            "The count is: 0\n",
            "The count is: 0\n",
            "The count is: 0\n",
            "The count is: 0\n",
            "The count is: 0\n",
            "The count is: 0\n",
            "The count is: 0\n",
            "The count is: 0\n",
            "The count is: 0\n",
            "The count is: 0\n",
            "The count is: 0\n",
            "The count is: 0\n",
            "The count is: 0\n",
            "The count is: 0\n",
            "The count is: 0\n",
            "The count is: 0\n",
            "The count is: 0\n",
            "The count is: 0\n",
            "The count is: 0\n",
            "The count is: 0\n",
            "The count is: 0\n",
            "The count is: 0\n",
            "The count is: 0\n",
            "The count is: 0\n",
            "The count is: 0\n",
            "The count is: 0\n",
            "The count is: 0\n",
            "The count is: 0\n",
            "The count is: 0\n",
            "The count is: 0\n",
            "The count is: 0\n",
            "The count is: 0\n",
            "The count is: 0\n",
            "The count is: 0\n",
            "The count is: 0\n",
            "The count is: 0\n",
            "The count is: 0\n",
            "The count is: 0\n",
            "The count is: 0\n",
            "The count is: 0\n",
            "The count is: 0\n",
            "The count is: 0\n",
            "The count is: 0\n",
            "The count is: 0\n",
            "The count is: 0\n",
            "The count is: 0\n",
            "The count is: 0\n",
            "The count is: 0\n",
            "The count is: 0\n",
            "The count is: 0\n",
            "The count is: 0\n",
            "The count is: 0\n",
            "The count is: 0\n",
            "The count is: 0\n",
            "The count is: 0\n",
            "The count is: 0\n",
            "The count is: 0\n",
            "The count is: 0\n",
            "The count is: 0\n",
            "The count is: 0\n",
            "The count is: 0\n",
            "The count is: 0\n",
            "The count is: 0\n",
            "The count is: 0\n",
            "The count is: 0\n",
            "The count is: 0\n",
            "The count is: 0\n",
            "The count is: 0\n",
            "The count is: 0\n",
            "The count is: 0\n",
            "The count is: 0\n",
            "The count is: 0\n",
            "The count is: 0\n",
            "The count is: 0\n",
            "The count is: 0\n",
            "The count is: 0\n",
            "The count is: 0\n",
            "The count is: 0\n",
            "The count is: 0\n",
            "The count is: 0\n",
            "The count is: 0\n",
            "The count is: 0\n",
            "The count is: 0\n",
            "The count is: 0\n",
            "The count is: 0\n",
            "The count is: 0\n",
            "The count is: 0\n",
            "The count is: 0\n",
            "The count is: 0\n",
            "The count is: 0\n",
            "The count is: 0\n",
            "The count is: 0\n",
            "The count is: 0\n",
            "The count is: 0\n",
            "The count is: 0\n",
            "The count is: 0\n",
            "The count is: 0\n",
            "The count is: 0\n",
            "The count is: 0\n",
            "The count is: 0\n",
            "The count is: 0\n",
            "The count is: 0\n",
            "The count is: 0\n",
            "The count is: 0\n",
            "The count is: 0\n",
            "The count is: 0\n",
            "The count is: 0\n",
            "The count is: 0\n",
            "The count is: 0\n",
            "The count is: 0\n",
            "The count is: 0\n",
            "The count is: 0\n",
            "The count is: 0\n",
            "The count is: 0\n",
            "The count is: 0\n",
            "The count is: 0\n",
            "The count is: 0\n",
            "The count is: 0\n",
            "The count is: 0\n",
            "The count is: 0\n",
            "The count is: 0\n",
            "The count is: 0\n",
            "The count is: 0\n",
            "The count is: 0\n",
            "The count is: 0\n",
            "The count is: 0\n",
            "The count is: 0\n",
            "The count is: 0\n",
            "The count is: 0\n",
            "The count is: 0\n",
            "The count is: 0\n",
            "The count is: 0\n",
            "The count is: 0\n",
            "The count is: 0\n",
            "The count is: 0\n",
            "The count is: 0\n",
            "The count is: 0\n",
            "The count is: 0\n",
            "The count is: 0\n",
            "The count is: 0\n",
            "The count is: 0\n",
            "The count is: 0\n",
            "The count is: 0\n",
            "The count is: 0\n",
            "The count is: 0\n",
            "The count is: 0\n",
            "The count is: 0\n",
            "The count is: 0\n",
            "The count is: 0\n",
            "The count is: 0\n",
            "The count is: 0\n",
            "The count is: 0\n",
            "The count is: 0\n",
            "The count is: 0\n",
            "The count is: 0\n",
            "The count is: 0\n",
            "The count is: 0\n",
            "The count is: 0\n",
            "The count is: 0\n",
            "The count is: 0\n",
            "The count is: 0\n",
            "The count is: 0\n",
            "The count is: 0\n",
            "The count is: 0\n",
            "The count is: 0\n",
            "The count is: 0\n",
            "The count is: 0\n",
            "The count is: 0\n",
            "The count is: 0\n",
            "The count is: 0\n",
            "The count is: 0\n",
            "The count is: 0\n",
            "The count is: 0\n",
            "The count is: 0\n",
            "The count is: 0\n",
            "The count is: 0\n",
            "The count is: 0\n",
            "The count is: 0\n",
            "The count is: 0\n",
            "The count is: 0\n",
            "The count is: 0\n",
            "The count is: 0\n",
            "The count is: 0\n",
            "The count is: 0\n",
            "The count is: 0\n",
            "The count is: 0\n",
            "The count is: 0\n",
            "The count is: 0\n",
            "The count is: 0\n",
            "The count is: 0\n",
            "The count is: 0\n",
            "The count is: 0\n",
            "The count is: 0\n",
            "The count is: 0\n",
            "The count is: 0\n",
            "The count is: 0\n",
            "The count is: 0\n",
            "The count is: 0\n",
            "The count is: 0\n",
            "The count is: 0\n",
            "The count is: 0\n",
            "The count is: 0\n",
            "The count is: 0\n",
            "The count is: 0\n",
            "The count is: 0\n",
            "The count is: 0\n",
            "The count is: 0\n",
            "The count is: 0\n",
            "The count is: 0\n",
            "The count is: 0\n",
            "The count is: 0\n",
            "The count is: 0\n",
            "The count is: 0\n",
            "The count is: 0\n",
            "The count is: 0\n",
            "The count is: 0\n",
            "The count is: 0\n",
            "The count is: 0\n",
            "The count is: 0\n",
            "The count is: 0\n",
            "The count is: 0\n",
            "The count is: 0\n",
            "The count is: 0\n",
            "The count is: 0\n",
            "The count is: 0\n",
            "The count is: 0\n",
            "The count is: 0\n",
            "The count is: 0\n",
            "The count is: 0\n",
            "The count is: 0\n",
            "The count is: 0\n",
            "The count is: 0\n",
            "The count is: 0\n",
            "The count is: 0\n",
            "The count is: 0\n",
            "The count is: 0\n",
            "The count is: 0\n",
            "The count is: 0\n",
            "The count is: 0\n",
            "The count is: 0\n",
            "The count is: 0\n",
            "The count is: 0\n",
            "The count is: 0\n",
            "The count is: 0\n",
            "The count is: 0\n",
            "The count is: 0\n",
            "The count is: 0\n",
            "The count is: 0\n",
            "The count is: 0\n",
            "The count is: 0\n",
            "The count is: 0\n",
            "The count is: 0\n",
            "The count is: 0\n",
            "The count is: 0\n",
            "The count is: 0\n",
            "The count is: 0\n",
            "The count is: 0\n",
            "The count is: 0\n",
            "The count is: 0\n",
            "The count is: 0\n",
            "The count is: 0\n",
            "The count is: 0\n",
            "The count is: 0\n",
            "The count is: 0\n",
            "The count is: 0\n",
            "The count is: 0\n",
            "The count is: 0\n",
            "The count is: 0\n",
            "The count is: 0\n",
            "The count is: 0\n",
            "The count is: 0\n",
            "The count is: 0\n",
            "The count is: 0\n",
            "The count is: 0\n",
            "The count is: 0\n",
            "The count is: 0\n",
            "The count is: 0\n",
            "The count is: 0\n",
            "The count is: 0\n",
            "The count is: 0\n",
            "The count is: 0\n",
            "The count is: 0\n",
            "The count is: 0\n",
            "The count is: 0\n",
            "The count is: 0\n",
            "The count is: 0\n",
            "The count is: 0\n",
            "The count is: 0\n",
            "The count is: 0\n",
            "The count is: 0\n",
            "The count is: 0\n",
            "The count is: 0\n",
            "The count is: 0\n",
            "The count is: 0\n",
            "The count is: 0\n",
            "The count is: 0\n",
            "The count is: 0\n",
            "The count is: 0\n",
            "The count is: 0\n",
            "The count is: 0\n",
            "The count is: 0\n",
            "The count is: 0\n",
            "The count is: 0\n",
            "The count is: 0\n",
            "The count is: 0\n",
            "The count is: 0\n",
            "The count is: 0\n",
            "The count is: 0\n",
            "The count is: 0\n",
            "The count is: 0\n",
            "The count is: 0\n",
            "The count is: 0\n",
            "The count is: 0\n",
            "The count is: 0\n",
            "The count is: 0\n",
            "The count is: 0\n",
            "The count is: 0\n",
            "The count is: 0\n",
            "The count is: 0\n",
            "The count is: 0\n",
            "The count is: 0\n",
            "The count is: 0\n",
            "The count is: 0\n",
            "The count is: 0\n",
            "The count is: 0\n",
            "The count is: 0\n",
            "The count is: 0\n",
            "The count is: 0\n",
            "The count is: 0\n",
            "The count is: 0\n",
            "The count is: 0\n",
            "The count is: 0\n",
            "The count is: 0\n",
            "The count is: 0\n",
            "The count is: 0\n",
            "The count is: 0\n",
            "The count is: 0\n",
            "The count is: 0\n",
            "The count is: 0\n",
            "The count is: 0\n",
            "The count is: 0\n",
            "The count is: 0\n",
            "The count is: 0\n",
            "The count is: 0\n",
            "The count is: 0\n",
            "The count is: 0\n",
            "The count is: 0\n",
            "The count is: 0\n",
            "The count is: 0\n",
            "The count is: 0\n",
            "The count is: 0\n",
            "The count is: 0\n",
            "The count is: 0\n",
            "The count is: 0\n",
            "The count is: 0\n",
            "The count is: 0\n",
            "The count is: 0\n",
            "The count is: 0\n",
            "The count is: 0\n",
            "The count is: 0\n",
            "The count is: 0\n",
            "The count is: 0\n",
            "The count is: 0\n",
            "The count is: 0\n",
            "The count is: 0\n",
            "The count is: 0\n",
            "The count is: 0\n",
            "The count is: 0\n",
            "The count is: 0\n",
            "The count is: 0\n",
            "The count is: 0\n",
            "The count is: 0\n",
            "The count is: 0\n",
            "The count is: 0\n",
            "The count is: 0\n",
            "The count is: 0\n",
            "The count is: 0\n",
            "The count is: 0\n",
            "The count is: 0\n",
            "The count is: 0\n",
            "The count is: 0\n",
            "The count is: 0\n",
            "The count is: 0\n",
            "The count is: 0\n",
            "The count is: 0\n",
            "The count is: 0\n",
            "The count is: 0\n",
            "The count is: 0\n",
            "The count is: 0\n",
            "The count is: 0\n",
            "The count is: 0\n",
            "The count is: 0\n",
            "The count is: 0\n",
            "The count is: 0\n",
            "The count is: 0\n",
            "The count is: 0\n",
            "The count is: 0\n",
            "The count is: 0\n",
            "The count is: 0\n",
            "The count is: 0\n",
            "The count is: 0\n",
            "The count is: 0\n",
            "The count is: 0\n",
            "The count is: 0\n",
            "The count is: 0\n",
            "The count is: 0\n",
            "The count is: 0\n",
            "The count is: 0\n",
            "The count is: 0\n",
            "The count is: 0\n",
            "The count is: 0\n",
            "The count is: 0\n",
            "The count is: 0\n",
            "The count is: 0\n",
            "The count is: 0\n",
            "The count is: 0\n",
            "The count is: 0\n",
            "The count is: 0\n",
            "The count is: 0\n",
            "The count is: 0\n",
            "The count is: 0\n",
            "The count is: 0\n",
            "The count is: 0\n",
            "The count is: 0\n",
            "The count is: 0\n",
            "The count is: 0\n",
            "The count is: 0\n",
            "The count is: 0\n",
            "The count is: 0\n",
            "The count is: 0\n",
            "The count is: 0\n",
            "The count is: 0\n",
            "The count is: 0\n",
            "The count is: 0\n",
            "The count is: 0\n",
            "The count is: 0\n",
            "The count is: 0\n",
            "The count is: 0\n",
            "The count is: 0\n",
            "The count is: 0\n",
            "The count is: 0\n",
            "The count is: 0\n",
            "The count is: 0\n",
            "The count is: 0\n",
            "The count is: 0\n",
            "The count is: 0\n",
            "The count is: 0\n",
            "The count is: 0\n",
            "The count is: 0\n",
            "The count is: 0\n",
            "The count is: 0\n",
            "The count is: 0\n",
            "The count is: 0\n",
            "The count is: 0\n",
            "The count is: 0\n",
            "The count is: 0\n",
            "The count is: 0\n",
            "The count is: 0\n",
            "The count is: 0\n",
            "The count is: 0\n",
            "The count is: 0\n",
            "The count is: 0\n",
            "The count is: 0\n",
            "The count is: 0\n",
            "The count is: 0\n",
            "The count is: 0\n",
            "The count is: 0\n",
            "The count is: 0\n",
            "The count is: 0\n",
            "The count is: 0\n",
            "The count is: 0\n",
            "The count is: 0\n",
            "The count is: 0\n",
            "The count is: 0\n",
            "The count is: 0\n",
            "The count is: 0\n",
            "The count is: 0\n",
            "The count is: 0\n",
            "The count is: 0\n",
            "The count is: 0\n",
            "The count is: 0\n",
            "The count is: 0\n",
            "The count is: 0\n",
            "The count is: 0\n",
            "The count is: 0\n",
            "The count is: 0\n",
            "The count is: 0\n",
            "The count is: 0\n",
            "The count is: 0\n",
            "The count is: 0\n",
            "The count is: 0\n",
            "The count is: 0\n",
            "The count is: 0\n",
            "The count is: 0\n",
            "The count is: 0\n",
            "The count is: 0\n",
            "The count is: 0\n",
            "The count is: 0\n",
            "The count is: 0\n",
            "The count is: 0\n",
            "The count is: 0\n",
            "The count is: 0\n",
            "The count is: 0\n",
            "The count is: 0\n",
            "The count is: 0\n",
            "The count is: 0\n",
            "The count is: 0\n",
            "The count is: 0\n",
            "The count is: 0\n",
            "The count is: 0\n",
            "The count is: 0\n",
            "The count is: 0\n",
            "The count is: 0\n",
            "The count is: 0\n",
            "The count is: 0\n",
            "The count is: 0\n",
            "The count is: 0\n",
            "The count is: 0\n",
            "The count is: 0\n",
            "The count is: 0\n",
            "The count is: 0\n",
            "The count is: 0\n",
            "The count is: 0\n",
            "The count is: 0\n",
            "The count is: 0\n",
            "The count is: 0\n",
            "The count is: 0\n",
            "The count is: 0\n",
            "The count is: 0\n",
            "The count is: 0\n",
            "The count is: 0\n",
            "The count is: 0\n",
            "The count is: 0\n",
            "The count is: 0\n",
            "The count is: 0\n",
            "The count is: 0\n",
            "The count is: 0\n",
            "The count is: 0\n",
            "The count is: 0\n",
            "The count is: 0\n",
            "The count is: 0\n",
            "The count is: 0\n",
            "The count is: 0\n",
            "The count is: 0\n",
            "The count is: 0\n",
            "The count is: 0\n",
            "The count is: 0\n",
            "The count is: 0\n",
            "The count is: 0\n",
            "The count is: 0\n",
            "The count is: 0\n",
            "The count is: 0\n",
            "The count is: 0\n",
            "The count is: 0\n",
            "The count is: 0\n",
            "The count is: 0\n",
            "The count is: 0\n",
            "The count is: 0\n",
            "The count is: 0\n",
            "The count is: 0\n",
            "The count is: 0\n",
            "The count is: 0\n",
            "The count is: 0\n",
            "The count is: 0\n",
            "The count is: 0\n",
            "The count is: 0\n",
            "The count is: 0\n",
            "The count is: 0\n",
            "The count is: 0\n",
            "The count is: 0\n",
            "The count is: 0\n",
            "The count is: 0\n",
            "The count is: 0\n",
            "The count is: 0\n",
            "The count is: 0\n",
            "The count is: 0\n",
            "The count is: 0\n",
            "The count is: 0\n",
            "The count is: 0\n",
            "The count is: 0\n",
            "The count is: 0\n",
            "The count is: 0\n",
            "The count is: 0\n",
            "The count is: 0\n",
            "The count is: 0\n",
            "The count is: 0\n",
            "The count is: 0\n",
            "The count is: 0\n",
            "The count is: 0\n",
            "The count is: 0\n",
            "The count is: 0\n",
            "The count is: 0\n",
            "The count is: 0\n",
            "The count is: 0\n",
            "The count is: 0\n",
            "The count is: 0\n",
            "The count is: 0\n",
            "The count is: 0\n",
            "The count is: 0\n",
            "The count is: 0\n",
            "The count is: 0\n",
            "The count is: 0\n",
            "The count is: 0\n",
            "The count is: 0\n",
            "The count is: 0\n",
            "The count is: 0\n",
            "The count is: 0\n",
            "The count is: 0\n",
            "The count is: 0\n",
            "The count is: 0\n",
            "The count is: 0\n",
            "The count is: 0\n",
            "The count is: 0\n",
            "The count is: 0\n",
            "The count is: 0\n",
            "The count is: 0\n",
            "The count is: 0\n",
            "The count is: 0\n",
            "The count is: 0\n",
            "The count is: 0\n",
            "The count is: 0\n",
            "The count is: 0\n",
            "The count is: 0\n",
            "The count is: 0\n",
            "The count is: 0\n",
            "The count is: 0\n",
            "The count is: 0\n",
            "The count is: 0\n",
            "The count is: 0\n",
            "The count is: 0\n",
            "The count is: 0\n",
            "The count is: 0\n",
            "The count is: 0\n",
            "The count is: 0\n",
            "The count is: 0\n",
            "The count is: 0\n",
            "The count is: 0\n",
            "The count is: 0\n",
            "The count is: 0\n",
            "The count is: 0\n",
            "The count is: 0\n",
            "The count is: 0\n",
            "The count is: 0\n",
            "The count is: 0\n",
            "The count is: 0\n",
            "The count is: 0\n",
            "The count is: 0\n",
            "The count is: 0\n",
            "The count is: 0\n",
            "The count is: 0\n",
            "The count is: 0\n",
            "The count is: 0\n",
            "The count is: 0\n",
            "The count is: 0\n",
            "The count is: 0\n",
            "The count is: 0\n",
            "The count is: 0\n",
            "The count is: 0\n",
            "The count is: 0\n",
            "The count is: 0\n",
            "The count is: 0\n",
            "The count is: 0\n",
            "The count is: 0\n",
            "The count is: 0\n",
            "The count is: 0\n",
            "The count is: 0\n",
            "The count is: 0\n",
            "The count is: 0\n",
            "The count is: 0\n",
            "The count is: 0\n",
            "The count is: 0\n",
            "The count is: 0\n",
            "The count is: 0\n",
            "The count is: 0\n",
            "The count is: 0\n",
            "The count is: 0\n",
            "The count is: 0\n",
            "The count is: 0\n",
            "The count is: 0\n",
            "The count is: 0\n",
            "The count is: 0\n",
            "The count is: 0\n",
            "The count is: 0\n",
            "The count is: 0\n",
            "The count is: 0\n",
            "The count is: 0\n",
            "The count is: 0\n",
            "The count is: 0\n",
            "The count is: 0\n",
            "The count is: 0\n",
            "The count is: 0\n",
            "The count is: 0\n",
            "The count is: 0\n",
            "The count is: 0\n",
            "The count is: 0\n",
            "The count is: 0\n",
            "The count is: 0\n",
            "The count is: 0\n",
            "The count is: 0\n",
            "The count is: 0\n",
            "The count is: 0\n",
            "The count is: 0\n",
            "The count is: 0\n",
            "The count is: 0\n",
            "The count is: 0\n",
            "The count is: 0\n",
            "The count is: 0\n",
            "The count is: 0\n",
            "The count is: 0\n",
            "The count is: 0\n",
            "The count is: 0\n",
            "The count is: 0\n",
            "The count is: 0\n",
            "The count is: 0\n",
            "The count is: 0\n",
            "The count is: 0\n",
            "The count is: 0\n",
            "The count is: 0\n",
            "The count is: 0\n",
            "The count is: 0\n",
            "The count is: 0\n",
            "The count is: 0\n",
            "The count is: 0\n",
            "The count is: 0\n",
            "The count is: 0\n",
            "The count is: 0\n",
            "The count is: 0\n",
            "The count is: 0\n",
            "The count is: 0\n",
            "The count is: 0\n",
            "The count is: 0\n",
            "The count is: 0\n",
            "The count is: 0\n",
            "The count is: 0\n",
            "The count is: 0\n",
            "The count is: 0\n",
            "The count is: 0\n",
            "The count is: 0\n",
            "The count is: 0\n",
            "The count is: 0\n",
            "The count is: 0\n",
            "The count is: 0\n",
            "The count is: 0\n",
            "The count is: 0\n",
            "The count is: 0\n",
            "The count is: 0\n",
            "The count is: 0\n",
            "The count is: 0\n",
            "The count is: 0\n",
            "The count is: 0\n",
            "The count is: 0\n",
            "The count is: 0\n",
            "The count is: 0\n",
            "The count is: 0\n",
            "The count is: 0\n",
            "The count is: 0\n",
            "The count is: 0\n",
            "The count is: 0\n",
            "The count is: 0\n",
            "The count is: 0\n",
            "The count is: 0\n",
            "The count is: 0\n",
            "The count is: 0\n",
            "The count is: 0\n",
            "The count is: 0\n",
            "The count is: 0\n",
            "The count is: 0\n",
            "The count is: 0\n",
            "The count is: 0\n",
            "The count is: 0\n",
            "The count is: 0\n",
            "The count is: 0\n",
            "The count is: 0\n",
            "The count is: 0\n",
            "The count is: 0\n",
            "The count is: 0\n",
            "The count is: 0\n",
            "The count is: 0\n",
            "The count is: 0\n",
            "The count is: 0\n",
            "The count is: 0\n",
            "The count is: 0\n",
            "The count is: 0\n",
            "The count is: 0\n",
            "The count is: 0\n",
            "The count is: 0\n",
            "The count is: 0\n",
            "The count is: 0\n",
            "The count is: 0\n",
            "The count is: 0\n",
            "The count is: 0\n",
            "The count is: 0\n",
            "The count is: 0\n",
            "The count is: 0\n",
            "The count is: 0\n",
            "The count is: 0\n",
            "The count is: 0\n",
            "The count is: 0\n",
            "The count is: 0\n",
            "The count is: 0\n",
            "The count is: 0\n",
            "The count is: 0\n",
            "The count is: 0\n",
            "The count is: 0\n",
            "The count is: 0\n",
            "The count is: 0\n",
            "The count is: 0\n",
            "The count is: 0\n",
            "The count is: 0\n",
            "The count is: 0\n",
            "The count is: 0\n",
            "The count is: 0\n",
            "The count is: 0\n",
            "The count is: 0\n",
            "The count is: 0\n",
            "The count is: 0\n",
            "The count is: 0\n",
            "The count is: 0\n",
            "The count is: 0\n",
            "The count is: 0\n",
            "The count is: 0\n",
            "The count is: 0\n",
            "The count is: 0\n",
            "The count is: 0\n",
            "The count is: 0\n",
            "The count is: 0\n",
            "The count is: 0\n",
            "The count is: 0\n",
            "The count is: 0\n",
            "The count is: 0\n",
            "The count is: 0\n",
            "The count is: 0\n",
            "The count is: 0\n",
            "The count is: 0\n",
            "The count is: 0\n",
            "The count is: 0\n",
            "The count is: 0\n",
            "The count is: 0\n",
            "The count is: 0\n",
            "The count is: 0\n",
            "The count is: 0\n",
            "The count is: 0\n",
            "The count is: 0\n",
            "The count is: 0\n",
            "The count is: 0\n",
            "The count is: 0\n",
            "The count is: 0\n",
            "The count is: 0\n",
            "The count is: 0\n",
            "The count is: 0\n",
            "The count is: 0\n",
            "The count is: 0\n",
            "The count is: 0\n",
            "The count is: 0\n",
            "The count is: 0\n",
            "The count is: 0\n",
            "The count is: 0\n",
            "The count is: 0\n",
            "The count is: 0\n",
            "The count is: 0\n",
            "The count is: 0\n",
            "The count is: 0\n",
            "The count is: 0\n",
            "The count is: 0\n",
            "The count is: 0\n",
            "The count is: 0\n",
            "The count is: 0\n",
            "The count is: 0\n",
            "The count is: 0\n",
            "The count is: 0\n",
            "The count is: 0\n",
            "The count is: 0\n",
            "The count is: 0\n",
            "The count is: 0\n",
            "The count is: 0\n",
            "The count is: 0\n",
            "The count is: 0\n",
            "The count is: 0\n",
            "The count is: 0\n",
            "The count is: 0\n",
            "The count is: 0\n",
            "The count is: 0\n",
            "The count is: 0\n",
            "The count is: 0\n",
            "The count is: 0\n",
            "The count is: 0\n",
            "The count is: 0\n",
            "The count is: 0\n",
            "The count is: 0\n",
            "The count is: 0\n",
            "The count is: 0\n",
            "The count is: 0\n",
            "The count is: 0\n",
            "The count is: 0\n",
            "The count is: 0\n",
            "The count is: 0\n",
            "The count is: 0\n",
            "The count is: 0\n",
            "The count is: 0\n",
            "The count is: 0\n",
            "The count is: 0\n",
            "The count is: 0\n",
            "The count is: 0\n",
            "The count is: 0\n",
            "The count is: 0\n",
            "The count is: 0\n",
            "The count is: 0\n",
            "The count is: 0\n",
            "The count is: 0\n",
            "The count is: 0\n",
            "The count is: 0\n",
            "The count is: 0\n",
            "The count is: 0\n",
            "The count is: 0\n",
            "The count is: 0\n",
            "The count is: 0\n",
            "The count is: 0\n",
            "The count is: 0\n",
            "The count is: 0\n",
            "The count is: 0\n",
            "The count is: 0\n",
            "The count is: 0\n",
            "The count is: 0\n",
            "The count is: 0\n",
            "The count is: 0\n",
            "The count is: 0\n",
            "The count is: 0\n",
            "The count is: 0\n",
            "The count is: 0\n",
            "The count is: 0\n",
            "The count is: 0\n",
            "The count is: 0\n",
            "The count is: 0\n",
            "The count is: 0\n",
            "The count is: 0\n",
            "The count is: 0\n",
            "The count is: 0\n",
            "The count is: 0\n",
            "The count is: 0\n",
            "The count is: 0\n",
            "The count is: 0\n",
            "The count is: 0\n",
            "The count is: 0\n",
            "The count is: 0\n",
            "The count is: 0\n",
            "The count is: 0\n",
            "The count is: 0\n",
            "The count is: 0\n",
            "The count is: 0\n",
            "The count is: 0\n",
            "The count is: 0\n",
            "The count is: 0\n",
            "The count is: 0\n",
            "The count is: 0\n",
            "The count is: 0\n",
            "The count is: 0\n",
            "The count is: 0\n",
            "The count is: 0\n",
            "The count is: 0\n",
            "The count is: 0\n",
            "The count is: 0\n",
            "The count is: 0\n",
            "The count is: 0\n",
            "The count is: 0\n",
            "The count is: 0\n",
            "The count is: 0\n",
            "The count is: 0\n",
            "The count is: 0\n",
            "The count is: 0\n",
            "The count is: 0\n",
            "The count is: 0\n",
            "The count is: 0\n",
            "The count is: 0\n",
            "The count is: 0\n",
            "The count is: 0\n",
            "The count is: 0\n",
            "The count is: 0\n",
            "The count is: 0\n",
            "The count is: 0\n",
            "The count is: 0\n",
            "The count is: 0\n",
            "The count is: 0\n",
            "The count is: 0\n",
            "The count is: 0\n",
            "The count is: 0\n",
            "The count is: 0\n",
            "The count is: 0\n",
            "The count is: 0\n",
            "The count is: 0\n",
            "The count is: 0\n",
            "The count is: 0\n",
            "The count is: 0\n",
            "The count is: 0\n",
            "The count is: 0\n",
            "The count is: 0\n",
            "The count is: 0\n",
            "The count is: 0\n",
            "The count is: 0\n",
            "The count is: 0\n",
            "The count is: 0\n",
            "The count is: 0\n",
            "The count is: 0\n",
            "The count is: 0\n",
            "The count is: 0\n",
            "The count is: 0\n",
            "The count is: 0\n",
            "The count is: 0\n",
            "The count is: 0\n",
            "The count is: 0\n",
            "The count is: 0\n",
            "The count is: 0\n",
            "The count is: 0\n",
            "The count is: 0\n",
            "The count is: 0\n",
            "The count is: 0\n",
            "The count is: 0\n",
            "The count is: 0\n",
            "The count is: 0\n",
            "The count is: 0\n",
            "The count is: 0\n",
            "The count is: 0\n",
            "The count is: 0\n",
            "The count is: 0\n",
            "The count is: 0\n",
            "The count is: 0\n",
            "The count is: 0\n",
            "The count is: 0\n",
            "The count is: 0\n",
            "The count is: 0\n",
            "The count is: 0\n",
            "The count is: 0\n",
            "The count is: 0\n",
            "The count is: 0\n",
            "The count is: 0\n",
            "The count is: 0\n",
            "The count is: 0\n",
            "The count is: 0\n",
            "The count is: 0\n",
            "The count is: 0\n",
            "The count is: 0\n",
            "The count is: 0\n",
            "The count is: 0\n",
            "The count is: 0\n",
            "The count is: 0\n",
            "The count is: 0\n",
            "The count is: 0\n",
            "The count is: 0\n",
            "The count is: 0\n",
            "The count is: 0\n",
            "The count is: 0\n",
            "The count is: 0\n",
            "The count is: 0\n",
            "The count is: 0\n",
            "The count is: 0\n",
            "The count is: 0\n",
            "The count is: 0\n",
            "The count is: 0\n",
            "The count is: 0\n",
            "The count is: 0\n",
            "The count is: 0\n",
            "The count is: 0\n",
            "The count is: 0\n",
            "The count is: 0\n",
            "The count is: 0\n",
            "The count is: 0\n",
            "The count is: 0\n",
            "The count is: 0\n",
            "The count is: 0\n",
            "The count is: 0\n",
            "The count is: 0\n",
            "The count is: 0\n",
            "The count is: 0\n",
            "The count is: 0\n",
            "The count is: 0\n",
            "The count is: 0\n",
            "The count is: 0\n",
            "The count is: 0\n",
            "The count is: 0\n",
            "The count is: 0\n",
            "The count is: 0\n",
            "The count is: 0\n",
            "The count is: 0\n",
            "The count is: 0\n",
            "The count is: 0\n",
            "The count is: 0\n",
            "The count is: 0\n",
            "The count is: 0\n",
            "The count is: 0\n",
            "The count is: 0\n",
            "The count is: 0\n",
            "The count is: 0\n",
            "The count is: 0\n",
            "The count is: 0\n",
            "The count is: 0\n",
            "The count is: 0\n",
            "The count is: 0\n",
            "The count is: 0\n",
            "The count is: 0\n",
            "The count is: 0\n",
            "The count is: 0\n",
            "The count is: 0\n",
            "The count is: 0\n",
            "The count is: 0\n",
            "The count is: 0\n",
            "The count is: 0\n",
            "The count is: 0\n",
            "The count is: 0\n",
            "The count is: 0\n",
            "The count is: 0\n",
            "The count is: 0\n",
            "The count is: 0\n",
            "The count is: 0\n",
            "The count is: 0\n",
            "The count is: 0\n",
            "The count is: 0\n",
            "The count is: 0\n",
            "The count is: 0\n",
            "The count is: 0\n",
            "The count is: 0\n",
            "The count is: 0\n",
            "The count is: 0\n",
            "The count is: 0\n",
            "The count is: 0\n",
            "The count is: 0\n",
            "The count is: 0\n",
            "The count is: 0\n",
            "The count is: 0\n",
            "The count is: 0\n",
            "The count is: 0\n",
            "The count is: 0\n",
            "The count is: 0\n",
            "The count is: 0\n",
            "The count is: 0\n",
            "The count is: 0\n",
            "The count is: 0\n",
            "The count is: 0\n",
            "The count is: 0\n",
            "The count is: 0\n",
            "The count is: 0\n",
            "The count is: 0\n",
            "The count is: 0\n",
            "The count is: 0\n",
            "The count is: 0\n",
            "The count is: 0\n",
            "The count is: 0\n",
            "The count is: 0\n",
            "The count is: 0\n",
            "The count is: 0\n",
            "The count is: 0\n",
            "The count is: 0\n",
            "The count is: 0\n",
            "The count is: 0\n",
            "The count is: 0\n",
            "The count is: 0\n",
            "The count is: 0\n",
            "The count is: 0\n",
            "The count is: 0\n",
            "The count is: 0\n",
            "The count is: 0\n",
            "The count is: 0\n",
            "The count is: 0\n",
            "The count is: 0\n",
            "The count is: 0\n",
            "The count is: 0\n",
            "The count is: 0\n",
            "The count is: 0\n",
            "The count is: 0\n",
            "The count is: 0\n",
            "The count is: 0\n",
            "The count is: 0\n",
            "The count is: 0\n",
            "The count is: 0\n",
            "The count is: 0\n",
            "The count is: 0\n",
            "The count is: 0\n",
            "The count is: 0\n",
            "The count is: 0\n",
            "The count is: 0\n",
            "The count is: 0\n",
            "The count is: 0\n",
            "The count is: 0\n",
            "The count is: 0\n",
            "The count is: 0\n",
            "The count is: 0\n",
            "The count is: 0\n",
            "The count is: 0\n",
            "The count is: 0\n",
            "The count is: 0\n",
            "The count is: 0\n",
            "The count is: 0\n",
            "The count is: 0\n",
            "The count is: 0\n",
            "The count is: 0\n",
            "The count is: 0\n",
            "The count is: 0\n",
            "The count is: 0\n",
            "The count is: 0\n",
            "The count is: 0\n",
            "The count is: 0\n",
            "The count is: 0\n",
            "The count is: 0\n",
            "The count is: 0\n",
            "The count is: 0\n",
            "The count is: 0\n",
            "The count is: 0\n",
            "The count is: 0\n",
            "The count is: 0\n",
            "The count is: 0\n",
            "The count is: 0\n",
            "The count is: 0\n",
            "The count is: 0\n",
            "The count is: 0\n",
            "The count is: 0\n",
            "The count is: 0\n",
            "The count is: 0\n",
            "The count is: 0\n",
            "The count is: 0\n",
            "The count is: 0\n",
            "The count is: 0\n",
            "The count is: 0\n",
            "The count is: 0\n",
            "The count is: 0\n",
            "The count is: 0\n",
            "The count is: 0\n",
            "The count is: 0\n",
            "The count is: 0\n",
            "The count is: 0\n",
            "The count is: 0\n",
            "The count is: 0\n",
            "The count is: 0\n",
            "The count is: 0\n",
            "The count is: 0\n",
            "The count is: 0\n",
            "The count is: 0\n",
            "The count is: 0\n",
            "The count is: 0\n",
            "The count is: 0\n",
            "The count is: 0\n",
            "The count is: 0\n",
            "The count is: 0\n",
            "The count is: 0\n",
            "The count is: 0\n",
            "The count is: 0\n",
            "The count is: 0\n",
            "The count is: 0\n",
            "The count is: 0\n",
            "The count is: 0\n",
            "The count is: 0\n",
            "The count is: 0\n",
            "The count is: 0\n",
            "The count is: 0\n",
            "The count is: 0\n",
            "The count is: 0\n",
            "The count is: 0\n",
            "The count is: 0\n",
            "The count is: 0\n",
            "The count is: 0\n",
            "The count is: 0\n",
            "The count is: 0\n",
            "The count is: 0\n",
            "The count is: 0\n",
            "The count is: 0\n",
            "The count is: 0\n",
            "The count is: 0\n",
            "The count is: 0\n",
            "The count is: 0\n",
            "The count is: 0\n",
            "The count is: 0\n",
            "The count is: 0\n",
            "The count is: 0\n",
            "The count is: 0\n",
            "The count is: 0\n",
            "The count is: 0\n",
            "The count is: 0\n",
            "The count is: 0\n",
            "The count is: 0\n",
            "The count is: 0\n",
            "The count is: 0\n",
            "The count is: 0\n",
            "The count is: 0\n",
            "The count is: 0\n",
            "The count is: 0\n",
            "The count is: 0\n",
            "The count is: 0\n",
            "The count is: 0\n",
            "The count is: 0\n",
            "The count is: 0\n",
            "The count is: 0\n",
            "The count is: 0\n",
            "The count is: 0\n",
            "The count is: 0\n",
            "The count is: 0\n",
            "The count is: 0\n",
            "The count is: 0\n",
            "The count is: 0\n",
            "The count is: 0\n",
            "The count is: 0\n",
            "The count is: 0\n",
            "The count is: 0\n",
            "The count is: 0\n",
            "The count is: 0\n",
            "The count is: 0\n",
            "The count is: 0\n",
            "The count is: 0\n",
            "The count is: 0\n",
            "The count is: 0\n",
            "The count is: 0\n",
            "The count is: 0\n",
            "The count is: 0\n",
            "The count is: 0\n",
            "The count is: 0\n",
            "The count is: 0\n",
            "The count is: 0\n",
            "The count is: 0\n",
            "The count is: 0\n",
            "The count is: 0\n",
            "The count is: 0\n",
            "The count is: 0\n",
            "The count is: 0\n",
            "The count is: 0\n",
            "The count is: 0\n",
            "The count is: 0\n",
            "The count is: 0\n",
            "The count is: 0\n",
            "The count is: 0\n",
            "The count is: 0\n",
            "The count is: 0\n",
            "The count is: 0\n",
            "The count is: 0\n",
            "The count is: 0\n",
            "The count is: 0\n",
            "The count is: 0\n",
            "The count is: 0\n",
            "The count is: 0\n",
            "The count is: 0\n",
            "The count is: 0\n",
            "The count is: 0\n",
            "The count is: 0\n",
            "The count is: 0\n",
            "The count is: 0\n",
            "The count is: 0\n",
            "The count is: 0\n",
            "The count is: 0\n",
            "The count is: 0\n",
            "The count is: 0\n",
            "The count is: 0\n",
            "The count is: 0\n",
            "The count is: 0\n",
            "The count is: 0\n",
            "The count is: 0\n",
            "The count is: 0\n",
            "The count is: 0\n",
            "The count is: 0\n",
            "The count is: 0\n",
            "The count is: 0\n",
            "The count is: 0\n",
            "The count is: 0\n",
            "The count is: 0\n",
            "The count is: 0\n",
            "The count is: 0\n",
            "The count is: 0\n",
            "The count is: 0\n",
            "The count is: 0\n",
            "The count is: 0\n",
            "The count is: 0\n",
            "The count is: 0\n",
            "The count is: 0\n",
            "The count is: 0\n",
            "The count is: 0\n",
            "The count is: 0\n",
            "The count is: 0\n",
            "The count is: 0\n",
            "The count is: 0\n",
            "The count is: 0\n",
            "The count is: 0\n",
            "The count is: 0\n",
            "The count is: 0\n",
            "The count is: 0\n",
            "The count is: 0\n",
            "The count is: 0\n",
            "The count is: 0\n",
            "The count is: 0\n",
            "The count is: 0\n",
            "The count is: 0\n",
            "The count is: 0\n",
            "The count is: 0\n",
            "The count is: 0\n",
            "The count is: 0\n",
            "The count is: 0\n",
            "The count is: 0\n",
            "The count is: 0\n",
            "The count is: 0\n",
            "The count is: 0\n",
            "The count is: 0\n",
            "The count is: 0\n",
            "The count is: 0\n",
            "The count is: 0\n",
            "The count is: 0\n",
            "The count is: 0\n",
            "The count is: 0\n",
            "The count is: 0\n",
            "The count is: 0\n",
            "The count is: 0\n",
            "The count is: 0\n",
            "The count is: 0\n",
            "The count is: 0\n",
            "The count is: 0\n",
            "The count is: 0\n",
            "The count is: 0\n",
            "The count is: 0\n",
            "The count is: 0\n",
            "The count is: 0\n",
            "The count is: 0\n",
            "The count is: 0\n",
            "The count is: 0\n",
            "The count is: 0\n",
            "The count is: 0\n",
            "The count is: 0\n",
            "The count is: 0\n",
            "The count is: 0\n",
            "The count is: 0\n",
            "The count is: 0\n",
            "The count is: 0\n",
            "The count is: 0\n",
            "The count is: 0\n",
            "The count is: 0\n",
            "The count is: 0\n",
            "The count is: 0\n",
            "The count is: 0\n",
            "The count is: 0\n",
            "The count is: 0\n",
            "The count is: 0\n",
            "The count is: 0\n",
            "The count is: 0\n",
            "The count is: 0\n",
            "The count is: 0\n",
            "The count is: 0\n",
            "The count is: 0\n",
            "The count is: 0\n",
            "The count is: 0\n",
            "The count is: 0\n",
            "The count is: 0\n",
            "The count is: 0\n",
            "The count is: 0\n",
            "The count is: 0\n",
            "The count is: 0\n",
            "The count is: 0\n",
            "The count is: 0\n",
            "The count is: 0\n",
            "The count is: 0\n",
            "The count is: 0\n",
            "The count is: 0\n",
            "The count is: 0\n",
            "The count is: 0\n",
            "The count is: 0\n",
            "The count is: 0\n",
            "The count is: 0\n",
            "The count is: 0\n",
            "The count is: 0\n",
            "The count is: 0\n",
            "The count is: 0\n",
            "The count is: 0\n",
            "The count is: 0\n",
            "The count is: 0\n",
            "The count is: 0\n",
            "The count is: 0\n",
            "The count is: 0\n",
            "The count is: 0\n",
            "The count is: 0\n",
            "The count is: 0\n",
            "The count is: 0\n",
            "The count is: 0\n",
            "The count is: 0\n",
            "The count is: 0\n",
            "The count is: 0\n",
            "The count is: 0\n",
            "The count is: 0\n",
            "The count is: 0\n",
            "The count is: 0\n",
            "The count is: 0\n",
            "The count is: 0\n",
            "The count is: 0\n",
            "The count is: 0\n",
            "The count is: 0\n",
            "The count is: 0\n",
            "The count is: 0\n",
            "The count is: 0\n",
            "The count is: 0\n",
            "The count is: 0\n",
            "The count is: 0\n",
            "The count is: 0\n",
            "The count is: 0\n",
            "The count is: 0\n",
            "The count is: 0\n",
            "The count is: 0\n",
            "The count is: 0\n",
            "The count is: 0\n",
            "The count is: 0\n",
            "The count is: 0\n",
            "The count is: 0\n",
            "The count is: 0\n",
            "The count is: 0\n",
            "The count is: 0\n",
            "The count is: 0\n",
            "The count is: 0\n",
            "The count is: 0\n",
            "The count is: 0\n",
            "The count is: 0\n",
            "The count is: 0\n",
            "The count is: 0\n",
            "The count is: 0\n",
            "The count is: 0\n",
            "The count is: 0\n",
            "The count is: 0\n",
            "The count is: 0\n",
            "The count is: 0\n",
            "The count is: 0\n",
            "The count is: 0\n",
            "The count is: 0\n",
            "The count is: 0\n",
            "The count is: 0\n",
            "The count is: 0\n",
            "The count is: 0\n",
            "The count is: 0\n",
            "The count is: 0\n",
            "The count is: 0\n",
            "The count is: 0\n",
            "The count is: 0\n",
            "The count is: 0\n",
            "The count is: 0\n",
            "The count is: 0\n",
            "The count is: 0\n",
            "The count is: 0\n",
            "The count is: 0\n",
            "The count is: 0\n",
            "The count is: 0\n",
            "The count is: 0\n",
            "The count is: 0\n",
            "The count is: 0\n",
            "The count is: 0\n",
            "The count is: 0\n",
            "The count is: 0\n",
            "The count is: 0\n",
            "The count is: 0\n",
            "The count is: 0\n",
            "The count is: 0\n",
            "The count is: 0\n",
            "The count is: 0\n",
            "The count is: 0\n",
            "The count is: 0\n",
            "The count is: 0\n",
            "The count is: 0\n",
            "The count is: 0\n",
            "The count is: 0\n",
            "The count is: 0\n",
            "The count is: 0\n",
            "The count is: 0\n",
            "The count is: 0\n",
            "The count is: 0\n",
            "The count is: 0\n",
            "The count is: 0\n",
            "The count is: 0\n",
            "The count is: 0\n",
            "The count is: 0\n",
            "The count is: 0\n",
            "The count is: 0\n",
            "The count is: 0\n",
            "The count is: 0\n",
            "The count is: 0\n",
            "The count is: 0\n",
            "The count is: 0\n",
            "The count is: 0\n",
            "The count is: 0\n",
            "The count is: 0\n",
            "The count is: 0\n",
            "The count is: 0\n",
            "The count is: 0\n",
            "The count is: 0\n",
            "The count is: 0\n",
            "The count is: 0\n",
            "The count is: 0\n",
            "The count is: 0\n",
            "The count is: 0\n",
            "The count is: 0\n",
            "The count is: 0\n",
            "The count is: 0\n",
            "The count is: 0\n",
            "The count is: 0\n",
            "The count is: 0\n",
            "The count is: 0\n",
            "The count is: 0\n",
            "The count is: 0\n",
            "The count is: 0\n",
            "The count is: 0\n",
            "The count is: 0\n",
            "The count is: 0\n",
            "The count is: 0\n",
            "The count is: 0\n",
            "The count is: 0\n",
            "The count is: 0\n",
            "The count is: 0\n",
            "The count is: 0\n",
            "The count is: 0\n",
            "The count is: 0\n",
            "The count is: 0\n",
            "The count is: 0\n",
            "The count is: 0\n",
            "The count is: 0\n",
            "The count is: 0\n",
            "The count is: 0\n",
            "The count is: 0\n",
            "The count is: 0\n",
            "The count is: 0\n",
            "The count is: 0\n",
            "The count is: 0\n",
            "The count is: 0\n",
            "The count is: 0\n",
            "The count is: 0\n",
            "The count is: 0\n",
            "The count is: 0\n",
            "The count is: 0\n",
            "The count is: 0\n",
            "The count is: 0\n",
            "The count is: 0\n",
            "The count is: 0\n",
            "The count is: 0\n",
            "The count is: 0\n",
            "The count is: 0\n",
            "The count is: 0\n",
            "The count is: 0\n",
            "The count is: 0\n",
            "The count is: 0\n",
            "The count is: 0\n",
            "The count is: 0\n",
            "The count is: 0\n",
            "The count is: 0\n",
            "The count is: 0\n",
            "The count is: 0\n",
            "The count is: 0\n",
            "The count is: 0\n",
            "The count is: 0\n",
            "The count is: 0\n",
            "The count is: 0\n",
            "The count is: 0\n",
            "The count is: 0\n",
            "The count is: 0\n",
            "The count is: 0\n",
            "The count is: 0\n",
            "The count is: 0\n",
            "The count is: 0\n",
            "The count is: 0\n",
            "The count is: 0\n",
            "The count is: 0\n",
            "The count is: 0\n",
            "The count is: 0\n",
            "The count is: 0\n",
            "The count is: 0\n",
            "The count is: 0\n",
            "The count is: 0\n",
            "The count is: 0\n",
            "The count is: 0\n",
            "The count is: 0\n",
            "The count is: 0\n",
            "The count is: 0\n",
            "The count is: 0\n",
            "The count is: 0\n",
            "The count is: 0\n",
            "The count is: 0\n",
            "The count is: 0\n",
            "The count is: 0\n",
            "The count is: 0\n",
            "The count is: 0\n",
            "The count is: 0\n",
            "The count is: 0\n",
            "The count is: 0\n",
            "The count is: 0\n",
            "The count is: 0\n",
            "The count is: 0\n",
            "The count is: 0\n",
            "The count is: 0\n",
            "The count is: 0\n",
            "The count is: 0\n",
            "The count is: 0\n",
            "The count is: 0\n",
            "The count is: 0\n",
            "The count is: 0\n",
            "The count is: 0\n",
            "The count is: 0\n",
            "The count is: 0\n",
            "The count is: 0\n",
            "The count is: 0\n",
            "The count is: 0\n",
            "The count is: 0\n",
            "The count is: 0\n",
            "The count is: 0\n",
            "The count is: 0\n",
            "The count is: 0\n",
            "The count is: 0\n",
            "The count is: 0\n",
            "The count is: 0\n",
            "The count is: 0\n",
            "The count is: 0\n",
            "The count is: 0\n",
            "The count is: 0\n",
            "The count is: 0\n",
            "The count is: 0\n",
            "The count is: 0\n",
            "The count is: 0\n",
            "The count is: 0\n",
            "The count is: 0\n",
            "The count is: 0\n",
            "The count is: 0\n",
            "The count is: 0\n",
            "The count is: 0\n",
            "The count is: 0\n",
            "The count is: 0\n",
            "The count is: 0\n",
            "The count is: 0\n",
            "The count is: 0\n",
            "The count is: 0\n",
            "The count is: 0\n",
            "The count is: 0\n",
            "The count is: 0\n",
            "The count is: 0\n",
            "The count is: 0\n",
            "The count is: 0\n",
            "The count is: 0\n",
            "The count is: 0\n",
            "The count is: 0\n",
            "The count is: 0\n",
            "The count is: 0\n",
            "The count is: 0\n",
            "The count is: 0\n",
            "The count is: 0\n",
            "The count is: 0\n",
            "The count is: 0\n",
            "The count is: 0\n",
            "The count is: 0\n",
            "The count is: 0\n",
            "The count is: 0\n",
            "The count is: 0\n",
            "The count is: 0\n",
            "The count is: 0\n",
            "The count is: 0\n",
            "The count is: 0\n",
            "The count is: 0\n",
            "The count is: 0\n",
            "The count is: 0\n",
            "The count is: 0\n",
            "The count is: 0\n",
            "The count is: 0\n",
            "The count is: 0\n",
            "The count is: 0\n",
            "The count is: 0\n",
            "The count is: 0\n",
            "The count is: 0\n",
            "The count is: 0\n",
            "The count is: 0\n",
            "The count is: 0\n",
            "The count is: 0\n",
            "The count is: 0\n",
            "The count is: 0\n",
            "The count is: 0\n",
            "The count is: 0\n",
            "The count is: 0\n",
            "The count is: 0\n",
            "The count is: 0\n",
            "The count is: 0\n",
            "The count is: 0\n",
            "The count is: 0\n",
            "The count is: 0\n",
            "The count is: 0\n",
            "The count is: 0\n",
            "The count is: 0\n",
            "The count is: 0\n",
            "The count is: 0\n",
            "The count is: 0\n",
            "The count is: 0\n",
            "The count is: 0\n",
            "The count is: 0\n",
            "The count is: 0\n",
            "The count is: 0\n",
            "The count is: 0\n",
            "The count is: 0\n",
            "The count is: 0\n",
            "The count is: 0\n",
            "The count is: 0\n",
            "The count is: 0\n",
            "The count is: 0\n",
            "The count is: 0\n",
            "The count is: 0\n",
            "The count is: 0\n",
            "The count is: 0\n",
            "The count is: 0\n",
            "The count is: 0\n",
            "The count is: 0\n",
            "The count is: 0\n",
            "The count is: 0\n",
            "The count is: 0\n",
            "The count is: 0\n",
            "The count is: 0\n",
            "The count is: 0\n",
            "The count is: 0\n",
            "The count is: 0\n",
            "The count is: 0\n",
            "The count is: 0\n",
            "The count is: 0\n",
            "The count is: 0\n",
            "The count is: 0\n",
            "The count is: 0\n",
            "The count is: 0\n",
            "The count is: 0\n",
            "The count is: 0\n",
            "The count is: 0\n",
            "The count is: 0\n",
            "The count is: 0\n",
            "The count is: 0\n",
            "The count is: 0\n",
            "The count is: 0\n",
            "The count is: 0\n",
            "The count is: 0\n",
            "The count is: 0\n",
            "The count is: 0\n",
            "The count is: 0\n",
            "The count is: 0\n",
            "The count is: 0\n",
            "The count is: 0\n",
            "The count is: 0\n",
            "The count is: 0\n",
            "The count is: 0\n",
            "The count is: 0\n",
            "The count is: 0\n",
            "The count is: 0\n",
            "The count is: 0\n",
            "The count is: 0\n",
            "The count is: 0\n",
            "The count is: 0\n",
            "The count is: 0\n",
            "The count is: 0\n",
            "The count is: 0\n",
            "The count is: 0\n",
            "The count is: 0\n",
            "The count is: 0\n",
            "The count is: 0\n",
            "The count is: 0\n",
            "The count is: 0\n",
            "The count is: 0\n",
            "The count is: 0\n",
            "The count is: 0\n",
            "The count is: 0\n",
            "The count is: 0\n",
            "The count is: 0\n",
            "The count is: 0\n",
            "The count is: 0\n",
            "The count is: 0\n",
            "The count is: 0\n",
            "The count is: 0\n",
            "The count is: 0\n",
            "The count is: 0\n",
            "The count is: 0\n",
            "The count is: 0\n",
            "The count is: 0\n",
            "The count is: 0\n",
            "The count is: 0\n",
            "The count is: 0\n",
            "The count is: 0\n",
            "The count is: 0\n",
            "The count is: 0\n",
            "The count is: 0\n",
            "The count is: 0\n",
            "The count is: 0\n",
            "The count is: 0\n",
            "The count is: 0\n",
            "The count is: 0\n",
            "The count is: 0\n",
            "The count is: 0\n",
            "The count is: 0\n",
            "The count is: 0\n",
            "The count is: 0\n",
            "The count is: 0\n",
            "The count is: 0\n",
            "The count is: 0\n",
            "The count is: 0\n",
            "The count is: 0\n",
            "The count is: 0\n",
            "The count is: 0\n",
            "The count is: 0\n",
            "The count is: 0\n",
            "The count is: 0\n",
            "The count is: 0\n",
            "The count is: 0\n",
            "The count is: 0\n",
            "The count is: 0\n",
            "The count is: 0\n",
            "The count is: 0\n",
            "The count is: 0\n",
            "The count is: 0\n",
            "The count is: 0\n",
            "The count is: 0\n",
            "The count is: 0\n",
            "The count is: 0\n",
            "The count is: 0\n",
            "The count is: 0\n",
            "The count is: 0\n",
            "The count is: 0\n",
            "The count is: 0\n",
            "The count is: 0\n",
            "The count is: 0\n",
            "The count is: 0\n",
            "The count is: 0\n",
            "The count is: 0\n",
            "The count is: 0\n",
            "The count is: 0\n",
            "The count is: 0\n",
            "The count is: 0\n",
            "The count is: 0\n",
            "The count is: 0\n",
            "The count is: 0\n",
            "The count is: 0\n",
            "The count is: 0\n",
            "The count is: 0\n",
            "The count is: 0\n",
            "The count is: 0\n",
            "The count is: 0\n",
            "The count is: 0\n",
            "The count is: 0\n",
            "The count is: 0\n",
            "The count is: 0\n",
            "The count is: 0\n",
            "The count is: 0\n",
            "The count is: 0\n",
            "The count is: 0\n",
            "The count is: 0\n",
            "The count is: 0\n",
            "The count is: 0\n",
            "The count is: 0\n",
            "The count is: 0\n",
            "The count is: 0\n",
            "The count is: 0\n",
            "The count is: 0\n",
            "The count is: 0\n",
            "The count is: 0\n",
            "The count is: 0\n",
            "The count is: 0\n",
            "The count is: 0\n",
            "The count is: 0\n",
            "The count is: 0\n",
            "The count is: 0\n",
            "The count is: 0\n",
            "The count is: 0\n",
            "The count is: 0\n",
            "The count is: 0\n",
            "The count is: 0\n",
            "The count is: 0\n",
            "The count is: 0\n",
            "The count is: 0\n",
            "The count is: 0\n",
            "The count is: 0\n",
            "The count is: 0\n",
            "The count is: 0\n",
            "The count is: 0\n",
            "The count is: 0\n",
            "The count is: 0\n",
            "The count is: 0\n",
            "The count is: 0\n",
            "The count is: 0\n",
            "The count is: 0\n",
            "The count is: 0\n",
            "The count is: 0\n",
            "The count is: 0\n",
            "The count is: 0\n",
            "The count is: 0\n",
            "The count is: 0\n",
            "The count is: 0\n",
            "The count is: 0\n",
            "The count is: 0\n",
            "The count is: 0\n",
            "The count is: 0\n",
            "The count is: 0\n",
            "The count is: 0\n",
            "The count is: 0\n",
            "The count is: 0\n",
            "The count is: 0\n",
            "The count is: 0\n",
            "The count is: 0\n",
            "The count is: 0\n",
            "The count is: 0\n",
            "The count is: 0\n",
            "The count is: 0\n",
            "The count is: 0\n",
            "The count is: 0\n",
            "The count is: 0\n",
            "The count is: 0\n",
            "The count is: 0\n",
            "The count is: 0\n",
            "The count is: 0\n",
            "The count is: 0\n",
            "The count is: 0\n",
            "The count is: 0\n",
            "The count is: 0\n",
            "The count is: 0\n",
            "The count is: 0\n",
            "The count is: 0\n",
            "The count is: 0\n",
            "The count is: 0\n",
            "The count is: 0\n",
            "The count is: 0\n",
            "The count is: 0\n",
            "The count is: 0\n",
            "The count is: 0\n",
            "The count is: 0\n",
            "The count is: 0\n",
            "The count is: 0\n",
            "The count is: 0\n",
            "The count is: 0\n",
            "The count is: 0\n",
            "The count is: 0\n",
            "The count is: 0\n",
            "The count is: 0\n",
            "The count is: 0\n",
            "The count is: 0\n",
            "The count is: 0\n",
            "The count is: 0\n",
            "The count is: 0\n",
            "The count is: 0\n",
            "The count is: 0\n",
            "The count is: 0\n",
            "The count is: 0\n",
            "The count is: 0\n",
            "The count is: 0\n",
            "The count is: 0\n",
            "The count is: 0\n",
            "The count is: 0\n",
            "The count is: 0\n",
            "The count is: 0\n",
            "The count is: 0\n",
            "The count is: 0\n",
            "The count is: 0\n",
            "The count is: 0\n",
            "The count is: 0\n",
            "The count is: 0\n",
            "The count is: 0\n",
            "The count is: 0\n",
            "The count is: 0\n",
            "The count is: 0\n",
            "The count is: 0\n",
            "The count is: 0\n",
            "The count is: 0\n",
            "The count is: 0\n",
            "The count is: 0\n",
            "The count is: 0\n",
            "The count is: 0\n",
            "The count is: 0\n",
            "The count is: 0\n",
            "The count is: 0\n",
            "The count is: 0\n",
            "The count is: 0\n",
            "The count is: 0\n",
            "The count is: 0\n",
            "The count is: 0\n",
            "The count is: 0\n",
            "The count is: 0\n",
            "The count is: 0\n",
            "The count is: 0\n",
            "The count is: 0\n",
            "The count is: 0\n",
            "The count is: 0\n",
            "The count is: 0\n",
            "The count is: 0\n",
            "The count is: 0\n",
            "The count is: 0\n",
            "The count is: 0\n",
            "The count is: 0\n",
            "The count is: 0\n",
            "The count is: 0\n",
            "The count is: 0\n",
            "The count is: 0\n",
            "The count is: 0\n",
            "The count is: 0\n",
            "The count is: 0\n",
            "The count is: 0\n",
            "The count is: 0\n",
            "The count is: 0\n",
            "The count is: 0\n",
            "The count is: 0\n",
            "The count is: 0\n",
            "The count is: 0\n",
            "The count is: 0\n",
            "The count is: 0\n",
            "The count is: 0\n",
            "The count is: 0\n",
            "The count is: 0\n",
            "The count is: 0\n",
            "The count is: 0\n",
            "The count is: 0\n",
            "The count is: 0\n",
            "The count is: 0\n",
            "The count is: 0\n",
            "The count is: 0\n",
            "The count is: 0\n",
            "The count is: 0\n",
            "The count is: 0\n",
            "The count is: 0\n",
            "The count is: 0\n",
            "The count is: 0\n",
            "The count is: 0\n",
            "The count is: 0\n",
            "The count is: 0\n",
            "The count is: 0\n",
            "The count is: 0\n",
            "The count is: 0\n",
            "The count is: 0\n",
            "The count is: 0\n",
            "The count is: 0\n",
            "The count is: 0\n",
            "The count is: 0\n",
            "The count is: 0\n",
            "The count is: 0\n",
            "The count is: 0\n",
            "The count is: 0\n",
            "The count is: 0\n",
            "The count is: 0\n",
            "The count is: 0\n",
            "The count is: 0\n",
            "The count is: 0\n",
            "The count is: 0\n",
            "The count is: 0\n",
            "The count is: 0\n",
            "The count is: 0\n",
            "The count is: 0\n",
            "The count is: 0\n",
            "The count is: 0\n",
            "The count is: 0\n",
            "The count is: 0\n",
            "The count is: 0\n",
            "The count is: 0\n",
            "The count is: 0\n",
            "The count is: 0\n",
            "The count is: 0\n",
            "The count is: 0\n",
            "The count is: 0\n",
            "The count is: 0\n",
            "The count is: 0\n",
            "The count is: 0\n",
            "The count is: 0\n",
            "The count is: 0\n",
            "The count is: 0\n",
            "The count is: 0\n",
            "The count is: 0\n",
            "The count is: 0\n",
            "The count is: 0\n",
            "The count is: 0\n",
            "The count is: 0\n",
            "The count is: 0\n",
            "The count is: 0\n",
            "The count is: 0\n",
            "The count is: 0\n",
            "The count is: 0\n",
            "The count is: 0\n",
            "The count is: 0\n",
            "The count is: 0\n",
            "The count is: 0\n",
            "The count is: 0\n",
            "The count is: 0\n",
            "The count is: 0\n",
            "The count is: 0\n",
            "The count is: 0\n",
            "The count is: 0\n",
            "The count is: 0\n",
            "The count is: 0\n",
            "The count is: 0\n",
            "The count is: 0\n",
            "The count is: 0\n",
            "The count is: 0\n",
            "The count is: 0\n",
            "The count is: 0\n",
            "The count is: 0\n",
            "The count is: 0\n",
            "The count is: 0\n",
            "The count is: 0\n",
            "The count is: 0\n",
            "The count is: 0\n",
            "The count is: 0\n",
            "The count is: 0\n",
            "The count is: 0\n",
            "The count is: 0\n",
            "The count is: 0\n",
            "The count is: 0\n",
            "The count is: 0\n",
            "The count is: 0\n",
            "The count is: 0\n",
            "The count is: 0\n",
            "The count is: 0\n",
            "The count is: 0\n",
            "The count is: 0\n",
            "The count is: 0\n",
            "The count is: 0\n",
            "The count is: 0\n",
            "The count is: 0\n",
            "The count is: 0\n",
            "The count is: 0\n",
            "The count is: 0\n",
            "The count is: 0\n",
            "The count is: 0\n",
            "The count is: 0\n",
            "The count is: 0\n",
            "The count is: 0\n",
            "The count is: 0\n",
            "The count is: 0\n",
            "The count is: 0\n",
            "The count is: 0\n",
            "The count is: 0\n",
            "The count is: 0\n",
            "The count is: 0\n",
            "The count is: 0\n",
            "The count is: 0\n",
            "The count is: 0\n",
            "The count is: 0\n",
            "The count is: 0\n",
            "The count is: 0\n",
            "The count is: 0\n",
            "The count is: 0\n",
            "The count is: 0\n",
            "The count is: 0\n",
            "The count is: 0\n",
            "The count is: 0\n",
            "The count is: 0\n",
            "The count is: 0\n",
            "The count is: 0\n",
            "The count is: 0\n",
            "The count is: 0\n",
            "The count is: 0\n",
            "The count is: 0\n",
            "The count is: 0\n",
            "The count is: 0\n",
            "The count is: 0\n",
            "The count is: 0\n",
            "The count is: 0\n",
            "The count is: 0\n",
            "The count is: 0\n",
            "The count is: 0\n",
            "The count is: 0\n",
            "The count is: 0\n",
            "The count is: 0\n",
            "The count is: 0\n",
            "The count is: 0\n",
            "The count is: 0\n",
            "The count is: 0\n",
            "The count is: 0\n",
            "The count is: 0\n",
            "The count is: 0\n",
            "The count is: 0\n",
            "The count is: 0\n",
            "The count is: 0\n",
            "The count is: 0\n",
            "The count is: 0\n",
            "The count is: 0\n",
            "The count is: 0\n",
            "The count is: 0\n",
            "The count is: 0\n",
            "The count is: 0\n",
            "The count is: 0\n",
            "The count is: 0\n",
            "The count is: 0\n",
            "The count is: 0\n",
            "The count is: 0\n",
            "The count is: 0\n",
            "The count is: 0\n",
            "The count is: 0\n",
            "The count is: 0\n",
            "The count is: 0\n",
            "The count is: 0\n",
            "The count is: 0\n",
            "The count is: 0\n",
            "The count is: 0\n",
            "The count is: 0\n",
            "The count is: 0\n",
            "The count is: 0\n",
            "The count is: 0\n",
            "The count is: 0\n",
            "The count is: 0\n",
            "The count is: 0\n",
            "The count is: 0\n",
            "The count is: 0\n",
            "The count is: 0\n",
            "The count is: 0\n",
            "The count is: 0\n",
            "The count is: 0\n",
            "The count is: 0\n",
            "The count is: 0\n",
            "The count is: 0\n",
            "The count is: 0\n",
            "The count is: 0\n",
            "The count is: 0\n",
            "The count is: 0\n",
            "The count is: 0\n",
            "The count is: 0\n",
            "The count is: 0\n",
            "The count is: 0\n",
            "The count is: 0\n",
            "The count is: 0\n",
            "The count is: 0\n",
            "The count is: 0\n",
            "The count is: 0\n",
            "The count is: 0\n",
            "The count is: 0\n",
            "The count is: 0\n",
            "The count is: 0\n",
            "The count is: 0\n",
            "The count is: 0\n",
            "The count is: 0\n",
            "The count is: 0\n",
            "The count is: 0\n",
            "The count is: 0\n",
            "The count is: 0\n",
            "The count is: 0\n",
            "The count is: 0\n",
            "The count is: 0\n",
            "The count is: 0\n",
            "The count is: 0\n",
            "The count is: 0\n",
            "The count is: 0\n",
            "The count is: 0\n",
            "The count is: 0\n",
            "The count is: 0\n",
            "The count is: 0\n",
            "The count is: 0\n",
            "The count is: 0\n",
            "The count is: 0\n",
            "The count is: 0\n",
            "The count is: 0\n",
            "The count is: 0\n",
            "The count is: 0\n",
            "The count is: 0\n",
            "The count is: 0\n",
            "The count is: 0\n",
            "The count is: 0\n",
            "The count is: 0\n",
            "The count is: 0\n",
            "The count is: 0\n",
            "The count is: 0\n",
            "The count is: 0\n",
            "The count is: 0\n",
            "The count is: 0\n",
            "The count is: 0\n",
            "The count is: 0\n",
            "The count is: 0\n",
            "The count is: 0\n",
            "The count is: 0\n",
            "The count is: 0\n",
            "The count is: 0\n",
            "The count is: 0\n",
            "The count is: 0\n",
            "The count is: 0\n",
            "The count is: 0\n",
            "The count is: 0\n",
            "The count is: 0\n",
            "The count is: 0\n",
            "The count is: 0\n",
            "The count is: 0\n",
            "The count is: 0\n",
            "The count is: 0\n",
            "The count is: 0\n",
            "The count is: 0\n",
            "The count is: 0\n",
            "The count is: 0\n",
            "The count is: 0\n",
            "The count is: 0\n",
            "The count is: 0\n",
            "The count is: 0\n",
            "The count is: 0\n",
            "The count is: 0\n",
            "The count is: 0\n",
            "The count is: 0\n",
            "The count is: 0\n",
            "The count is: 0\n",
            "The count is: 0\n",
            "The count is: 0\n",
            "The count is: 0\n",
            "The count is: 0\n",
            "The count is: 0\n",
            "The count is: 0\n",
            "The count is: 0\n",
            "The count is: 0\n",
            "The count is: 0\n",
            "The count is: 0\n",
            "The count is: 0\n",
            "The count is: 0\n",
            "The count is: 0\n",
            "The count is: 0\n",
            "The count is: 0\n",
            "The count is: 0\n",
            "The count is: 0\n",
            "The count is: 0\n",
            "The count is: 0\n",
            "The count is: 0\n",
            "The count is: 0\n",
            "The count is: 0\n",
            "The count is: 0\n",
            "The count is: 0\n",
            "The count is: 0\n",
            "The count is: 0\n",
            "The count is: 0\n",
            "The count is: 0\n",
            "The count is: 0\n",
            "The count is: 0\n",
            "The count is: 0\n",
            "The count is: 0\n",
            "The count is: 0\n",
            "The count is: 0\n",
            "The count is: 0\n",
            "The count is: 0\n",
            "The count is: 0\n",
            "The count is: 0\n",
            "The count is: 0\n",
            "The count is: 0\n",
            "The count is: 0\n",
            "The count is: 0\n",
            "The count is: 0\n",
            "The count is: 0\n",
            "The count is: 0\n",
            "The count is: 0\n",
            "The count is: 0\n",
            "The count is: 0\n",
            "The count is: 0\n",
            "The count is: 0\n",
            "The count is: 0\n",
            "The count is: 0\n",
            "The count is: 0\n",
            "The count is: 0\n",
            "The count is: 0\n",
            "The count is: 0\n",
            "The count is: 0\n",
            "The count is: 0\n",
            "The count is: 0\n",
            "The count is: 0\n",
            "The count is: 0\n",
            "The count is: 0\n",
            "The count is: 0\n",
            "The count is: 0\n",
            "The count is: 0\n",
            "The count is: 0\n",
            "The count is: 0\n",
            "The count is: 0\n",
            "The count is: 0\n",
            "The count is: 0\n",
            "The count is: 0\n",
            "The count is: 0\n",
            "The count is: 0\n",
            "The count is: 0\n",
            "The count is: 0\n",
            "The count is: 0\n",
            "The count is: 0\n",
            "The count is: 0\n",
            "The count is: 0\n",
            "The count is: 0\n",
            "The count is: 0\n",
            "The count is: 0\n",
            "The count is: 0\n",
            "The count is: 0\n",
            "The count is: 0\n",
            "The count is: 0\n",
            "The count is: 0\n",
            "The count is: 0\n",
            "The count is: 0\n",
            "The count is: 0\n",
            "The count is: 0\n",
            "The count is: 0\n",
            "The count is: 0\n",
            "The count is: 0\n",
            "The count is: 0\n",
            "The count is: 0\n",
            "The count is: 0\n",
            "The count is: 0\n",
            "The count is: 0\n",
            "The count is: 0\n",
            "The count is: 0\n",
            "The count is: 0\n",
            "The count is: 0\n",
            "The count is: 0\n",
            "The count is: 0\n",
            "The count is: 0\n",
            "The count is: 0\n",
            "The count is: 0\n",
            "The count is: 0\n",
            "The count is: 0\n",
            "The count is: 0\n",
            "The count is: 0\n",
            "The count is: 0\n",
            "The count is: 0\n",
            "The count is: 0\n",
            "The count is: 0\n",
            "The count is: 0\n",
            "The count is: 0\n",
            "The count is: 0\n",
            "The count is: 0\n",
            "The count is: 0\n",
            "The count is: 0\n",
            "The count is: 0\n",
            "The count is: 0\n",
            "The count is: 0\n",
            "The count is: 0\n",
            "The count is: 0\n",
            "The count is: 0\n",
            "The count is: 0\n",
            "The count is: 0\n",
            "The count is: 0\n",
            "The count is: 0\n",
            "The count is: 0\n",
            "The count is: 0\n",
            "The count is: 0\n",
            "The count is: 0\n",
            "The count is: 0\n",
            "The count is: 0\n",
            "The count is: 0\n",
            "The count is: 0\n",
            "The count is: 0\n",
            "The count is: 0\n",
            "The count is: 0\n",
            "The count is: 0\n",
            "The count is: 0\n",
            "The count is: 0\n",
            "The count is: 0\n",
            "The count is: 0\n",
            "The count is: 0\n",
            "The count is: 0\n",
            "The count is: 0\n",
            "The count is: 0\n",
            "The count is: 0\n",
            "The count is: 0\n",
            "The count is: 0\n",
            "The count is: 0\n",
            "The count is: 0\n",
            "The count is: 0\n",
            "The count is: 0\n",
            "The count is: 0\n",
            "The count is: 0\n",
            "The count is: 0\n",
            "The count is: 0\n",
            "The count is: 0\n",
            "The count is: 0\n",
            "The count is: 0\n",
            "The count is: 0\n",
            "The count is: 0\n",
            "The count is: 0\n",
            "The count is: 0\n",
            "The count is: 0\n",
            "The count is: 0\n",
            "The count is: 0\n",
            "The count is: 0\n",
            "The count is: 0\n",
            "The count is: 0\n",
            "The count is: 0\n",
            "The count is: 0\n",
            "The count is: 0\n",
            "The count is: 0\n",
            "The count is: 0\n",
            "The count is: 0\n",
            "The count is: 0\n",
            "The count is: 0\n",
            "The count is: 0\n",
            "The count is: 0\n",
            "The count is: 0\n",
            "The count is: 0\n",
            "The count is: 0\n",
            "The count is: 0\n",
            "The count is: 0\n",
            "The count is: 0\n",
            "The count is: 0\n",
            "The count is: 0\n",
            "The count is: 0\n",
            "The count is: 0\n",
            "The count is: 0\n",
            "The count is: 0\n",
            "The count is: 0\n",
            "The count is: 0\n",
            "The count is: 0\n",
            "The count is: 0\n",
            "The count is: 0\n",
            "The count is: 0\n",
            "The count is: 0\n",
            "The count is: 0\n",
            "The count is: 0\n",
            "The count is: 0\n",
            "The count is: 0\n",
            "The count is: 0\n",
            "The count is: 0\n",
            "The count is: 0\n",
            "The count is: 0\n",
            "The count is: 0\n",
            "The count is: 0\n",
            "The count is: 0\n",
            "The count is: 0\n",
            "The count is: 0\n",
            "The count is: 0\n",
            "The count is: 0\n",
            "The count is: 0\n",
            "The count is: 0\n",
            "The count is: 0\n",
            "The count is: 0\n",
            "The count is: 0\n",
            "The count is: 0\n",
            "The count is: 0\n",
            "The count is: 0\n",
            "The count is: 0\n",
            "The count is: 0\n",
            "The count is: 0\n",
            "The count is: 0\n",
            "The count is: 0\n",
            "The count is: 0\n",
            "The count is: 0\n",
            "The count is: 0\n",
            "The count is: 0\n",
            "The count is: 0\n",
            "The count is: 0\n",
            "The count is: 0\n",
            "The count is: 0\n",
            "The count is: 0\n",
            "The count is: 0\n",
            "The count is: 0\n",
            "The count is: 0\n",
            "The count is: 0\n",
            "The count is: 0\n",
            "The count is: 0\n",
            "The count is: 0\n",
            "The count is: 0\n",
            "The count is: 0\n",
            "The count is: 0\n",
            "The count is: 0\n",
            "The count is: 0\n",
            "The count is: 0\n",
            "The count is: 0\n",
            "The count is: 0\n",
            "The count is: 0\n",
            "The count is: 0\n",
            "The count is: 0\n",
            "The count is: 0\n",
            "The count is: 0\n",
            "The count is: 0\n",
            "The count is: 0\n",
            "The count is: 0\n",
            "The count is: 0\n",
            "The count is: 0\n",
            "The count is: 0\n",
            "The count is: 0\n",
            "The count is: 0\n",
            "The count is: 0\n",
            "The count is: 0\n",
            "The count is: 0\n",
            "The count is: 0\n",
            "The count is: 0\n",
            "The count is: 0\n",
            "The count is: 0\n",
            "The count is: 0\n",
            "The count is: 0\n",
            "The count is: 0\n",
            "The count is: 0\n",
            "The count is: 0\n",
            "The count is: 0\n",
            "The count is: 0\n",
            "The count is: 0\n",
            "The count is: 0\n",
            "The count is: 0\n",
            "The count is: 0\n",
            "The count is: 0\n",
            "The count is: 0\n",
            "The count is: 0\n",
            "The count is: 0\n",
            "The count is: 0\n",
            "The count is: 0\n",
            "The count is: 0\n",
            "The count is: 0\n",
            "The count is: 0\n",
            "The count is: 0\n",
            "The count is: 0\n",
            "The count is: 0\n",
            "The count is: 0\n",
            "The count is: 0\n",
            "The count is: 0\n",
            "The count is: 0\n",
            "The count is: 0\n",
            "The count is: 0\n",
            "The count is: 0\n",
            "The count is: 0\n",
            "The count is: 0\n",
            "The count is: 0\n",
            "The count is: 0\n",
            "The count is: 0\n",
            "The count is: 0\n",
            "The count is: 0\n",
            "The count is: 0\n",
            "The count is: 0\n",
            "The count is: 0\n",
            "The count is: 0\n",
            "The count is: 0\n",
            "The count is: 0\n",
            "The count is: 0\n",
            "The count is: 0\n",
            "The count is: 0\n",
            "The count is: 0\n",
            "The count is: 0\n",
            "The count is: 0\n",
            "The count is: 0\n",
            "The count is: 0\n",
            "The count is: 0\n",
            "The count is: 0\n",
            "The count is: 0\n",
            "The count is: 0\n",
            "The count is: 0\n",
            "The count is: 0\n",
            "The count is: 0\n",
            "The count is: 0\n",
            "The count is: 0\n",
            "The count is: 0\n",
            "The count is: 0\n",
            "The count is: 0\n",
            "The count is: 0\n",
            "The count is: 0\n",
            "The count is: 0\n",
            "The count is: 0\n",
            "The count is: 0\n",
            "The count is: 0\n",
            "The count is: 0\n",
            "The count is: 0\n",
            "The count is: 0\n",
            "The count is: 0\n",
            "The count is: 0\n",
            "The count is: 0\n",
            "The count is: 0\n",
            "The count is: 0\n",
            "The count is: 0\n",
            "The count is: 0\n",
            "The count is: 0\n",
            "The count is: 0\n",
            "The count is: 0\n",
            "The count is: 0\n",
            "The count is: 0\n",
            "The count is: 0\n",
            "The count is: 0\n",
            "The count is: 0\n",
            "The count is: 0\n",
            "The count is: 0\n",
            "The count is: 0\n",
            "The count is: 0\n",
            "The count is: 0\n",
            "The count is: 0\n",
            "The count is: 0\n",
            "The count is: 0\n",
            "The count is: 0\n",
            "The count is: 0\n",
            "The count is: 0\n",
            "The count is: 0\n",
            "The count is: 0\n",
            "The count is: 0\n",
            "The count is: 0\n",
            "The count is: 0\n",
            "The count is: 0\n",
            "The count is: 0\n",
            "The count is: 0\n",
            "The count is: 0\n",
            "The count is: 0\n",
            "The count is: 0\n",
            "The count is: 0\n",
            "The count is: 0\n",
            "The count is: 0\n",
            "The count is: 0\n",
            "The count is: 0\n",
            "The count is: 0\n",
            "The count is: 0\n",
            "The count is: 0\n",
            "The count is: 0\n",
            "The count is: 0\n",
            "The count is: 0\n",
            "The count is: 0\n",
            "The count is: 0\n",
            "The count is: 0\n",
            "The count is: 0\n",
            "The count is: 0\n",
            "The count is: 0\n",
            "The count is: 0\n",
            "The count is: 0\n",
            "The count is: 0\n",
            "The count is: 0\n",
            "The count is: 0\n",
            "The count is: 0\n",
            "The count is: 0\n",
            "The count is: 0\n",
            "The count is: 0\n",
            "The count is: 0\n",
            "The count is: 0\n",
            "The count is: 0\n",
            "The count is: 0\n",
            "The count is: 0\n",
            "The count is: 0\n",
            "The count is: 0\n",
            "The count is: 0\n",
            "The count is: 0\n",
            "The count is: 0\n",
            "The count is: 0\n",
            "The count is: 0\n",
            "The count is: 0\n",
            "The count is: 0\n",
            "The count is: 0\n",
            "The count is: 0\n",
            "The count is: 0\n",
            "The count is: 0\n",
            "The count is: 0\n",
            "The count is: 0\n",
            "The count is: 0\n",
            "The count is: 0\n",
            "The count is: 0\n",
            "The count is: 0\n",
            "The count is: 0\n",
            "The count is: 0\n",
            "The count is: 0\n",
            "The count is: 0\n",
            "The count is: 0\n",
            "The count is: 0\n",
            "The count is: 0\n",
            "The count is: 0\n",
            "The count is: 0\n",
            "The count is: 0\n",
            "The count is: 0\n",
            "The count is: 0\n",
            "The count is: 0\n",
            "The count is: 0\n",
            "The count is: 0\n",
            "The count is: 0\n",
            "The count is: 0\n",
            "The count is: 0\n",
            "The count is: 0\n",
            "The count is: 0\n",
            "The count is: 0\n",
            "The count is: 0\n",
            "The count is: 0\n",
            "The count is: 0\n",
            "The count is: 0\n",
            "The count is: 0\n",
            "The count is: 0\n",
            "The count is: 0\n",
            "The count is: 0\n",
            "The count is: 0\n",
            "The count is: 0\n",
            "The count is: 0\n",
            "The count is: 0\n",
            "The count is: 0\n",
            "The count is: 0\n",
            "The count is: 0\n",
            "The count is: 0\n",
            "The count is: 0\n",
            "The count is: 0\n",
            "The count is: 0\n",
            "The count is: 0\n",
            "The count is: 0\n",
            "The count is: 0\n",
            "The count is: 0\n",
            "The count is: 0\n",
            "The count is: 0\n",
            "The count is: 0\n",
            "The count is: 0\n",
            "The count is: 0\n",
            "The count is: 0\n",
            "The count is: 0\n",
            "The count is: 0\n",
            "The count is: 0\n",
            "The count is: 0\n",
            "The count is: 0\n",
            "The count is: 0\n",
            "The count is: 0\n",
            "The count is: 0\n",
            "The count is: 0\n",
            "The count is: 0\n",
            "The count is: 0\n",
            "The count is: 0\n",
            "The count is: 0\n",
            "The count is: 0\n",
            "The count is: 0\n",
            "The count is: 0\n",
            "The count is: 0\n",
            "The count is: 0\n",
            "The count is: 0\n",
            "The count is: 0\n",
            "The count is: 0\n",
            "The count is: 0\n",
            "The count is: 0\n",
            "The count is: 0\n",
            "The count is: 0\n",
            "The count is: 0\n",
            "The count is: 0\n",
            "The count is: 0\n",
            "The count is: 0\n",
            "The count is: 0\n",
            "The count is: 0\n",
            "The count is: 0\n",
            "The count is: 0\n",
            "The count is: 0\n",
            "The count is: 0\n",
            "The count is: 0\n",
            "The count is: 0\n",
            "The count is: 0\n",
            "The count is: 0\n",
            "The count is: 0\n",
            "The count is: 0\n",
            "The count is: 0\n",
            "The count is: 0\n",
            "The count is: 0\n",
            "The count is: 0\n",
            "The count is: 0\n",
            "The count is: 0\n",
            "The count is: 0\n",
            "The count is: 0\n",
            "The count is: 0\n",
            "The count is: 0\n",
            "The count is: 0\n",
            "The count is: 0\n",
            "The count is: 0\n",
            "The count is: 0\n",
            "The count is: 0\n",
            "The count is: 0\n",
            "The count is: 0\n",
            "The count is: 0\n",
            "The count is: 0\n",
            "The count is: 0\n",
            "The count is: 0\n",
            "The count is: 0\n",
            "The count is: 0\n",
            "The count is: 0\n",
            "The count is: 0\n",
            "The count is: 0\n",
            "The count is: 0\n",
            "The count is: 0\n",
            "The count is: 0\n",
            "The count is: 0\n",
            "The count is: 0\n",
            "The count is: 0\n",
            "The count is: 0\n",
            "The count is: 0\n",
            "The count is: 0\n",
            "The count is: 0\n",
            "The count is: 0\n",
            "The count is: 0\n",
            "The count is: 0\n",
            "The count is: 0\n",
            "The count is: 0\n",
            "The count is: 0\n",
            "The count is: 0\n",
            "The count is: 0\n",
            "The count is: 0\n",
            "The count is: 0\n",
            "The count is: 0\n",
            "The count is: 0\n",
            "The count is: 0\n",
            "The count is: 0\n",
            "The count is: 0\n",
            "The count is: 0\n",
            "The count is: 0\n",
            "The count is: 0\n",
            "The count is: 0\n",
            "The count is: 0\n",
            "The count is: 0\n",
            "The count is: 0\n",
            "The count is: 0\n",
            "The count is: 0\n",
            "The count is: 0\n",
            "The count is: 0\n",
            "The count is: 0\n",
            "The count is: 0\n",
            "The count is: 0\n",
            "The count is: 0\n",
            "The count is: 0\n",
            "The count is: 0\n",
            "The count is: 0\n",
            "The count is: 0\n",
            "The count is: 0\n",
            "The count is: 0\n",
            "The count is: 0\n",
            "The count is: 0\n",
            "The count is: 0\n",
            "The count is: 0\n",
            "The count is: 0\n",
            "The count is: 0\n",
            "The count is: 0\n",
            "The count is: 0\n",
            "The count is: 0\n",
            "The count is: 0\n",
            "The count is: 0\n",
            "The count is: 0\n",
            "The count is: 0\n",
            "The count is: 0\n",
            "The count is: 0\n",
            "The count is: 0\n",
            "The count is: 0\n",
            "The count is: 0\n",
            "The count is: 0\n",
            "The count is: 0\n",
            "The count is: 0\n",
            "The count is: 0\n",
            "The count is: 0\n",
            "The count is: 0\n",
            "The count is: 0\n",
            "The count is: 0\n",
            "The count is: 0\n",
            "The count is: 0\n",
            "The count is: 0\n",
            "The count is: 0\n",
            "The count is: 0\n",
            "The count is: 0\n",
            "The count is: 0\n",
            "The count is: 0\n",
            "The count is: 0\n",
            "The count is: 0\n",
            "The count is: 0\n",
            "The count is: 0\n",
            "The count is: 0\n",
            "The count is: 0\n",
            "The count is: 0\n",
            "The count is: 0\n",
            "The count is: 0\n",
            "The count is: 0\n",
            "The count is: 0\n",
            "The count is: 0\n",
            "The count is: 0\n",
            "The count is: 0\n",
            "The count is: 0\n",
            "The count is: 0\n",
            "The count is: 0\n",
            "The count is: 0\n",
            "The count is: 0\n",
            "The count is: 0\n",
            "The count is: 0\n",
            "The count is: 0\n",
            "The count is: 0\n",
            "The count is: 0\n",
            "The count is: 0\n",
            "The count is: 0\n",
            "The count is: 0\n",
            "The count is: 0\n",
            "The count is: 0\n",
            "The count is: 0\n",
            "The count is: 0\n",
            "The count is: 0\n",
            "The count is: 0\n",
            "The count is: 0\n",
            "The count is: 0\n",
            "The count is: 0\n",
            "The count is: 0\n",
            "The count is: 0\n",
            "The count is: 0\n",
            "The count is: 0\n",
            "The count is: 0\n",
            "The count is: 0\n",
            "The count is: 0\n",
            "The count is: 0\n",
            "The count is: 0\n",
            "The count is: 0\n",
            "The count is: 0\n",
            "The count is: 0\n",
            "The count is: 0\n",
            "The count is: 0\n",
            "The count is: 0\n",
            "The count is: 0\n",
            "The count is: 0\n",
            "The count is: 0\n",
            "The count is: 0\n",
            "The count is: 0\n",
            "The count is: 0\n",
            "The count is: 0\n",
            "The count is: 0\n",
            "The count is: 0\n",
            "The count is: 0\n",
            "The count is: 0\n",
            "The count is: 0\n",
            "The count is: 0\n",
            "The count is: 0\n",
            "The count is: 0\n",
            "The count is: 0\n",
            "The count is: 0\n",
            "The count is: 0\n",
            "The count is: 0\n",
            "The count is: 0\n",
            "The count is: 0\n",
            "The count is: 0\n",
            "The count is: 0\n",
            "The count is: 0\n",
            "The count is: 0\n",
            "The count is: 0\n",
            "The count is: 0\n",
            "The count is: 0\n",
            "The count is: 0\n",
            "The count is: 0\n",
            "The count is: 0\n",
            "The count is: 0\n",
            "The count is: 0\n",
            "The count is: 0\n",
            "The count is: 0\n",
            "The count is: 0\n",
            "The count is: 0\n",
            "The count is: 0\n",
            "The count is: 0\n",
            "The count is: 0\n",
            "The count is: 0\n",
            "The count is: 0\n",
            "The count is: 0\n",
            "The count is: 0\n",
            "The count is: 0\n",
            "The count is: 0\n",
            "The count is: 0\n",
            "The count is: 0\n",
            "The count is: 0\n",
            "The count is: 0\n",
            "The count is: 0\n",
            "The count is: 0\n",
            "The count is: 0\n",
            "The count is: 0\n",
            "The count is: 0\n",
            "The count is: 0\n",
            "The count is: 0\n",
            "The count is: 0\n",
            "The count is: 0\n",
            "The count is: 0\n",
            "The count is: 0\n",
            "The count is: 0\n",
            "The count is: 0\n",
            "The count is: 0\n",
            "The count is: 0\n",
            "The count is: 0\n",
            "The count is: 0\n",
            "The count is: 0\n",
            "The count is: 0\n",
            "The count is: 0\n",
            "The count is: 0\n",
            "The count is: 0\n",
            "The count is: 0\n",
            "The count is: 0\n",
            "The count is: 0\n",
            "The count is: 0\n",
            "The count is: 0\n",
            "The count is: 0\n",
            "The count is: 0\n",
            "The count is: 0\n",
            "The count is: 0\n",
            "The count is: 0\n",
            "The count is: 0\n",
            "The count is: 0\n",
            "The count is: 0\n",
            "The count is: 0\n",
            "The count is: 0\n",
            "The count is: 0\n",
            "The count is: 0\n",
            "The count is: 0\n",
            "The count is: 0\n",
            "The count is: 0\n",
            "The count is: 0\n",
            "The count is: 0\n",
            "The count is: 0\n",
            "The count is: 0\n",
            "The count is: 0\n",
            "The count is: 0\n",
            "The count is: 0\n",
            "The count is: 0\n",
            "The count is: 0\n",
            "The count is: 0\n",
            "The count is: 0\n",
            "The count is: 0\n",
            "The count is: 0\n",
            "The count is: 0\n",
            "The count is: 0\n",
            "The count is: 0\n",
            "The count is: 0\n",
            "The count is: 0\n",
            "The count is: 0\n",
            "The count is: 0\n",
            "The count is: 0\n",
            "The count is: 0\n",
            "The count is: 0\n",
            "The count is: 0\n",
            "The count is: 0\n",
            "The count is: 0\n",
            "The count is: 0\n",
            "The count is: 0\n",
            "The count is: 0\n",
            "The count is: 0\n",
            "The count is: 0\n",
            "The count is: 0\n",
            "The count is: 0\n",
            "The count is: 0\n",
            "The count is: 0\n",
            "The count is: 0\n",
            "The count is: 0\n",
            "The count is: 0\n",
            "The count is: 0\n",
            "The count is: 0\n",
            "The count is: 0\n",
            "The count is: 0\n",
            "The count is: 0\n",
            "The count is: 0\n",
            "The count is: 0\n",
            "The count is: 0\n",
            "The count is: 0\n",
            "The count is: 0\n",
            "The count is: 0\n",
            "The count is: 0\n",
            "The count is: 0\n",
            "The count is: 0\n",
            "The count is: 0\n",
            "The count is: 0\n",
            "The count is: 0\n",
            "The count is: 0\n",
            "The count is: 0\n",
            "The count is: 0\n",
            "The count is: 0\n",
            "The count is: 0\n",
            "The count is: 0\n",
            "The count is: 0\n",
            "The count is: 0\n",
            "The count is: 0\n",
            "The count is: 0\n",
            "The count is: 0\n",
            "The count is: 0\n",
            "The count is: 0\n",
            "The count is: 0\n",
            "The count is: 0\n",
            "The count is: 0\n",
            "The count is: 0\n",
            "The count is: 0\n",
            "The count is: 0\n",
            "The count is: 0\n",
            "The count is: 0\n",
            "The count is: 0\n",
            "The count is: 0\n",
            "The count is: 0\n",
            "The count is: 0\n",
            "The count is: 0\n",
            "The count is: 0\n",
            "The count is: 0\n",
            "The count is: 0\n",
            "The count is: 0\n",
            "The count is: 0\n",
            "The count is: 0\n",
            "The count is: 0\n",
            "The count is: 0\n",
            "The count is: 0\n",
            "The count is: 0\n",
            "The count is: 0\n",
            "The count is: 0\n",
            "The count is: 0\n",
            "The count is: 0\n",
            "The count is: 0\n",
            "The count is: 0\n",
            "The count is: 0\n",
            "The count is: 0\n",
            "The count is: 0\n",
            "The count is: 0\n",
            "The count is: 0\n",
            "The count is: 0\n",
            "The count is: 0\n",
            "The count is: 0\n",
            "The count is: 0\n",
            "The count is: 0\n",
            "The count is: 0\n",
            "The count is: 0\n",
            "The count is: 0\n",
            "The count is: 0\n",
            "The count is: 0\n",
            "The count is: 0\n",
            "The count is: 0\n",
            "The count is: 0\n",
            "The count is: 0\n",
            "The count is: 0\n",
            "The count is: 0\n",
            "The count is: 0\n",
            "The count is: 0\n",
            "The count is: 0\n",
            "The count is: 0\n",
            "The count is: 0\n",
            "The count is: 0\n",
            "The count is: 0\n",
            "The count is: 0\n",
            "The count is: 0\n",
            "The count is: 0\n",
            "The count is: 0\n",
            "The count is: 0\n",
            "The count is: 0\n",
            "The count is: 0\n",
            "The count is: 0\n",
            "The count is: 0\n",
            "The count is: 0\n",
            "The count is: 0\n",
            "The count is: 0\n",
            "The count is: 0\n",
            "The count is: 0\n",
            "The count is: 0\n",
            "The count is: 0\n",
            "The count is: 0\n",
            "The count is: 0\n",
            "The count is: 0\n",
            "The count is: 0\n",
            "The count is: 0\n",
            "The count is: 0\n",
            "The count is: 0\n",
            "The count is: 0\n",
            "The count is: 0\n",
            "The count is: 0\n",
            "The count is: 0\n",
            "The count is: 0\n",
            "The count is: 0\n",
            "The count is: 0\n",
            "The count is: 0\n",
            "The count is: 0\n",
            "The count is: 0\n",
            "The count is: 0\n",
            "The count is: 0\n",
            "The count is: 0\n",
            "The count is: 0\n",
            "The count is: 0\n",
            "The count is: 0\n",
            "The count is: 0\n",
            "The count is: 0\n",
            "The count is: 0\n",
            "The count is: 0\n",
            "The count is: 0\n",
            "The count is: 0\n",
            "The count is: 0\n",
            "The count is: 0\n",
            "The count is: 0\n",
            "The count is: 0\n",
            "The count is: 0\n",
            "The count is: 0\n",
            "The count is: 0\n",
            "The count is: 0\n",
            "The count is: 0\n",
            "The count is: 0\n",
            "The count is: 0\n",
            "The count is: 0\n",
            "The count is: 0\n",
            "The count is: 0\n",
            "The count is: 0\n",
            "The count is: 0\n",
            "The count is: 0\n",
            "The count is: 0\n",
            "The count is: 0\n",
            "The count is: 0\n",
            "The count is: 0\n",
            "The count is: 0\n",
            "The count is: 0\n",
            "The count is: 0\n",
            "The count is: 0\n",
            "The count is: 0\n",
            "The count is: 0\n",
            "The count is: 0\n",
            "The count is: 0\n",
            "The count is: 0\n",
            "The count is: 0\n",
            "The count is: 0\n",
            "The count is: 0\n",
            "The count is: 0\n",
            "The count is: 0\n",
            "The count is: 0\n",
            "The count is: 0\n",
            "The count is: 0\n",
            "The count is: 0\n",
            "The count is: 0\n",
            "The count is: 0\n",
            "The count is: 0\n",
            "The count is: 0\n",
            "The count is: 0\n",
            "The count is: 0\n",
            "The count is: 0\n",
            "The count is: 0\n",
            "The count is: 0\n",
            "The count is: 0\n",
            "The count is: 0\n",
            "The count is: 0\n",
            "The count is: 0\n",
            "The count is: 0\n",
            "The count is: 0\n",
            "The count is: 0\n",
            "The count is: 0\n",
            "The count is: 0\n",
            "The count is: 0\n",
            "The count is: 0\n",
            "The count is: 0\n",
            "The count is: 0\n",
            "The count is: 0\n",
            "The count is: 0\n",
            "The count is: 0\n",
            "The count is: 0\n",
            "The count is: 0\n",
            "The count is: 0\n",
            "The count is: 0\n",
            "The count is: 0\n",
            "The count is: 0\n",
            "The count is: 0\n",
            "The count is: 0\n",
            "The count is: 0\n",
            "The count is: 0\n",
            "The count is: 0\n",
            "The count is: 0\n",
            "The count is: 0\n",
            "The count is: 0\n",
            "The count is: 0\n",
            "The count is: 0\n",
            "The count is: 0\n",
            "The count is: 0\n",
            "The count is: 0\n",
            "The count is: 0\n",
            "The count is: 0\n",
            "The count is: 0\n",
            "The count is: 0\n",
            "The count is: 0\n",
            "The count is: 0\n",
            "The count is: 0\n",
            "The count is: 0\n",
            "The count is: 0\n",
            "The count is: 0\n",
            "The count is: 0\n",
            "The count is: 0\n",
            "The count is: 0\n",
            "The count is: 0\n",
            "The count is: 0\n",
            "The count is: 0\n",
            "The count is: 0\n",
            "The count is: 0\n",
            "The count is: 0\n",
            "The count is: 0\n",
            "The count is: 0\n",
            "The count is: 0\n",
            "The count is: 0\n",
            "The count is: 0\n",
            "The count is: 0\n",
            "The count is: 0\n",
            "The count is: 0\n",
            "The count is: 0\n",
            "The count is: 0\n",
            "The count is: 0\n",
            "The count is: 0\n",
            "The count is: 0\n",
            "The count is: 0\n",
            "The count is: 0\n",
            "The count is: 0\n",
            "The count is: 0\n",
            "The count is: 0\n",
            "The count is: 0\n",
            "The count is: 0\n",
            "The count is: 0\n",
            "The count is: 0\n",
            "The count is: 0\n",
            "The count is: 0\n",
            "The count is: 0\n",
            "The count is: 0\n",
            "The count is: 0\n",
            "The count is: 0\n",
            "The count is: 0\n",
            "The count is: 0\n",
            "The count is: 0\n",
            "The count is: 0\n",
            "The count is: 0\n",
            "The count is: 0\n",
            "The count is: 0\n",
            "The count is: 0\n",
            "The count is: 0\n",
            "The count is: 0\n",
            "The count is: 0\n",
            "The count is: 0\n",
            "The count is: 0\n",
            "The count is: 0\n",
            "The count is: 0\n",
            "The count is: 0\n",
            "The count is: 0\n",
            "The count is: 0\n",
            "The count is: 0\n",
            "The count is: 0\n",
            "The count is: 0\n",
            "The count is: 0\n",
            "The count is: 0\n",
            "The count is: 0\n",
            "The count is: 0\n",
            "The count is: 0\n",
            "The count is: 0\n",
            "The count is: 0\n",
            "The count is: 0\n",
            "The count is: 0\n",
            "The count is: 0\n",
            "The count is: 0\n",
            "The count is: 0\n",
            "The count is: 0\n",
            "The count is: 0\n",
            "The count is: 0\n",
            "The count is: 0\n",
            "The count is: 0\n",
            "The count is: 0\n",
            "The count is: 0\n",
            "The count is: 0\n",
            "The count is: 0\n",
            "The count is: 0\n",
            "The count is: 0\n",
            "The count is: 0\n",
            "The count is: 0\n",
            "The count is: 0\n",
            "The count is: 0\n",
            "The count is: 0\n",
            "The count is: 0\n",
            "The count is: 0\n",
            "The count is: 0\n",
            "The count is: 0\n",
            "The count is: 0\n",
            "The count is: 0\n",
            "The count is: 0\n",
            "The count is: 0\n",
            "The count is: 0\n",
            "The count is: 0\n",
            "The count is: 0\n",
            "The count is: 0\n",
            "The count is: 0\n",
            "The count is: 0\n",
            "The count is: 0\n",
            "The count is: 0\n",
            "The count is: 0\n",
            "The count is: 0\n",
            "The count is: 0\n",
            "The count is: 0\n",
            "The count is: 0\n",
            "The count is: 0\n",
            "The count is: 0\n",
            "The count is: 0\n",
            "The count is: 0\n",
            "The count is: 0\n",
            "The count is: 0\n",
            "The count is: 0\n",
            "The count is: 0\n",
            "The count is: 0\n",
            "The count is: 0\n",
            "The count is: 0\n",
            "The count is: 0\n",
            "The count is: 0\n",
            "The count is: 0\n",
            "The count is: 0\n",
            "The count is: 0\n",
            "The count is: 0\n",
            "The count is: 0\n",
            "The count is: 0\n",
            "The count is: 0\n",
            "The count is: 0\n",
            "The count is: 0\n",
            "The count is: 0\n",
            "The count is: 0\n",
            "The count is: 0\n",
            "The count is: 0\n",
            "The count is: 0\n",
            "The count is: 0\n",
            "The count is: 0\n",
            "The count is: 0\n",
            "The count is: 0\n",
            "The count is: 0\n",
            "The count is: 0\n",
            "The count is: 0\n",
            "The count is: 0\n",
            "The count is: 0\n",
            "The count is: 0\n",
            "The count is: 0\n",
            "The count is: 0\n",
            "The count is: 0\n",
            "The count is: 0\n",
            "The count is: 0\n",
            "The count is: 0\n",
            "The count is: 0\n",
            "The count is: 0\n",
            "The count is: 0\n",
            "The count is: 0\n",
            "The count is: 0\n",
            "The count is: 0\n",
            "The count is: 0\n",
            "The count is: 0\n",
            "The count is: 0\n",
            "The count is: 0\n",
            "The count is: 0\n",
            "The count is: 0\n",
            "The count is: 0\n",
            "The count is: 0\n",
            "The count is: 0\n",
            "The count is: 0\n",
            "The count is: 0\n",
            "The count is: 0\n",
            "The count is: 0\n",
            "The count is: 0\n",
            "The count is: 0\n",
            "The count is: 0\n",
            "The count is: 0\n",
            "The count is: 0\n",
            "The count is: 0\n",
            "The count is: 0\n",
            "The count is: 0\n",
            "The count is: 0\n",
            "The count is: 0\n",
            "The count is: 0\n",
            "The count is: 0\n",
            "The count is: 0\n",
            "The count is: 0\n",
            "The count is: 0\n",
            "The count is: 0\n",
            "The count is: 0\n",
            "The count is: 0\n",
            "The count is: 0\n",
            "The count is: 0\n",
            "The count is: 0\n",
            "The count is: 0\n",
            "The count is: 0\n",
            "The count is: 0\n",
            "The count is: 0\n",
            "The count is: 0\n",
            "The count is: 0\n",
            "The count is: 0\n",
            "The count is: 0\n",
            "The count is: 0\n",
            "The count is: 0\n",
            "The count is: 0\n",
            "The count is: 0\n",
            "The count is: 0\n",
            "The count is: 0\n",
            "The count is: 0\n",
            "The count is: 0\n",
            "The count is: 0\n",
            "The count is: 0\n",
            "The count is: 0\n",
            "The count is: 0\n",
            "The count is: 0\n",
            "The count is: 0\n",
            "The count is: 0\n",
            "The count is: 0\n",
            "The count is: 0\n",
            "The count is: 0\n",
            "The count is: 0\n",
            "The count is: 0\n",
            "The count is: 0\n",
            "The count is: 0\n",
            "The count is: 0\n",
            "The count is: 0\n",
            "The count is: 0\n",
            "The count is: 0\n",
            "The count is: 0\n",
            "The count is: 0\n",
            "The count is: 0\n",
            "The count is: 0\n",
            "The count is: 0\n",
            "The count is: 0\n",
            "The count is: 0\n",
            "The count is: 0\n",
            "The count is: 0\n",
            "The count is: 0\n",
            "The count is: 0\n",
            "The count is: 0\n",
            "The count is: 0\n",
            "The count is: 0\n",
            "The count is: 0\n",
            "The count is: 0\n",
            "The count is: 0\n",
            "The count is: 0\n",
            "The count is: 0\n",
            "The count is: 0\n",
            "The count is: 0\n",
            "The count is: 0\n",
            "The count is: 0\n",
            "The count is: 0\n",
            "The count is: 0\n",
            "The count is: 0\n",
            "The count is: 0\n",
            "The count is: 0\n",
            "The count is: 0\n",
            "The count is: 0\n",
            "The count is: 0\n",
            "The count is: 0\n",
            "The count is: 0\n",
            "The count is: 0\n",
            "The count is: 0\n",
            "The count is: 0\n",
            "The count is: 0\n",
            "The count is: 0\n",
            "The count is: 0\n",
            "The count is: 0\n",
            "The count is: 0\n",
            "The count is: 0\n",
            "The count is: 0\n",
            "The count is: 0\n",
            "The count is: 0\n",
            "The count is: 0\n",
            "The count is: 0\n",
            "The count is: 0\n",
            "The count is: 0\n",
            "The count is: 0\n",
            "The count is: 0\n",
            "The count is: 0\n",
            "The count is: 0\n",
            "The count is: 0\n",
            "The count is: 0\n",
            "The count is: 0\n",
            "The count is: 0\n",
            "The count is: 0\n",
            "The count is: 0\n",
            "The count is: 0\n",
            "The count is: 0\n",
            "The count is: 0\n",
            "The count is: 0\n",
            "The count is: 0\n",
            "The count is: 0\n",
            "The count is: 0\n",
            "The count is: 0\n",
            "The count is: 0\n",
            "The count is: 0\n",
            "The count is: 0\n",
            "The count is: 0\n",
            "The count is: 0\n",
            "The count is: 0\n",
            "The count is: 0\n",
            "The count is: 0\n",
            "The count is: 0\n",
            "The count is: 0\n",
            "The count is: 0\n",
            "The count is: 0\n",
            "The count is: 0\n",
            "The count is: 0\n",
            "The count is: 0\n",
            "The count is: 0\n",
            "The count is: 0\n",
            "The count is: 0\n",
            "The count is: 0\n",
            "The count is: 0\n",
            "The count is: 0\n",
            "The count is: 0\n",
            "The count is: 0\n",
            "The count is: 0\n",
            "The count is: 0\n",
            "The count is: 0\n",
            "The count is: 0\n",
            "The count is: 0\n",
            "The count is: 0\n",
            "The count is: 0\n",
            "The count is: 0\n",
            "The count is: 0\n",
            "The count is: 0\n",
            "The count is: 0\n",
            "The count is: 0\n",
            "The count is: 0\n",
            "The count is: 0\n",
            "The count is: 0\n",
            "The count is: 0\n",
            "The count is: 0\n",
            "The count is: 0\n",
            "The count is: 0\n",
            "The count is: 0\n",
            "The count is: 0\n",
            "The count is: 0\n",
            "The count is: 0\n",
            "The count is: 0\n",
            "The count is: 0\n",
            "The count is: 0\n",
            "The count is: 0\n",
            "The count is: 0\n",
            "The count is: 0\n",
            "The count is: 0\n",
            "The count is: 0\n",
            "The count is: 0\n",
            "The count is: 0\n",
            "The count is: 0\n",
            "The count is: 0\n",
            "The count is: 0\n",
            "The count is: 0\n",
            "The count is: 0\n",
            "The count is: 0\n",
            "The count is: 0\n",
            "The count is: 0\n",
            "The count is: 0\n",
            "The count is: 0\n",
            "The count is: 0\n",
            "The count is: 0\n",
            "The count is: 0\n",
            "The count is: 0\n",
            "The count is: 0\n",
            "The count is: 0\n",
            "The count is: 0\n",
            "The count is: 0\n",
            "The count is: 0\n",
            "The count is: 0\n",
            "The count is: 0\n",
            "The count is: 0\n",
            "The count is: 0\n",
            "The count is: 0\n",
            "The count is: 0\n",
            "The count is: 0\n",
            "The count is: 0\n",
            "The count is: 0\n",
            "The count is: 0\n",
            "The count is: 0\n",
            "The count is: 0\n",
            "The count is: 0\n",
            "The count is: 0\n",
            "The count is: 0\n",
            "The count is: 0\n",
            "The count is: 0\n",
            "The count is: 0\n",
            "The count is: 0\n",
            "The count is: 0\n",
            "The count is: 0\n",
            "The count is: 0\n",
            "The count is: 0\n",
            "The count is: 0\n",
            "The count is: 0\n",
            "The count is: 0\n",
            "The count is: 0\n",
            "The count is: 0\n",
            "The count is: 0\n",
            "The count is: 0\n",
            "The count is: 0\n",
            "The count is: 0\n",
            "The count is: 0\n",
            "The count is: 0\n",
            "The count is: 0\n",
            "The count is: 0\n",
            "The count is: 0\n",
            "The count is: 0\n",
            "The count is: 0\n",
            "The count is: 0\n",
            "The count is: 0\n",
            "The count is: 0\n",
            "The count is: 0\n",
            "The count is: 0\n",
            "The count is: 0\n",
            "The count is: 0\n",
            "The count is: 0\n",
            "The count is: 0\n",
            "The count is: 0\n",
            "The count is: 0\n",
            "The count is: 0\n",
            "The count is: 0\n",
            "The count is: 0\n",
            "The count is: 0\n",
            "The count is: 0\n",
            "The count is: 0\n",
            "The count is: 0\n",
            "The count is: 0\n",
            "The count is: 0\n",
            "The count is: 0\n",
            "The count is: 0\n",
            "The count is: 0\n",
            "The count is: 0\n",
            "The count is: 0\n",
            "The count is: 0\n",
            "The count is: 0\n",
            "The count is: 0\n",
            "The count is: 0\n",
            "The count is: 0\n",
            "The count is: 0\n",
            "The count is: 0\n",
            "The count is: 0\n",
            "The count is: 0\n",
            "The count is: 0\n",
            "The count is: 0\n",
            "The count is: 0\n",
            "The count is: 0\n",
            "The count is: 0\n",
            "The count is: 0\n",
            "The count is: 0\n",
            "The count is: 0\n",
            "The count is: 0\n",
            "The count is: 0\n",
            "The count is: 0\n",
            "The count is: 0\n",
            "The count is: 0\n",
            "The count is: 0\n",
            "The count is: 0\n",
            "The count is: 0\n",
            "The count is: 0\n",
            "The count is: 0\n",
            "The count is: 0\n",
            "The count is: 0\n",
            "The count is: 0\n",
            "The count is: 0\n",
            "The count is: 0\n",
            "The count is: 0\n",
            "The count is: 0\n",
            "The count is: 0\n",
            "The count is: 0\n",
            "The count is: 0\n",
            "The count is: 0\n",
            "The count is: 0\n",
            "The count is: 0\n",
            "The count is: 0\n",
            "The count is: 0\n",
            "The count is: 0\n",
            "The count is: 0\n",
            "The count is: 0\n",
            "The count is: 0\n",
            "The count is: 0\n",
            "The count is: 0\n",
            "The count is: 0\n",
            "The count is: 0\n",
            "The count is: 0\n",
            "The count is: 0\n",
            "The count is: 0\n",
            "The count is: 0\n",
            "The count is: 0\n",
            "The count is: 0\n",
            "The count is: 0\n",
            "The count is: 0\n",
            "The count is: 0\n",
            "The count is: 0\n",
            "The count is: 0\n",
            "The count is: 0\n",
            "The count is: 0\n",
            "The count is: 0\n",
            "The count is: 0\n",
            "The count is: 0\n",
            "The count is: 0\n",
            "The count is: 0\n",
            "The count is: 0\n",
            "The count is: 0\n",
            "The count is: 0\n",
            "The count is: 0\n",
            "The count is: 0\n",
            "The count is: 0\n",
            "The count is: 0\n",
            "The count is: 0\n",
            "The count is: 0\n",
            "The count is: 0\n",
            "The count is: 0\n",
            "The count is: 0\n",
            "The count is: 0\n",
            "The count is: 0\n",
            "The count is: 0\n",
            "The count is: 0\n",
            "The count is: 0\n",
            "The count is: 0\n",
            "The count is: 0\n",
            "The count is: 0\n",
            "The count is: 0\n",
            "The count is: 0\n",
            "The count is: 0\n",
            "The count is: 0\n",
            "The count is: 0\n",
            "The count is: 0\n",
            "The count is: 0\n",
            "The count is: 0\n",
            "The count is: 0\n",
            "The count is: 0\n",
            "The count is: 0\n",
            "The count is: 0\n",
            "The count is: 0\n",
            "The count is: 0\n",
            "The count is: 0\n",
            "The count is: 0\n",
            "The count is: 0\n",
            "The count is: 0\n",
            "The count is: 0\n",
            "The count is: 0\n",
            "The count is: 0\n",
            "The count is: 0\n",
            "The count is: 0\n",
            "The count is: 0\n",
            "The count is: 0\n",
            "The count is: 0\n",
            "The count is: 0\n",
            "The count is: 0\n",
            "The count is: 0\n",
            "The count is: 0\n",
            "The count is: 0\n",
            "The count is: 0\n",
            "The count is: 0\n",
            "The count is: 0\n",
            "The count is: 0\n",
            "The count is: 0\n",
            "The count is: 0\n",
            "The count is: 0\n",
            "The count is: 0\n",
            "The count is: 0\n",
            "The count is: 0\n",
            "The count is: 0\n",
            "The count is: 0\n",
            "The count is: 0\n",
            "The count is: 0\n",
            "The count is: 0\n",
            "The count is: 0\n",
            "The count is: 0\n",
            "The count is: 0\n",
            "The count is: 0\n",
            "The count is: 0\n",
            "The count is: 0\n",
            "The count is: 0\n",
            "The count is: 0\n",
            "The count is: 0\n",
            "The count is: 0\n",
            "The count is: 0\n",
            "The count is: 0\n",
            "The count is: 0\n",
            "The count is: 0\n",
            "The count is: 0\n",
            "The count is: 0\n",
            "The count is: 0\n",
            "The count is: 0\n",
            "The count is: 0\n",
            "The count is: 0\n",
            "The count is: 0\n",
            "The count is: 0\n",
            "The count is: 0\n",
            "The count is: 0\n",
            "The count is: 0\n",
            "The count is: 0\n",
            "The count is: 0\n",
            "The count is: 0\n",
            "The count is: 0\n",
            "The count is: 0\n",
            "The count is: 0\n",
            "The count is: 0\n",
            "The count is: 0\n",
            "The count is: 0\n",
            "The count is: 0\n",
            "The count is: 0\n",
            "The count is: 0\n",
            "The count is: 0\n",
            "The count is: 0\n",
            "The count is: 0\n",
            "The count is: 0\n",
            "The count is: 0\n",
            "The count is: 0\n",
            "The count is: 0\n",
            "The count is: 0\n",
            "The count is: 0\n",
            "The count is: 0\n",
            "The count is: 0\n",
            "The count is: 0\n",
            "The count is: 0\n",
            "The count is: 0\n",
            "The count is: 0\n",
            "The count is: 0\n",
            "The count is: 0\n",
            "The count is: 0\n",
            "The count is: 0\n",
            "The count is: 0\n",
            "The count is: 0\n",
            "The count is: 0\n",
            "The count is: 0\n",
            "The count is: 0\n",
            "The count is: 0\n",
            "The count is: 0\n",
            "The count is: 0\n",
            "The count is: 0\n",
            "The count is: 0\n",
            "The count is: 0\n",
            "The count is: 0\n",
            "The count is: 0\n",
            "The count is: 0\n",
            "The count is: 0\n",
            "The count is: 0\n",
            "The count is: 0\n",
            "The count is: 0\n",
            "The count is: 0\n",
            "The count is: 0\n",
            "The count is: 0\n",
            "The count is: 0\n",
            "The count is: 0\n",
            "The count is: 0\n",
            "The count is: 0\n",
            "The count is: 0\n",
            "The count is: 0\n",
            "The count is: 0\n",
            "The count is: 0\n",
            "The count is: 0\n",
            "The count is: 0\n",
            "The count is: 0\n",
            "The count is: 0\n",
            "The count is: 0\n",
            "The count is: 0\n",
            "The count is: 0\n",
            "The count is: 0\n",
            "The count is: 0\n",
            "The count is: 0\n",
            "The count is: 0\n",
            "The count is: 0\n",
            "The count is: 0\n",
            "The count is: 0\n",
            "The count is: 0\n",
            "The count is: 0\n",
            "The count is: 0\n",
            "The count is: 0\n",
            "The count is: 0\n",
            "The count is: 0\n",
            "The count is: 0\n",
            "The count is: 0\n",
            "The count is: 0\n",
            "The count is: 0\n",
            "The count is: 0\n",
            "The count is: 0\n",
            "The count is: 0\n",
            "The count is: 0\n",
            "The count is: 0\n",
            "The count is: 0\n",
            "The count is: 0\n",
            "The count is: 0\n",
            "The count is: 0\n",
            "The count is: 0\n",
            "The count is: 0\n",
            "The count is: 0\n",
            "The count is: 0\n",
            "The count is: 0\n",
            "The count is: 0\n",
            "The count is: 0\n",
            "The count is: 0\n",
            "The count is: 0\n",
            "The count is: 0\n",
            "The count is: 0\n",
            "The count is: 0\n",
            "The count is: 0\n",
            "The count is: 0\n",
            "The count is: 0\n",
            "The count is: 0\n",
            "The count is: 0\n",
            "The count is: 0\n",
            "The count is: 0\n",
            "The count is: 0\n",
            "The count is: 0\n",
            "The count is: 0\n",
            "The count is: 0\n",
            "The count is: 0\n",
            "The count is: 0\n",
            "The count is: 0\n",
            "The count is: 0\n",
            "The count is: 0\n",
            "The count is: 0\n",
            "The count is: 0\n",
            "The count is: 0\n",
            "The count is: 0\n",
            "The count is: 0\n",
            "The count is: 0\n",
            "The count is: 0\n",
            "The count is: 0\n",
            "The count is: 0\n",
            "The count is: 0\n",
            "The count is: 0\n",
            "The count is: 0\n",
            "The count is: 0\n",
            "The count is: 0\n",
            "The count is: 0\n",
            "The count is: 0\n",
            "The count is: 0\n",
            "The count is: 0\n",
            "The count is: 0\n",
            "The count is: 0\n",
            "The count is: 0\n",
            "The count is: 0\n",
            "The count is: 0\n",
            "The count is: 0\n",
            "The count is: 0\n",
            "The count is: 0\n",
            "The count is: 0\n",
            "The count is: 0\n",
            "The count is: 0\n",
            "The count is: 0\n",
            "The count is: 0\n",
            "The count is: 0\n",
            "The count is: 0\n",
            "The count is: 0\n",
            "The count is: 0\n",
            "The count is: 0\n",
            "The count is: 0\n",
            "The count is: 0\n",
            "The count is: 0\n",
            "The count is: 0\n",
            "The count is: 0\n",
            "The count is: 0\n",
            "The count is: 0\n",
            "The count is: 0\n",
            "The count is: 0\n",
            "The count is: 0\n",
            "The count is: 0\n",
            "The count is: 0\n",
            "The count is: 0\n",
            "The count is: 0\n",
            "The count is: 0\n",
            "The count is: 0\n",
            "The count is: 0\n",
            "The count is: 0\n",
            "The count is: 0\n",
            "The count is: 0\n",
            "The count is: 0\n",
            "The count is: 0\n",
            "The count is: 0\n",
            "The count is: 0\n",
            "The count is: 0\n",
            "The count is: 0\n",
            "The count is: 0\n",
            "The count is: 0\n",
            "The count is: 0\n",
            "The count is: 0\n",
            "The count is: 0\n",
            "The count is: 0\n",
            "The count is: 0\n",
            "The count is: 0\n",
            "The count is: 0\n",
            "The count is: 0\n",
            "The count is: 0\n",
            "The count is: 0\n",
            "The count is: 0\n",
            "The count is: 0\n",
            "The count is: 0\n",
            "The count is: 0\n",
            "The count is: 0\n",
            "The count is: 0\n",
            "The count is: 0\n",
            "The count is: 0\n",
            "The count is: 0\n",
            "The count is: 0\n",
            "The count is: 0\n",
            "The count is: 0\n",
            "The count is: 0\n",
            "The count is: 0\n",
            "The count is: 0\n",
            "The count is: 0\n",
            "The count is: 0\n",
            "The count is: 0\n",
            "The count is: 0\n",
            "The count is: 0\n",
            "The count is: 0\n",
            "The count is: 0\n",
            "The count is: 0\n",
            "The count is: 0\n",
            "The count is: 0\n",
            "The count is: 0\n",
            "The count is: 0\n",
            "The count is: 0\n",
            "The count is: 0\n",
            "The count is: 0\n",
            "The count is: 0\n",
            "The count is: 0\n",
            "The count is: 0\n",
            "The count is: 0\n",
            "The count is: 0\n",
            "The count is: 0\n",
            "The count is: 0\n",
            "The count is: 0\n",
            "The count is: 0\n",
            "The count is: 0\n",
            "The count is: 0\n",
            "The count is: 0\n",
            "The count is: 0\n",
            "The count is: 0\n",
            "The count is: 0\n",
            "The count is: 0\n",
            "The count is: 0\n",
            "The count is: 0\n",
            "The count is: 0\n",
            "The count is: 0\n",
            "The count is: 0\n",
            "The count is: 0\n",
            "The count is: 0\n",
            "The count is: 0\n",
            "The count is: 0\n",
            "The count is: 0\n",
            "The count is: 0\n",
            "The count is: 0\n",
            "The count is: 0\n",
            "The count is: 0\n",
            "The count is: 0\n",
            "The count is: 0\n",
            "The count is: 0\n",
            "The count is: 0\n",
            "The count is: 0\n",
            "The count is: 0\n",
            "The count is: 0\n",
            "The count is: 0\n",
            "The count is: 0\n",
            "The count is: 0\n",
            "The count is: 0\n",
            "The count is: 0\n",
            "The count is: 0\n",
            "The count is: 0\n",
            "The count is: 0\n",
            "The count is: 0\n",
            "The count is: 0\n",
            "The count is: 0\n",
            "The count is: 0\n",
            "The count is: 0\n",
            "The count is: 0\n",
            "The count is: 0\n",
            "The count is: 0\n",
            "The count is: 0\n",
            "The count is: 0\n",
            "The count is: 0\n",
            "The count is: 0\n",
            "The count is: 0\n",
            "The count is: 0\n",
            "The count is: 0\n",
            "The count is: 0\n",
            "The count is: 0\n",
            "The count is: 0\n",
            "The count is: 0\n",
            "The count is: 0\n",
            "The count is: 0\n",
            "The count is: 0\n",
            "The count is: 0\n",
            "The count is: 0\n",
            "The count is: 0\n",
            "The count is: 0\n",
            "The count is: 0\n",
            "The count is: 0\n",
            "The count is: 0\n",
            "The count is: 0\n",
            "The count is: 0\n",
            "The count is: 0\n",
            "The count is: 0\n",
            "The count is: 0\n",
            "The count is: 0\n",
            "The count is: 0\n",
            "The count is: 0\n",
            "The count is: 0\n",
            "The count is: 0\n",
            "The count is: 0\n",
            "The count is: 0\n",
            "The count is: 0\n",
            "The count is: 0\n",
            "The count is: 0\n",
            "The count is: 0\n",
            "The count is: 0\n",
            "The count is: 0\n",
            "The count is: 0\n",
            "The count is: 0\n",
            "The count is: 0\n",
            "The count is: 0\n",
            "The count is: 0\n",
            "The count is: 0\n",
            "The count is: 0\n",
            "The count is: 0\n",
            "The count is: 0\n",
            "The count is: 0\n",
            "The count is: 0\n",
            "The count is: 0\n",
            "The count is: 0\n",
            "The count is: 0\n",
            "The count is: 0\n",
            "The count is: 0\n",
            "The count is: 0\n",
            "The count is: 0\n",
            "The count is: 0\n",
            "The count is: 0\n",
            "The count is: 0\n",
            "The count is: 0\n",
            "The count is: 0\n",
            "The count is: 0\n",
            "The count is: 0\n",
            "The count is: 0\n",
            "The count is: 0\n",
            "The count is: 0\n",
            "The count is: 0\n",
            "The count is: 0\n",
            "The count is: 0\n",
            "The count is: 0\n",
            "The count is: 0\n",
            "The count is: 0\n",
            "The count is: 0\n",
            "The count is: 0\n",
            "The count is: 0\n",
            "The count is: 0\n",
            "The count is: 0\n",
            "The count is: 0\n",
            "The count is: 0\n",
            "The count is: 0\n",
            "The count is: 0\n",
            "The count is: 0\n",
            "The count is: 0\n",
            "The count is: 0\n",
            "The count is: 0\n",
            "The count is: 0\n",
            "The count is: 0\n",
            "The count is: 0\n",
            "The count is: 0\n",
            "The count is: 0\n",
            "The count is: 0\n",
            "The count is: 0\n",
            "The count is: 0\n",
            "The count is: 0\n",
            "The count is: 0\n",
            "The count is: 0\n",
            "The count is: 0\n",
            "The count is: 0\n",
            "The count is: 0\n",
            "The count is: 0\n",
            "The count is: 0\n",
            "The count is: 0\n",
            "The count is: 0\n",
            "The count is: 0\n",
            "The count is: 0\n",
            "The count is: 0\n",
            "The count is: 0\n",
            "The count is: 0\n",
            "The count is: 0\n",
            "The count is: 0\n",
            "The count is: 0\n",
            "The count is: 0\n",
            "The count is: 0\n",
            "The count is: 0\n",
            "The count is: 0\n",
            "The count is: 0\n",
            "The count is: 0\n",
            "The count is: 0\n",
            "The count is: 0\n",
            "The count is: 0\n",
            "The count is: 0\n",
            "The count is: 0\n",
            "The count is: 0\n",
            "The count is: 0\n",
            "The count is: 0\n",
            "The count is: 0\n",
            "The count is: 0\n",
            "The count is: 0\n",
            "The count is: 0\n",
            "The count is: 0\n",
            "The count is: 0\n",
            "The count is: 0\n",
            "The count is: 0\n",
            "The count is: 0\n",
            "The count is: 0\n",
            "The count is: 0\n",
            "The count is: 0\n",
            "The count is: 0\n",
            "The count is: 0\n",
            "The count is: 0\n",
            "The count is: 0\n",
            "The count is: 0\n",
            "The count is: 0\n",
            "The count is: 0\n",
            "The count is: 0\n",
            "The count is: 0\n",
            "The count is: 0\n",
            "The count is: 0\n",
            "The count is: 0\n",
            "The count is: 0\n",
            "The count is: 0\n",
            "The count is: 0\n",
            "The count is: 0\n",
            "The count is: 0\n",
            "The count is: 0\n",
            "The count is: 0\n",
            "The count is: 0\n",
            "The count is: 0\n",
            "The count is: 0\n",
            "The count is: 0\n",
            "The count is: 0\n",
            "The count is: 0\n",
            "The count is: 0\n",
            "The count is: 0\n",
            "The count is: 0\n",
            "The count is: 0\n",
            "The count is: 0\n",
            "The count is: 0\n",
            "The count is: 0\n",
            "The count is: 0\n",
            "The count is: 0\n",
            "The count is: 0\n",
            "The count is: 0\n",
            "The count is: 0\n",
            "The count is: 0\n",
            "The count is: 0\n",
            "The count is: 0\n",
            "The count is: 0\n",
            "The count is: 0\n",
            "The count is: 0\n",
            "The count is: 0\n",
            "The count is: 0\n",
            "The count is: 0\n",
            "The count is: 0\n",
            "The count is: 0\n",
            "The count is: 0\n",
            "The count is: 0\n",
            "The count is: 0\n",
            "The count is: 0\n",
            "The count is: 0\n",
            "The count is: 0\n",
            "The count is: 0\n",
            "The count is: 0\n",
            "The count is: 0\n",
            "The count is: 0\n",
            "The count is: 0\n",
            "The count is: 0\n",
            "The count is: 0\n",
            "The count is: 0\n",
            "The count is: 0\n",
            "The count is: 0\n",
            "The count is: 0\n",
            "The count is: 0\n",
            "The count is: 0\n",
            "The count is: 0\n",
            "The count is: 0\n",
            "The count is: 0\n",
            "The count is: 0\n",
            "The count is: 0\n",
            "The count is: 0\n",
            "The count is: 0\n",
            "The count is: 0\n",
            "The count is: 0\n",
            "The count is: 0\n",
            "The count is: 0\n",
            "The count is: 0\n",
            "The count is: 0\n",
            "The count is: 0\n",
            "The count is: 0\n",
            "The count is: 0\n",
            "The count is: 0\n",
            "The count is: 0\n",
            "The count is: 0\n",
            "The count is: 0\n",
            "The count is: 0\n",
            "The count is: 0\n",
            "The count is: 0\n",
            "The count is: 0\n",
            "The count is: 0\n",
            "The count is: 0\n",
            "The count is: 0\n",
            "The count is: 0\n",
            "The count is: 0\n",
            "The count is: 0\n",
            "The count is: 0\n",
            "The count is: 0\n",
            "The count is: 0\n",
            "The count is: 0\n",
            "The count is: 0\n",
            "The count is: 0\n",
            "The count is: 0\n",
            "The count is: 0\n",
            "The count is: 0\n",
            "The count is: 0\n",
            "The count is: 0\n",
            "The count is: 0\n",
            "The count is: 0\n",
            "The count is: 0\n",
            "The count is: 0\n",
            "The count is: 0\n",
            "The count is: 0\n",
            "The count is: 0\n",
            "The count is: 0\n",
            "The count is: 0\n",
            "The count is: 0\n",
            "The count is: 0\n",
            "The count is: 0\n",
            "The count is: 0\n",
            "The count is: 0\n",
            "The count is: 0\n",
            "The count is: 0\n",
            "The count is: 0\n",
            "The count is: 0\n",
            "The count is: 0\n",
            "The count is: 0\n",
            "The count is: 0\n",
            "The count is: 0\n",
            "The count is: 0\n",
            "The count is: 0\n",
            "The count is: 0\n",
            "The count is: 0\n",
            "The count is: 0\n",
            "The count is: 0\n",
            "The count is: 0\n",
            "The count is: 0\n",
            "The count is: 0\n",
            "The count is: 0\n",
            "The count is: 0\n",
            "The count is: 0\n",
            "The count is: 0\n",
            "The count is: 0\n",
            "The count is: 0\n",
            "The count is: 0\n",
            "The count is: 0\n",
            "The count is: 0\n",
            "The count is: 0\n",
            "The count is: 0\n",
            "The count is: 0\n",
            "The count is: 0\n",
            "The count is: 0\n",
            "The count is: 0\n",
            "The count is: 0\n",
            "The count is: 0\n",
            "The count is: 0\n",
            "The count is: 0\n",
            "The count is: 0\n",
            "The count is: 0\n",
            "The count is: 0\n",
            "The count is: 0\n",
            "The count is: 0\n",
            "The count is: 0\n",
            "The count is: 0\n",
            "The count is: 0\n",
            "The count is: 0\n",
            "The count is: 0\n",
            "The count is: 0\n",
            "The count is: 0\n",
            "The count is: 0\n",
            "The count is: 0\n",
            "The count is: 0\n",
            "The count is: 0\n",
            "The count is: 0\n",
            "The count is: 0\n",
            "The count is: 0\n",
            "The count is: 0\n",
            "The count is: 0\n",
            "The count is: 0\n",
            "The count is: 0\n",
            "The count is: 0\n",
            "The count is: 0\n",
            "The count is: 0\n",
            "The count is: 0\n",
            "The count is: 0\n",
            "The count is: 0\n",
            "The count is: 0\n",
            "The count is: 0\n",
            "The count is: 0\n",
            "The count is: 0\n",
            "The count is: 0\n",
            "The count is: 0\n",
            "The count is: 0\n",
            "The count is: 0\n",
            "The count is: 0\n",
            "The count is: 0\n",
            "The count is: 0\n",
            "The count is: 0\n",
            "The count is: 0\n",
            "The count is: 0\n",
            "The count is: 0\n",
            "The count is: 0\n",
            "The count is: 0\n",
            "The count is: 0\n",
            "The count is: 0\n",
            "The count is: 0\n",
            "The count is: 0\n",
            "The count is: 0\n",
            "The count is: 0\n",
            "The count is: 0\n",
            "The count is: 0\n",
            "The count is: 0\n",
            "The count is: 0\n",
            "The count is: 0\n",
            "The count is: 0\n",
            "The count is: 0\n",
            "The count is: 0\n",
            "The count is: 0\n",
            "The count is: 0\n",
            "The count is: 0\n",
            "The count is: 0\n",
            "The count is: 0\n",
            "The count is: 0\n",
            "The count is: 0\n",
            "The count is: 0\n",
            "The count is: 0\n",
            "The count is: 0\n",
            "The count is: 0\n",
            "The count is: 0\n",
            "The count is: 0\n",
            "The count is: 0\n",
            "The count is: 0\n",
            "The count is: 0\n",
            "The count is: 0\n",
            "The count is: 0\n",
            "The count is: 0\n",
            "The count is: 0\n",
            "The count is: 0\n",
            "The count is: 0\n",
            "The count is: 0\n",
            "The count is: 0\n",
            "The count is: 0\n",
            "The count is: 0\n",
            "The count is: 0\n",
            "The count is: 0\n",
            "The count is: 0\n",
            "The count is: 0\n",
            "The count is: 0\n",
            "The count is: 0\n",
            "The count is: 0\n",
            "The count is: 0\n",
            "The count is: 0\n",
            "The count is: 0\n",
            "The count is: 0\n",
            "The count is: 0\n",
            "The count is: 0\n",
            "The count is: 0\n",
            "The count is: 0\n",
            "The count is: 0\n",
            "The count is: 0\n",
            "The count is: 0\n",
            "The count is: 0\n",
            "The count is: 0\n",
            "The count is: 0\n",
            "The count is: 0\n",
            "The count is: 0\n",
            "The count is: 0\n",
            "The count is: 0\n",
            "The count is: 0\n",
            "The count is: 0"
          ],
          "name": "stdout"
        },
        {
          "output_type": "error",
          "ename": "KeyboardInterrupt",
          "evalue": "ignored",
          "traceback": [
            "\u001b[0;31m---------------------------------------------------------------------------\u001b[0m",
            "\u001b[0;31mKeyboardInterrupt\u001b[0m                         Traceback (most recent call last)",
            "\u001b[0;32m<ipython-input-28-d18b09b8ebef>\u001b[0m in \u001b[0;36m<module>\u001b[0;34m()\u001b[0m\n\u001b[1;32m      1\u001b[0m \u001b[0mcount\u001b[0m \u001b[0;34m=\u001b[0m \u001b[0;36m0\u001b[0m\u001b[0;34m\u001b[0m\u001b[0;34m\u001b[0m\u001b[0m\n\u001b[1;32m      2\u001b[0m \u001b[0;32mwhile\u001b[0m \u001b[0;34m(\u001b[0m\u001b[0mcount\u001b[0m \u001b[0;34m<\u001b[0m \u001b[0;36m5\u001b[0m\u001b[0;34m)\u001b[0m\u001b[0;34m:\u001b[0m\u001b[0;34m\u001b[0m\u001b[0;34m\u001b[0m\u001b[0m\n\u001b[0;32m----> 3\u001b[0;31m  \u001b[0mprint\u001b[0m\u001b[0;34m(\u001b[0m\u001b[0;34m'The count is:'\u001b[0m\u001b[0;34m,\u001b[0m \u001b[0mcount\u001b[0m\u001b[0;34m)\u001b[0m\u001b[0;34m\u001b[0m\u001b[0;34m\u001b[0m\u001b[0m\n\u001b[0m\u001b[1;32m      4\u001b[0m \u001b[0mprint\u001b[0m\u001b[0;34m(\u001b[0m\u001b[0;34m'Good bye!'\u001b[0m\u001b[0;34m)\u001b[0m\u001b[0;34m\u001b[0m\u001b[0;34m\u001b[0m\u001b[0m\n",
            "\u001b[0;32m/usr/local/lib/python3.7/dist-packages/ipykernel/iostream.py\u001b[0m in \u001b[0;36mwrite\u001b[0;34m(self, string)\u001b[0m\n\u001b[1;32m    398\u001b[0m             \u001b[0mis_child\u001b[0m \u001b[0;34m=\u001b[0m \u001b[0;34m(\u001b[0m\u001b[0;32mnot\u001b[0m \u001b[0mself\u001b[0m\u001b[0;34m.\u001b[0m\u001b[0m_is_master_process\u001b[0m\u001b[0;34m(\u001b[0m\u001b[0;34m)\u001b[0m\u001b[0;34m)\u001b[0m\u001b[0;34m\u001b[0m\u001b[0;34m\u001b[0m\u001b[0m\n\u001b[1;32m    399\u001b[0m             \u001b[0;31m# only touch the buffer in the IO thread to avoid races\u001b[0m\u001b[0;34m\u001b[0m\u001b[0;34m\u001b[0m\u001b[0;34m\u001b[0m\u001b[0m\n\u001b[0;32m--> 400\u001b[0;31m             \u001b[0mself\u001b[0m\u001b[0;34m.\u001b[0m\u001b[0mpub_thread\u001b[0m\u001b[0;34m.\u001b[0m\u001b[0mschedule\u001b[0m\u001b[0;34m(\u001b[0m\u001b[0;32mlambda\u001b[0m \u001b[0;34m:\u001b[0m \u001b[0mself\u001b[0m\u001b[0;34m.\u001b[0m\u001b[0m_buffer\u001b[0m\u001b[0;34m.\u001b[0m\u001b[0mwrite\u001b[0m\u001b[0;34m(\u001b[0m\u001b[0mstring\u001b[0m\u001b[0;34m)\u001b[0m\u001b[0;34m)\u001b[0m\u001b[0;34m\u001b[0m\u001b[0;34m\u001b[0m\u001b[0m\n\u001b[0m\u001b[1;32m    401\u001b[0m             \u001b[0;32mif\u001b[0m \u001b[0mis_child\u001b[0m\u001b[0;34m:\u001b[0m\u001b[0;34m\u001b[0m\u001b[0;34m\u001b[0m\u001b[0m\n\u001b[1;32m    402\u001b[0m                 \u001b[0;31m# newlines imply flush in subprocesses\u001b[0m\u001b[0;34m\u001b[0m\u001b[0;34m\u001b[0m\u001b[0;34m\u001b[0m\u001b[0m\n",
            "\u001b[0;32m/usr/local/lib/python3.7/dist-packages/ipykernel/iostream.py\u001b[0m in \u001b[0;36mschedule\u001b[0;34m(self, f)\u001b[0m\n\u001b[1;32m    201\u001b[0m             \u001b[0mself\u001b[0m\u001b[0;34m.\u001b[0m\u001b[0m_events\u001b[0m\u001b[0;34m.\u001b[0m\u001b[0mappend\u001b[0m\u001b[0;34m(\u001b[0m\u001b[0mf\u001b[0m\u001b[0;34m)\u001b[0m\u001b[0;34m\u001b[0m\u001b[0;34m\u001b[0m\u001b[0m\n\u001b[1;32m    202\u001b[0m             \u001b[0;31m# wake event thread (message content is ignored)\u001b[0m\u001b[0;34m\u001b[0m\u001b[0;34m\u001b[0m\u001b[0;34m\u001b[0m\u001b[0m\n\u001b[0;32m--> 203\u001b[0;31m             \u001b[0mself\u001b[0m\u001b[0;34m.\u001b[0m\u001b[0m_event_pipe\u001b[0m\u001b[0;34m.\u001b[0m\u001b[0msend\u001b[0m\u001b[0;34m(\u001b[0m\u001b[0;34mb''\u001b[0m\u001b[0;34m)\u001b[0m\u001b[0;34m\u001b[0m\u001b[0;34m\u001b[0m\u001b[0m\n\u001b[0m\u001b[1;32m    204\u001b[0m         \u001b[0;32melse\u001b[0m\u001b[0;34m:\u001b[0m\u001b[0;34m\u001b[0m\u001b[0;34m\u001b[0m\u001b[0m\n\u001b[1;32m    205\u001b[0m             \u001b[0mf\u001b[0m\u001b[0;34m(\u001b[0m\u001b[0;34m)\u001b[0m\u001b[0;34m\u001b[0m\u001b[0;34m\u001b[0m\u001b[0m\n",
            "\u001b[0;32m/usr/local/lib/python3.7/dist-packages/zmq/sugar/socket.py\u001b[0m in \u001b[0;36msend\u001b[0;34m(self, data, flags, copy, track, routing_id, group)\u001b[0m\n\u001b[1;32m    503\u001b[0m                 )\n\u001b[1;32m    504\u001b[0m             \u001b[0mdata\u001b[0m\u001b[0;34m.\u001b[0m\u001b[0mgroup\u001b[0m \u001b[0;34m=\u001b[0m \u001b[0mgroup\u001b[0m\u001b[0;34m\u001b[0m\u001b[0;34m\u001b[0m\u001b[0m\n\u001b[0;32m--> 505\u001b[0;31m         \u001b[0;32mreturn\u001b[0m \u001b[0msuper\u001b[0m\u001b[0;34m(\u001b[0m\u001b[0mSocket\u001b[0m\u001b[0;34m,\u001b[0m \u001b[0mself\u001b[0m\u001b[0;34m)\u001b[0m\u001b[0;34m.\u001b[0m\u001b[0msend\u001b[0m\u001b[0;34m(\u001b[0m\u001b[0mdata\u001b[0m\u001b[0;34m,\u001b[0m \u001b[0mflags\u001b[0m\u001b[0;34m=\u001b[0m\u001b[0mflags\u001b[0m\u001b[0;34m,\u001b[0m \u001b[0mcopy\u001b[0m\u001b[0;34m=\u001b[0m\u001b[0mcopy\u001b[0m\u001b[0;34m,\u001b[0m \u001b[0mtrack\u001b[0m\u001b[0;34m=\u001b[0m\u001b[0mtrack\u001b[0m\u001b[0;34m)\u001b[0m\u001b[0;34m\u001b[0m\u001b[0;34m\u001b[0m\u001b[0m\n\u001b[0m\u001b[1;32m    506\u001b[0m \u001b[0;34m\u001b[0m\u001b[0m\n\u001b[1;32m    507\u001b[0m     \u001b[0;32mdef\u001b[0m \u001b[0msend_multipart\u001b[0m\u001b[0;34m(\u001b[0m\u001b[0mself\u001b[0m\u001b[0;34m,\u001b[0m \u001b[0mmsg_parts\u001b[0m\u001b[0;34m,\u001b[0m \u001b[0mflags\u001b[0m\u001b[0;34m=\u001b[0m\u001b[0;36m0\u001b[0m\u001b[0;34m,\u001b[0m \u001b[0mcopy\u001b[0m\u001b[0;34m=\u001b[0m\u001b[0;32mTrue\u001b[0m\u001b[0;34m,\u001b[0m \u001b[0mtrack\u001b[0m\u001b[0;34m=\u001b[0m\u001b[0;32mFalse\u001b[0m\u001b[0;34m,\u001b[0m \u001b[0;34m**\u001b[0m\u001b[0mkwargs\u001b[0m\u001b[0;34m)\u001b[0m\u001b[0;34m:\u001b[0m\u001b[0;34m\u001b[0m\u001b[0;34m\u001b[0m\u001b[0m\n",
            "\u001b[0;32mzmq/backend/cython/socket.pyx\u001b[0m in \u001b[0;36mzmq.backend.cython.socket.Socket.send\u001b[0;34m()\u001b[0m\n",
            "\u001b[0;32mzmq/backend/cython/socket.pyx\u001b[0m in \u001b[0;36mzmq.backend.cython.socket.Socket.send\u001b[0;34m()\u001b[0m\n",
            "\u001b[0;32mzmq/backend/cython/socket.pyx\u001b[0m in \u001b[0;36mzmq.backend.cython.socket._send_copy\u001b[0;34m()\u001b[0m\n",
            "\u001b[0;32m/usr/local/lib/python3.7/dist-packages/zmq/backend/cython/checkrc.pxd\u001b[0m in \u001b[0;36mzmq.backend.cython.checkrc._check_rc\u001b[0;34m()\u001b[0m\n",
            "\u001b[0;31mKeyboardInterrupt\u001b[0m: "
          ]
        }
      ]
    },
    {
      "cell_type": "code",
      "metadata": {
        "colab": {
          "base_uri": "https://localhost:8080/"
        },
        "id": "VVsZJoQ9nInq",
        "outputId": "0630fdc9-62d1-4213-cf3a-6ded583ceaa1"
      },
      "source": [
        "# contoh penggunaan statement break\n",
        "for letter in \"Programming\":\n",
        "  if letter == \"g\":\n",
        "    break\n",
        "  print(\"Huruf sekarang:\", letter)\n",
        "print(\"Good bye\")\n"
      ],
      "execution_count": 30,
      "outputs": [
        {
          "output_type": "stream",
          "text": [
            "Huruf sekarang: P\n",
            "Huruf sekarang: r\n",
            "Huruf sekarang: o\n",
            "Good bye\n"
          ],
          "name": "stdout"
        }
      ]
    },
    {
      "cell_type": "code",
      "metadata": {
        "colab": {
          "base_uri": "https://localhost:8080/"
        },
        "id": "W_N48gZ4ndST",
        "outputId": "5c8c3fc7-9ab4-476f-f989-d10e1c697a1f"
      },
      "source": [
        "# contoh penggunaan statement break\n",
        "for letter in \"Programming\":\n",
        "  if letter == \"g\":\n",
        "    continue\n",
        "  print(\"Huruf sekarang:\", letter)\n",
        "print(\"Good bye\")"
      ],
      "execution_count": 32,
      "outputs": [
        {
          "output_type": "stream",
          "text": [
            "Huruf sekarang: P\n",
            "Huruf sekarang: r\n",
            "Huruf sekarang: o\n",
            "Huruf sekarang: r\n",
            "Huruf sekarang: a\n",
            "Huruf sekarang: m\n",
            "Huruf sekarang: m\n",
            "Huruf sekarang: i\n",
            "Huruf sekarang: n\n",
            "Good bye\n"
          ],
          "name": "stdout"
        }
      ]
    },
    {
      "cell_type": "code",
      "metadata": {
        "colab": {
          "base_uri": "https://localhost:8080/"
        },
        "id": "B5nO9V9UnqWw",
        "outputId": "36565ec9-579b-41de-eecf-08b444fdecbb"
      },
      "source": [
        "count = 0\n",
        "while (count < 5):\n",
        "  print(count, \"kurang dari 5\")\n",
        "  count = count + 1\n",
        "else:\n",
        "  print(count, \"tidak kurang dari 5\")\n"
      ],
      "execution_count": 33,
      "outputs": [
        {
          "output_type": "stream",
          "text": [
            "0 kurang dari 5\n",
            "1 kurang dari 5\n",
            "2 kurang dari 5\n",
            "3 kurang dari 5\n",
            "4 kurang dari 5\n",
            "5 tidak kurang dari 5\n"
          ],
          "name": "stdout"
        }
      ]
    },
    {
      "cell_type": "markdown",
      "metadata": {
        "id": "rdLYly9znz64"
      },
      "source": [
        "Bilangan (Number)\n"
      ]
    },
    {
      "cell_type": "code",
      "metadata": {
        "colab": {
          "base_uri": "https://localhost:8080/"
        },
        "id": "QB8YFkv4n0bi",
        "outputId": "557f81f5-d9e8-469e-9f07-91965a4b4d81"
      },
      "source": [
        "int(2.5)\n"
      ],
      "execution_count": 34,
      "outputs": [
        {
          "output_type": "execute_result",
          "data": {
            "text/plain": [
              "2"
            ]
          },
          "metadata": {
            "tags": []
          },
          "execution_count": 34
        }
      ]
    },
    {
      "cell_type": "code",
      "metadata": {
        "colab": {
          "base_uri": "https://localhost:8080/"
        },
        "id": "9R4pVDnCoBBw",
        "outputId": "06e62964-a456-4759-c30a-6cc24eaad351"
      },
      "source": [
        " int(3.8)\n"
      ],
      "execution_count": 35,
      "outputs": [
        {
          "output_type": "execute_result",
          "data": {
            "text/plain": [
              "3"
            ]
          },
          "metadata": {
            "tags": []
          },
          "execution_count": 35
        }
      ]
    },
    {
      "cell_type": "code",
      "metadata": {
        "colab": {
          "base_uri": "https://localhost:8080/"
        },
        "id": "bq_h0EIvoDt1",
        "outputId": "b346a2ff-57b3-474a-d3c8-6c8dc54c50a2"
      },
      "source": [
        "float(5)\n"
      ],
      "execution_count": 36,
      "outputs": [
        {
          "output_type": "execute_result",
          "data": {
            "text/plain": [
              "5.0"
            ]
          },
          "metadata": {
            "tags": []
          },
          "execution_count": 36
        }
      ]
    },
    {
      "cell_type": "code",
      "metadata": {
        "colab": {
          "base_uri": "https://localhost:8080/"
        },
        "id": "ygJSv4WEoOoH",
        "outputId": "72f55fba-bb08-4509-e760-184286364327"
      },
      "source": [
        " (1.1 + 2.2 ) == 3.3\n"
      ],
      "execution_count": 37,
      "outputs": [
        {
          "output_type": "execute_result",
          "data": {
            "text/plain": [
              "False"
            ]
          },
          "metadata": {
            "tags": []
          },
          "execution_count": 37
        }
      ]
    },
    {
      "cell_type": "code",
      "metadata": {
        "colab": {
          "base_uri": "https://localhost:8080/"
        },
        "id": "dKNP1p6OoPws",
        "outputId": "077e8e28-0b04-45e7-f698-ec3cb0b7a494"
      },
      "source": [
        " 1.1 + 2.2"
      ],
      "execution_count": 38,
      "outputs": [
        {
          "output_type": "execute_result",
          "data": {
            "text/plain": [
              "3.3000000000000003"
            ]
          },
          "metadata": {
            "tags": []
          },
          "execution_count": 38
        }
      ]
    },
    {
      "cell_type": "code",
      "metadata": {
        "colab": {
          "base_uri": "https://localhost:8080/"
        },
        "id": "tCtNk0EHoavI",
        "outputId": "bad31695-bc65-4558-8f2c-ff9de4634bda"
      },
      "source": [
        "import decimal\n",
        "#output: 0.1\n",
        "print(0.1)\n",
        "#output: \n",
        "#Decimal('0.1000000000000000055511151231257827021181583404541015625')\n",
        "print(decimal.Decimal(0.1))\n"
      ],
      "execution_count": 40,
      "outputs": [
        {
          "output_type": "stream",
          "text": [
            "0.1\n",
            "0.1000000000000000055511151231257827021181583404541015625\n"
          ],
          "name": "stdout"
        }
      ]
    },
    {
      "cell_type": "code",
      "metadata": {
        "colab": {
          "base_uri": "https://localhost:8080/"
        },
        "id": "bPj32enhoicj",
        "outputId": "f12624e5-bc35-4698-f3a3-b9048b26d00c"
      },
      "source": [
        "from decimal import Decimal as D\n",
        "#output: Decimal('3.3')\n",
        "print(D('1.1') + D('2.2'))\n",
        "#output: Decimal('3.000')\n",
        "print(D('1.2') * D('2.50'))"
      ],
      "execution_count": 41,
      "outputs": [
        {
          "output_type": "stream",
          "text": [
            "3.3\n",
            "3.000\n"
          ],
          "name": "stdout"
        }
      ]
    },
    {
      "cell_type": "code",
      "metadata": {
        "colab": {
          "base_uri": "https://localhost:8080/"
        },
        "id": "Hc6KJOIOoxKM",
        "outputId": "b997a490-501b-4332-e40b-018aec31ad6e"
      },
      "source": [
        "import fractions \n",
        "#output: 3/2 \n",
        "print(fractions.Fraction(1.5)) \n",
        "#output: 1/3 \n",
        "print(fractions.Fraction(1,3))"
      ],
      "execution_count": 42,
      "outputs": [
        {
          "output_type": "stream",
          "text": [
            "3/2\n",
            "1/3\n"
          ],
          "name": "stdout"
        }
      ]
    },
    {
      "cell_type": "code",
      "metadata": {
        "colab": {
          "base_uri": "https://localhost:8080/"
        },
        "id": "gtm6B1HfozOr",
        "outputId": "de3b6e57-4e27-46c6-9c37-4df4c8d74381"
      },
      "source": [
        "from fractions import Fraction as F \n",
        "# Output: 2/3 \n",
        "print(F(1,3) + F(1,3)) \n",
        "# Output: 6/5 \n",
        "print(1 / F(5,6)) \n",
        "# Output True \n",
        "print(F(-3,10) < 0)\n"
      ],
      "execution_count": 44,
      "outputs": [
        {
          "output_type": "stream",
          "text": [
            "2/3\n",
            "6/5\n",
            "True\n"
          ],
          "name": "stdout"
        }
      ]
    },
    {
      "cell_type": "code",
      "metadata": {
        "colab": {
          "base_uri": "https://localhost:8080/"
        },
        "id": "_Tx9cIZBpKWS",
        "outputId": "654945e8-03ca-4b1f-9d73-dc656f150a7d"
      },
      "source": [
        "import math \n",
        "# Output: 3.141592653589793 \n",
        "print(math.pi) \n",
        "# Output: -1.0 \n",
        "print(math.cos(math.pi)) \n",
        "# Output: 148.4131591025766 \n",
        "print(math.exp(5)) \n",
        "# Output: 2.0 \n",
        "print(math.log10(100)) \n",
        "# Output: 120 \n",
        "print(math.factorial(5))"
      ],
      "execution_count": 46,
      "outputs": [
        {
          "output_type": "stream",
          "text": [
            "3.141592653589793\n",
            "-1.0\n",
            "148.4131591025766\n",
            "2.0\n",
            "120\n"
          ],
          "name": "stdout"
        }
      ]
    },
    {
      "cell_type": "markdown",
      "metadata": {
        "id": "RX4iiD8Npjkk"
      },
      "source": [
        "String"
      ]
    },
    {
      "cell_type": "code",
      "metadata": {
        "colab": {
          "base_uri": "https://localhost:8080/"
        },
        "id": "ZG_nVtVvpke5",
        "outputId": "361c5f98-3b42-4978-b43c-e66221e27585"
      },
      "source": [
        "var1 = 'Hello Python!' \n",
        "var2 = \"I love Python\" \n",
        "print(\"var1[0]\", var1[0]) \n",
        "print(\"var2[2:6]:\",var2[2:6])\n"
      ],
      "execution_count": 47,
      "outputs": [
        {
          "output_type": "stream",
          "text": [
            "var1[0] H\n",
            "var2[2:6]: love\n"
          ],
          "name": "stdout"
        }
      ]
    },
    {
      "cell_type": "code",
      "metadata": {
        "colab": {
          "base_uri": "https://localhost:8080/"
        },
        "id": "kFN8TBD7prcv",
        "outputId": "c542b680-394e-4cab-9395-0a641400dfcd"
      },
      "source": [
        "var1 = 'Hello Python!' \n",
        "var2 = var1[:6] \n",
        "print(\"String Update: - \", var1[:6] + 'World')\n"
      ],
      "execution_count": 48,
      "outputs": [
        {
          "output_type": "stream",
          "text": [
            "String Update: -  Hello World\n"
          ],
          "name": "stdout"
        }
      ]
    },
    {
      "cell_type": "code",
      "metadata": {
        "colab": {
          "base_uri": "https://localhost:8080/"
        },
        "id": "Q50DUrXnp0oU",
        "outputId": "18534941-820a-4b80-f273-19fc5249c7dc"
      },
      "source": [
        "str1 = 'Hello' \n",
        "str2 = 'Python' \n",
        "# menggunakan + \n",
        "print('str1 + str2 =', str1 + str2) \n",
        "# menggunakan * \n",
        "print('str1 * 3 =', str1 * 3)\n"
      ],
      "execution_count": 49,
      "outputs": [
        {
          "output_type": "stream",
          "text": [
            "str1 + str2 = HelloPython\n",
            "str1 * 3 = HelloHelloHello\n"
          ],
          "name": "stdout"
        }
      ]
    },
    {
      "cell_type": "code",
      "metadata": {
        "colab": {
          "base_uri": "https://localhost:8080/"
        },
        "id": "_Nuie0Bhp7zu",
        "outputId": "5a5f81f5-7723-4937-d856-7fa5b0474c7a"
      },
      "source": [
        "'a' in 'Programming'"
      ],
      "execution_count": 50,
      "outputs": [
        {
          "output_type": "execute_result",
          "data": {
            "text/plain": [
              "True"
            ]
          },
          "metadata": {
            "tags": []
          },
          "execution_count": 50
        }
      ]
    },
    {
      "cell_type": "code",
      "metadata": {
        "colab": {
          "base_uri": "https://localhost:8080/"
        },
        "id": "zOOEPTOlp8xt",
        "outputId": "6693a791-dedd-44f1-e670-32935bc8bacd"
      },
      "source": [
        "'at' not in 'battle'"
      ],
      "execution_count": 51,
      "outputs": [
        {
          "output_type": "execute_result",
          "data": {
            "text/plain": [
              "False"
            ]
          },
          "metadata": {
            "tags": []
          },
          "execution_count": 51
        }
      ]
    },
    {
      "cell_type": "code",
      "metadata": {
        "colab": {
          "base_uri": "https://localhost:8080/"
        },
        "id": "8Ie0qRe1qFQ6",
        "outputId": "1d16d546-c3d0-43e0-bdf9-3e83543e6c7d"
      },
      "source": [
        "string = 'I love Python'\n",
        "len(string)\n"
      ],
      "execution_count": 53,
      "outputs": [
        {
          "output_type": "execute_result",
          "data": {
            "text/plain": [
              "13"
            ]
          },
          "metadata": {
            "tags": []
          },
          "execution_count": 53
        }
      ]
    },
    {
      "cell_type": "code",
      "metadata": {
        "colab": {
          "base_uri": "https://localhost:8080/",
          "height": 131
        },
        "id": "FaRyrR7XqUxV",
        "outputId": "f8ae6e44-e014-434c-917f-e3eda68cea0a"
      },
      "source": [
        "print(\"He said, \"What's there?\"\")"
      ],
      "execution_count": 54,
      "outputs": [
        {
          "output_type": "error",
          "ename": "SyntaxError",
          "evalue": "ignored",
          "traceback": [
            "\u001b[0;36m  File \u001b[0;32m\"<ipython-input-54-5b2db8c64782>\"\u001b[0;36m, line \u001b[0;32m1\u001b[0m\n\u001b[0;31m    print(\"He said, \"What's there?\"\")\u001b[0m\n\u001b[0m                        ^\u001b[0m\n\u001b[0;31mSyntaxError\u001b[0m\u001b[0;31m:\u001b[0m invalid syntax\n"
          ]
        }
      ]
    },
    {
      "cell_type": "code",
      "metadata": {
        "colab": {
          "base_uri": "https://localhost:8080/"
        },
        "id": "WtTNUcnlqfxn",
        "outputId": "9b6f4dcd-7ab1-4452-b4cf-4b63c84262f7"
      },
      "source": [
        "# menggunakan kutip tiga\n",
        "print('''He said, \"What's there?\"''')\n",
        "# menggunakan karakter escape untuk tanda kutip tunggal\n",
        "print('He said, \"What\\'s there?\"')\n",
        "# menggunakan karakter escape untuk tanda kutip ganda\n",
        "print(\"He said, \\\"What's there?\\\"\")\n"
      ],
      "execution_count": 55,
      "outputs": [
        {
          "output_type": "stream",
          "text": [
            "He said, \"What's there?\"\n",
            "He said, \"What's there?\"\n",
            "He said, \"What's there?\"\n"
          ],
          "name": "stdout"
        }
      ]
    },
    {
      "cell_type": "code",
      "metadata": {
        "colab": {
          "base_uri": "https://localhost:8080/"
        },
        "id": "pzVt3MvkqqEY",
        "outputId": "00d9d861-3728-413b-c944-ce9edd43c277"
      },
      "source": [
        "print(\"C:\\\\Python34\\\\Lib\")"
      ],
      "execution_count": 56,
      "outputs": [
        {
          "output_type": "stream",
          "text": [
            "C:\\Python34\\Lib\n"
          ],
          "name": "stdout"
        }
      ]
    },
    {
      "cell_type": "code",
      "metadata": {
        "colab": {
          "base_uri": "https://localhost:8080/"
        },
        "id": "FYMrz4f2qtk0",
        "outputId": "f6575ceb-1d5c-4186-f485-e70484762c08"
      },
      "source": [
        "print(\"Ini adalah baris pertama\\nDan ini baris dua\")"
      ],
      "execution_count": 57,
      "outputs": [
        {
          "output_type": "stream",
          "text": [
            "Ini adalah baris pertama\n",
            "Dan ini baris dua\n"
          ],
          "name": "stdout"
        }
      ]
    },
    {
      "cell_type": "code",
      "metadata": {
        "colab": {
          "base_uri": "https://localhost:8080/"
        },
        "id": "Ek1SXjwWqul5",
        "outputId": "68288835-3326-4a7a-e2df-dd756c15e5a6"
      },
      "source": [
        "print(\"Ini adalah \\x48\\x45\\x58\")\n"
      ],
      "execution_count": 58,
      "outputs": [
        {
          "output_type": "stream",
          "text": [
            "Ini adalah HEX\n"
          ],
          "name": "stdout"
        }
      ]
    },
    {
      "cell_type": "code",
      "metadata": {
        "colab": {
          "base_uri": "https://localhost:8080/"
        },
        "id": "zDr1Uk-Qq3zj",
        "outputId": "9746d6ee-f816-47fc-f2fe-2c0eef1ffac0"
      },
      "source": [
        "print(\"This is \\x61 \\ngood example\")\n"
      ],
      "execution_count": 59,
      "outputs": [
        {
          "output_type": "stream",
          "text": [
            "This is a \n",
            "good example\n"
          ],
          "name": "stdout"
        }
      ]
    },
    {
      "cell_type": "code",
      "metadata": {
        "colab": {
          "base_uri": "https://localhost:8080/"
        },
        "id": "UbL3sP3Bq5bM",
        "outputId": "15e301a4-4612-4360-f05e-475d238e59c4"
      },
      "source": [
        " print(r\"This is \\x61 \\ngood example\")"
      ],
      "execution_count": 60,
      "outputs": [
        {
          "output_type": "stream",
          "text": [
            "This is \\x61 \\ngood example\n"
          ],
          "name": "stdout"
        }
      ]
    },
    {
      "cell_type": "code",
      "metadata": {
        "colab": {
          "base_uri": "https://localhost:8080/"
        },
        "id": "-nOTDUGLrOVJ",
        "outputId": "08ba881b-08b4-45b0-f242-c9f5357f738c"
      },
      "source": [
        "# menggunakan posisi default \n",
        "default_order = \"{}, {} dan {}\".format(\"Budi\", \"Galih\",\"Ratna\") \n",
        "print('\\n--- Urutan default ---') \n",
        "print(default_order) \n",
        "# menggunakan argument posisi \n",
        "positional_order = \"{1}, {0} dan {2}\".format(\"Budi\", \"Galih\",\"Ratna\") \n",
        "print('\\n--- Urutan berdasarkan posisi ---') \n",
        "print(positional_order) \n",
        "\n"
      ],
      "execution_count": 62,
      "outputs": [
        {
          "output_type": "stream",
          "text": [
            "\n",
            "--- Urutan default ---\n",
            "Budi, Galih dan Ratna\n",
            "\n",
            "--- Urutan berdasarkan posisi ---\n",
            "Galih, Budi dan Ratna\n"
          ],
          "name": "stdout"
        }
      ]
    },
    {
      "cell_type": "code",
      "metadata": {
        "id": "tc1LW6Z4rlMk"
      },
      "source": [
        "# menggunakan argumen kata kunci \n",
        "keyword_order = \"{r}, {b} dan {g}\".format(\"Budi\", \"Galih\",\"Ratna\") \n",
        "print('\\n--- Urutan berdasarkan kata kunci ---') \n",
        "print(keyword_order)"
      ],
      "execution_count": null,
      "outputs": []
    },
    {
      "cell_type": "code",
      "metadata": {
        "colab": {
          "base_uri": "https://localhost:8080/",
          "height": 35
        },
        "id": "QOZ9Vnjurl1f",
        "outputId": "61b03768-0cd2-436f-8b13-ed164da6485a"
      },
      "source": [
        "# format integer\n",
        "\"{0} bila diubah jadi biner menjadi {0:b}\".format(12)\n"
      ],
      "execution_count": 65,
      "outputs": [
        {
          "output_type": "execute_result",
          "data": {
            "application/vnd.google.colaboratory.intrinsic+json": {
              "type": "string"
            },
            "text/plain": [
              "'12 bila diubah jadi biner menjadi 1100'"
            ]
          },
          "metadata": {
            "tags": []
          },
          "execution_count": 65
        }
      ]
    },
    {
      "cell_type": "code",
      "metadata": {
        "colab": {
          "base_uri": "https://localhost:8080/",
          "height": 35
        },
        "id": "y9Fvpyn7r4CB",
        "outputId": "cf061cd5-19fa-4fdd-cb1f-4b7280974478"
      },
      "source": [
        "# format float\n",
        "\"Format eksponensial: {0:e}\".format(1566.345)"
      ],
      "execution_count": 67,
      "outputs": [
        {
          "output_type": "execute_result",
          "data": {
            "application/vnd.google.colaboratory.intrinsic+json": {
              "type": "string"
            },
            "text/plain": [
              "'Format eksponensial: 1.566345e+03'"
            ]
          },
          "metadata": {
            "tags": []
          },
          "execution_count": 67
        }
      ]
    },
    {
      "cell_type": "code",
      "metadata": {
        "colab": {
          "base_uri": "https://localhost:8080/",
          "height": 35
        },
        "id": "WbCi179Dr6nq",
        "outputId": "eb8c09b7-ae5f-41ff-b27c-73f8bd38bfc1"
      },
      "source": [
        "# pembulatan\n",
        "\"Sepertiga sama dengan: {0:.3f}\".format(1/3)"
      ],
      "execution_count": 68,
      "outputs": [
        {
          "output_type": "execute_result",
          "data": {
            "application/vnd.google.colaboratory.intrinsic+json": {
              "type": "string"
            },
            "text/plain": [
              "'Sepertiga sama dengan: 0.333'"
            ]
          },
          "metadata": {
            "tags": []
          },
          "execution_count": 68
        }
      ]
    },
    {
      "cell_type": "code",
      "metadata": {
        "colab": {
          "base_uri": "https://localhost:8080/",
          "height": 35
        },
        "id": "mMDA_zkssNQp",
        "outputId": "56d9aa61-b042-452d-e218-22308986d4db"
      },
      "source": [
        "# Meratakan string\n",
        "\"|{:<10}|{:^10}|{:>10}|\".format('beras', 'gula', 'garam')"
      ],
      "execution_count": 69,
      "outputs": [
        {
          "output_type": "execute_result",
          "data": {
            "application/vnd.google.colaboratory.intrinsic+json": {
              "type": "string"
            },
            "text/plain": [
              "'|beras     |   gula   |     garam|'"
            ]
          },
          "metadata": {
            "tags": []
          },
          "execution_count": 69
        }
      ]
    },
    {
      "cell_type": "code",
      "metadata": {
        "id": "UyCYcH5Lsmv1"
      },
      "source": [
        "print('Nama saya %s' %s)"
      ],
      "execution_count": null,
      "outputs": []
    },
    {
      "cell_type": "code",
      "metadata": {
        "colab": {
          "base_uri": "https://localhost:8080/"
        },
        "id": "VogO_tlvsni_",
        "outputId": "ad79d194-0e57-4fc4-d8f7-67513d89f93e"
      },
      "source": [
        "x = 12.3456789\n",
        "print('Nilai x = %3.2f' %x)\n",
        "\n"
      ],
      "execution_count": 71,
      "outputs": [
        {
          "output_type": "stream",
          "text": [
            "Nilai x = 12.35\n"
          ],
          "name": "stdout"
        }
      ]
    },
    {
      "cell_type": "code",
      "metadata": {
        "colab": {
          "base_uri": "https://localhost:8080/"
        },
        "id": "R1mhYn3Qstfq",
        "outputId": "bba2914f-a02f-44f5-c8f2-d658583d08c8"
      },
      "source": [
        "print('Nilai x = %3.4f' %x)\n",
        "\n"
      ],
      "execution_count": 72,
      "outputs": [
        {
          "output_type": "stream",
          "text": [
            "Nilai x = 12.3457\n"
          ],
          "name": "stdout"
        }
      ]
    },
    {
      "cell_type": "code",
      "metadata": {
        "colab": {
          "base_uri": "https://localhost:8080/",
          "height": 35
        },
        "id": "-JlDFgWYs60g",
        "outputId": "f1082ab1-db4f-4908-cb06-29372a8c6b5a"
      },
      "source": [
        "\"PythonIndo\".lower()\n"
      ],
      "execution_count": 73,
      "outputs": [
        {
          "output_type": "execute_result",
          "data": {
            "application/vnd.google.colaboratory.intrinsic+json": {
              "type": "string"
            },
            "text/plain": [
              "'pythonindo'"
            ]
          },
          "metadata": {
            "tags": []
          },
          "execution_count": 73
        }
      ]
    },
    {
      "cell_type": "code",
      "metadata": {
        "colab": {
          "base_uri": "https://localhost:8080/",
          "height": 35
        },
        "id": "W_d1-Mf1tBEt",
        "outputId": "01204149-9c11-4100-e7a9-2d58f74b4042"
      },
      "source": [
        ">>> \"Pythonindo\".upper()\n"
      ],
      "execution_count": 74,
      "outputs": [
        {
          "output_type": "execute_result",
          "data": {
            "application/vnd.google.colaboratory.intrinsic+json": {
              "type": "string"
            },
            "text/plain": [
              "'PYTHONINDO'"
            ]
          },
          "metadata": {
            "tags": []
          },
          "execution_count": 74
        }
      ]
    },
    {
      "cell_type": "code",
      "metadata": {
        "colab": {
          "base_uri": "https://localhost:8080/"
        },
        "id": "qVEoXWJNtEYO",
        "outputId": "58b88c8c-c952-4ff9-d446-f5dd58be2991"
      },
      "source": [
        "\"I love programming in Python\".split()\n"
      ],
      "execution_count": 75,
      "outputs": [
        {
          "output_type": "execute_result",
          "data": {
            "text/plain": [
              "['I', 'love', 'programming', 'in', 'Python']"
            ]
          },
          "metadata": {
            "tags": []
          },
          "execution_count": 75
        }
      ]
    },
    {
      "cell_type": "code",
      "metadata": {
        "colab": {
          "base_uri": "https://localhost:8080/"
        },
        "id": "vwY828jvtI1r",
        "outputId": "1aedc70a-cee6-4592-d7da-07bf613050cb"
      },
      "source": [
        "\"I love Python\".startswith(\"I\")\n"
      ],
      "execution_count": 76,
      "outputs": [
        {
          "output_type": "execute_result",
          "data": {
            "text/plain": [
              "True"
            ]
          },
          "metadata": {
            "tags": []
          },
          "execution_count": 76
        }
      ]
    },
    {
      "cell_type": "code",
      "metadata": {
        "colab": {
          "base_uri": "https://localhost:8080/"
        },
        "id": "UkLC86cItMvg",
        "outputId": "7f4b2d77-a1ca-40c3-bbe3-8fc78cc22a12"
      },
      "source": [
        "\"Saya belajar Python\".endswith(\"on\")\n"
      ],
      "execution_count": 77,
      "outputs": [
        {
          "output_type": "execute_result",
          "data": {
            "text/plain": [
              "True"
            ]
          },
          "metadata": {
            "tags": []
          },
          "execution_count": 77
        }
      ]
    },
    {
      "cell_type": "code",
      "metadata": {
        "colab": {
          "base_uri": "https://localhost:8080/",
          "height": 35
        },
        "id": "4M9EVbpLtQJZ",
        "outputId": "eace764c-abf0-4c3e-f990-737b8d5cf7e8"
      },
      "source": [
        "' - '.join(['I', 'love', 'you'])\n"
      ],
      "execution_count": 78,
      "outputs": [
        {
          "output_type": "execute_result",
          "data": {
            "application/vnd.google.colaboratory.intrinsic+json": {
              "type": "string"
            },
            "text/plain": [
              "'I - love - you'"
            ]
          },
          "metadata": {
            "tags": []
          },
          "execution_count": 78
        }
      ]
    },
    {
      "cell_type": "code",
      "metadata": {
        "colab": {
          "base_uri": "https://localhost:8080/",
          "height": 35
        },
        "id": "rw2RDjFxtUC5",
        "outputId": "4728b86a-f2a5-4e53-c552-ca4a4379a56f"
      },
      "source": [
        "\"Belajar Java di Pythonindo\".replace('Java', 'Python')\n"
      ],
      "execution_count": 79,
      "outputs": [
        {
          "output_type": "execute_result",
          "data": {
            "application/vnd.google.colaboratory.intrinsic+json": {
              "type": "string"
            },
            "text/plain": [
              "'Belajar Python di Pythonindo'"
            ]
          },
          "metadata": {
            "tags": []
          },
          "execution_count": 79
        }
      ]
    },
    {
      "cell_type": "markdown",
      "metadata": {
        "id": "PJ-TRSjTtrLr"
      },
      "source": [
        "List"
      ]
    },
    {
      "cell_type": "code",
      "metadata": {
        "id": "vTqdcOFMtsJ7"
      },
      "source": [
        "# list kosong\n",
        "my_list = []\n",
        "# list berisi integer\n",
        "my_list = [1,2,3,4,5]\n",
        "# list berisi tipe campuran\n",
        "my_list = [1, 3.5, \"Hello\"]"
      ],
      "execution_count": 80,
      "outputs": []
    },
    {
      "cell_type": "code",
      "metadata": {
        "colab": {
          "base_uri": "https://localhost:8080/"
        },
        "id": "OJiXoU3utuJ_",
        "outputId": "a8f1fe93-7970-4606-ce22-1371ee2514c7"
      },
      "source": [
        "# list bersarang\n",
        "my_list = [\"hello\", [2,4,6], ['a','b']]\n",
        "print(my_list)"
      ],
      "execution_count": 82,
      "outputs": [
        {
          "output_type": "stream",
          "text": [
            "['hello', [2, 4, 6], ['a', 'b']]\n"
          ],
          "name": "stdout"
        }
      ]
    },
    {
      "cell_type": "code",
      "metadata": {
        "colab": {
          "base_uri": "https://localhost:8080/",
          "height": 35
        },
        "id": "rtr9WKKOt-uP",
        "outputId": "cfe55fde-28d3-40c3-b47c-6e0ab7fd1a43"
      },
      "source": [
        "my_list = [\"I\", \"love\",\"python\",\"programming\",2017] \n",
        "# output: I \n",
        "my_list[0] \n"
      ],
      "execution_count": 84,
      "outputs": [
        {
          "output_type": "execute_result",
          "data": {
            "application/vnd.google.colaboratory.intrinsic+json": {
              "type": "string"
            },
            "text/plain": [
              "'I'"
            ]
          },
          "metadata": {
            "tags": []
          },
          "execution_count": 84
        }
      ]
    },
    {
      "cell_type": "code",
      "metadata": {
        "colab": {
          "base_uri": "https://localhost:8080/",
          "height": 35
        },
        "id": "HprxolKfuKCW",
        "outputId": "092fb67d-103b-4396-deb0-4b2c491c9f48"
      },
      "source": [
        "#output: python \n",
        "my_list[2]"
      ],
      "execution_count": 85,
      "outputs": [
        {
          "output_type": "execute_result",
          "data": {
            "application/vnd.google.colaboratory.intrinsic+json": {
              "type": "string"
            },
            "text/plain": [
              "'python'"
            ]
          },
          "metadata": {
            "tags": []
          },
          "execution_count": 85
        }
      ]
    },
    {
      "cell_type": "code",
      "metadata": {
        "colab": {
          "base_uri": "https://localhost:8080/",
          "height": 233
        },
        "id": "lxglJvEquURh",
        "outputId": "ff5fef1a-a3ac-4b81-f0e2-9b3f8ee1ccf8"
      },
      "source": [
        "# list dalam list \n",
        "your_list = [\"hello\", [1,2,3], \"python\"] \n",
        "# output 1 \n",
        "print(your_list[1][0]) \n",
        "# output 3 \n",
        "print(your_list[1][2]) \n",
        "# IndexError \n",
        "my_list[6]\n"
      ],
      "execution_count": 86,
      "outputs": [
        {
          "output_type": "stream",
          "text": [
            "1\n",
            "3\n"
          ],
          "name": "stdout"
        },
        {
          "output_type": "error",
          "ename": "IndexError",
          "evalue": "ignored",
          "traceback": [
            "\u001b[0;31m---------------------------------------------------------------------------\u001b[0m",
            "\u001b[0;31mIndexError\u001b[0m                                Traceback (most recent call last)",
            "\u001b[0;32m<ipython-input-86-d7379b44016a>\u001b[0m in \u001b[0;36m<module>\u001b[0;34m()\u001b[0m\n\u001b[1;32m      6\u001b[0m \u001b[0mprint\u001b[0m\u001b[0;34m(\u001b[0m\u001b[0myour_list\u001b[0m\u001b[0;34m[\u001b[0m\u001b[0;36m1\u001b[0m\u001b[0;34m]\u001b[0m\u001b[0;34m[\u001b[0m\u001b[0;36m2\u001b[0m\u001b[0;34m]\u001b[0m\u001b[0;34m)\u001b[0m\u001b[0;34m\u001b[0m\u001b[0;34m\u001b[0m\u001b[0m\n\u001b[1;32m      7\u001b[0m \u001b[0;31m# IndexError\u001b[0m\u001b[0;34m\u001b[0m\u001b[0;34m\u001b[0m\u001b[0;34m\u001b[0m\u001b[0m\n\u001b[0;32m----> 8\u001b[0;31m \u001b[0mmy_list\u001b[0m\u001b[0;34m[\u001b[0m\u001b[0;36m6\u001b[0m\u001b[0;34m]\u001b[0m\u001b[0;34m\u001b[0m\u001b[0;34m\u001b[0m\u001b[0m\n\u001b[0m",
            "\u001b[0;31mIndexError\u001b[0m: list index out of range"
          ]
        }
      ]
    },
    {
      "cell_type": "code",
      "metadata": {
        "colab": {
          "base_uri": "https://localhost:8080/",
          "height": 35
        },
        "id": "j-Hj8eYCulZ4",
        "outputId": "24139624-52e6-4404-b1b2-20f120258e76"
      },
      "source": [
        "my_list = ['p','y','t','h','o','n'] \n",
        "# output: n \n",
        "my_list[-1] \n",
        "# output: h \n",
        "my_list[-3]\n"
      ],
      "execution_count": 87,
      "outputs": [
        {
          "output_type": "execute_result",
          "data": {
            "application/vnd.google.colaboratory.intrinsic+json": {
              "type": "string"
            },
            "text/plain": [
              "'h'"
            ]
          },
          "metadata": {
            "tags": []
          },
          "execution_count": 87
        }
      ]
    },
    {
      "cell_type": "code",
      "metadata": {
        "colab": {
          "base_uri": "https://localhost:8080/"
        },
        "id": "xtL1HqdcuwN-",
        "outputId": "db272a9a-8d74-4220-fa4e-eca7867b1128"
      },
      "source": [
        "my_list = ['p','y','t','h','o','n','i','n','d','o'] \n",
        "# anggota list dari 3 s/d 5 (dari h s/d n) \n",
        "print(my_list[3:6])\n",
        "# anggota list dari 4 s/d yang terakhir \n",
        "print(my_list[4:]) \n",
        "# anggota list dari 0 s/d 4 \n",
        "print(my_list[:5]) \n",
        "# indeks dari belakang dari -1 s/d -4 \n",
        "print(my_list[-1:-5])\n"
      ],
      "execution_count": 88,
      "outputs": [
        {
          "output_type": "stream",
          "text": [
            "['h', 'o', 'n']\n",
            "['o', 'n', 'i', 'n', 'd', 'o']\n",
            "['p', 'y', 't', 'h', 'o']\n",
            "[]\n"
          ],
          "name": "stdout"
        }
      ]
    },
    {
      "cell_type": "code",
      "metadata": {
        "id": "hLF0ZC-Ku5yS"
      },
      "source": [
        "# misal ada nilai yang salah \n",
        "ganjil = [1,3,4,7,9] \n",
        "\n"
      ],
      "execution_count": 91,
      "outputs": []
    },
    {
      "cell_type": "code",
      "metadata": {
        "colab": {
          "base_uri": "https://localhost:8080/"
        },
        "id": "Vdw-MDrQvDlG",
        "outputId": "dbc568e6-22ce-469a-96a7-bc036011fa8a"
      },
      "source": [
        "# ubah item ke 3 (indeks ke 2) \n",
        "ganjil[2] = 5 \n",
        "print(ganjil) \n"
      ],
      "execution_count": 93,
      "outputs": [
        {
          "output_type": "stream",
          "text": [
            "[1, 3, 5, 7, 9]\n"
          ],
          "name": "stdout"
        }
      ]
    },
    {
      "cell_type": "code",
      "metadata": {
        "colab": {
          "base_uri": "https://localhost:8080/"
        },
        "id": "RIWV5FmavLag",
        "outputId": "dac633cb-05d5-4cf8-d353-19ad3c97f6f8"
      },
      "source": [
        "# mengubah sekali banyak \n",
        "ganjil[2:5] = [11,13,15] \n",
        "print(ganjil)\n"
      ],
      "execution_count": 94,
      "outputs": [
        {
          "output_type": "stream",
          "text": [
            "[1, 3, 11, 13, 15]\n"
          ],
          "name": "stdout"
        }
      ]
    },
    {
      "cell_type": "code",
      "metadata": {
        "colab": {
          "base_uri": "https://localhost:8080/"
        },
        "id": "rmtuAKS42Ogk",
        "outputId": "c4d8dc0e-2866-43f3-d8a0-8ab456e4013c"
      },
      "source": [
        "ganjil = [1,3,5,7]\n",
        "ganjil.append(9)\n",
        "print(ganjil)\n"
      ],
      "execution_count": 97,
      "outputs": [
        {
          "output_type": "stream",
          "text": [
            "[1, 3, 5, 7, 9]\n"
          ],
          "name": "stdout"
        }
      ]
    },
    {
      "cell_type": "code",
      "metadata": {
        "colab": {
          "base_uri": "https://localhost:8080/"
        },
        "id": "VxZDVJDL2RxF",
        "outputId": "515b998e-e087-4a35-f9f2-8943de83af1c"
      },
      "source": [
        "ganjil.extend([11,13,15])\n",
        "print(ganjil)\n"
      ],
      "execution_count": 98,
      "outputs": [
        {
          "output_type": "stream",
          "text": [
            "[1, 3, 5, 7, 9, 11, 13, 15]\n"
          ],
          "name": "stdout"
        }
      ]
    },
    {
      "cell_type": "code",
      "metadata": {
        "colab": {
          "base_uri": "https://localhost:8080/"
        },
        "id": "yapKix742m_i",
        "outputId": "88a9c4b0-fdcb-4450-db72-4107b871a985"
      },
      "source": [
        "genap = [2, 4, 6]\n",
        "print(genap + [8, 10, 12])\n"
      ],
      "execution_count": 99,
      "outputs": [
        {
          "output_type": "stream",
          "text": [
            "[2, 4, 6, 8, 10, 12]\n"
          ],
          "name": "stdout"
        }
      ]
    },
    {
      "cell_type": "code",
      "metadata": {
        "colab": {
          "base_uri": "https://localhost:8080/"
        },
        "id": "PbArqcMi2qvS",
        "outputId": "4f773fd9-db71-462f-b731-216a3418eb77"
      },
      "source": [
        "print(['p','y'] * 2)\n"
      ],
      "execution_count": 100,
      "outputs": [
        {
          "output_type": "stream",
          "text": [
            "['p', 'y', 'p', 'y']\n"
          ],
          "name": "stdout"
        }
      ]
    },
    {
      "cell_type": "code",
      "metadata": {
        "colab": {
          "base_uri": "https://localhost:8080/"
        },
        "id": "zgpFi4JE21Ip",
        "outputId": "c456d8fc-c459-4a8b-9378-d866dea723f4"
      },
      "source": [
        "ganjil = [5,7,11,13,15]\n",
        "# kita akan menyisipkan 9 setelah angka 7\n",
        "ganjil.insert(2,9)\n",
        "print(ganjil)\n",
        "[5,7,9,11,13,15]\n"
      ],
      "execution_count": 101,
      "outputs": [
        {
          "output_type": "stream",
          "text": [
            "[5, 7, 9, 11, 13, 15]\n"
          ],
          "name": "stdout"
        },
        {
          "output_type": "execute_result",
          "data": {
            "text/plain": [
              "[5, 7, 9, 11, 13, 15]"
            ]
          },
          "metadata": {
            "tags": []
          },
          "execution_count": 101
        }
      ]
    },
    {
      "cell_type": "code",
      "metadata": {
        "colab": {
          "base_uri": "https://localhost:8080/"
        },
        "id": "9IBxt_eT28jw",
        "outputId": "e77b0e60-776d-48fc-f8b9-112fd2fbafa1"
      },
      "source": [
        "my_list = ['p', 'y', 't', 'h', 'o', 'n', 'i', 'n', 'd', 'o'] \n",
        "my_list.remove('p') \n",
        "# output ['y', 't', 'h', 'o', 'n', 'i', 'n', 'd', 'o'] \n",
        "print(my_list) \n",
        "my_list.remove('n') \n",
        "# remove hanya menghapus elemen pertama yang dijumpai \n",
        "# output: ['p', 'y', 't', 'h', 'o', 'i', 'n', 'd', 'o']\n",
        "# Output 'y'\n",
        "print(my_list.pop(1))\n",
        "del my_list[2]\n",
        "print(my_list)\n",
        "my_list.clear()\n",
        "# Output []\n",
        "print(my_list)\n",
        "  "
      ],
      "execution_count": 102,
      "outputs": [
        {
          "output_type": "stream",
          "text": [
            "['y', 't', 'h', 'o', 'n', 'i', 'n', 'd', 'o']\n",
            "t\n",
            "['y', 'h', 'i', 'n', 'd', 'o']\n",
            "[]\n"
          ],
          "name": "stdout"
        }
      ]
    },
    {
      "cell_type": "code",
      "metadata": {
        "colab": {
          "base_uri": "https://localhost:8080/"
        },
        "id": "ND6Gwkfa3O0c",
        "outputId": "cc7502ef-eb37-4205-e06a-ac922896e4a9"
      },
      "source": [
        "alfabet = ['a','b','d','f','e','c','h','g','j','i']\n",
        "alfabet.sort()\n",
        "print(alfabet)"
      ],
      "execution_count": 103,
      "outputs": [
        {
          "output_type": "stream",
          "text": [
            "['a', 'b', 'c', 'd', 'e', 'f', 'g', 'h', 'i', 'j']\n"
          ],
          "name": "stdout"
        }
      ]
    },
    {
      "cell_type": "code",
      "metadata": {
        "colab": {
          "base_uri": "https://localhost:8080/"
        },
        "id": "OUhCgiBD3RET",
        "outputId": "447d2f64-581f-4a34-8a0d-35ceda413507"
      },
      "source": [
        "alfabet.sort(reverse=True)\n",
        "print(alfabet)\n"
      ],
      "execution_count": 104,
      "outputs": [
        {
          "output_type": "stream",
          "text": [
            "['j', 'i', 'h', 'g', 'f', 'e', 'd', 'c', 'b', 'a']\n"
          ],
          "name": "stdout"
        }
      ]
    },
    {
      "cell_type": "code",
      "metadata": {
        "colab": {
          "base_uri": "https://localhost:8080/"
        },
        "id": "LRQ5bQx83Z21",
        "outputId": "d21ec7fb-dbb2-462b-d54f-63bc2583f98f"
      },
      "source": [
        "alfabet = ['a','c','d','e','b']\n",
        "alfabet.reverse()\n",
        "print(alfabet)\n"
      ],
      "execution_count": 105,
      "outputs": [
        {
          "output_type": "stream",
          "text": [
            "['b', 'e', 'd', 'c', 'a']\n"
          ],
          "name": "stdout"
        }
      ]
    },
    {
      "cell_type": "code",
      "metadata": {
        "colab": {
          "base_uri": "https://localhost:8080/"
        },
        "id": "u0ubeOjc3nl9",
        "outputId": "b7be66e7-5cbd-44cc-e072-e8af989dc47f"
      },
      "source": [
        "# membuat tuple kosong \n",
        "# Output: ( ) \n",
        "my_tuple = () \n",
        "print(my_tuple) \n",
        "# tuple dengan 1 elemen \n",
        "# Output: (1,) \n",
        "my_tuple = (1,) \n",
        "print (my_tuple) \n",
        "# tuple berisi integer \n",
        "# output = (1, 2, 3) \n",
        "my_tuple = (1, 2, 3) \n",
        "print(my_tuple) \n",
        "# tuple bersarang \n",
        "# Output: (\"hello\", [1, 2, 3], (4, 5, 6)) \n",
        "my_tuple = (\"hello\", [1, 2, 3], (4, 5, 6)) \n",
        "print(my_tuple) \n",
        "# Tuple bisa tidak menggunakan tanda () \n",
        "# Output (1, 2, 3)\n",
        "my_tuple = 1, 2, 3 \n",
        "# memasukkan anggota tuple ke variabel yang bersesuaian \n",
        "# a akan berisi 1, b berisi 2, dan c berisi 3 \n",
        "# output 1 2 3 \n",
        "a, b, c = my_tuple \n",
        "print(a, b, c)\n"
      ],
      "execution_count": 106,
      "outputs": [
        {
          "output_type": "stream",
          "text": [
            "()\n",
            "(1,)\n",
            "(1, 2, 3)\n",
            "('hello', [1, 2, 3], (4, 5, 6))\n",
            "1 2 3\n"
          ],
          "name": "stdout"
        }
      ]
    },
    {
      "cell_type": "code",
      "metadata": {
        "colab": {
          "base_uri": "https://localhost:8080/",
          "height": 267
        },
        "id": "5hEAt8CJ3zns",
        "outputId": "36a949ad-932f-41ae-97b5-9f99387fe8bf"
      },
      "source": [
        "my_tuple = ('p','y','t','h','o','n') \n",
        "# Output: 'p' \n",
        "print(my_tuple[0]) \n",
        "# Output: 'y' \n",
        "print(my_tuple[1]) \n",
        "# Output: 'n' \n",
        "print(my_tuple[-1]) \n",
        "# Output: 'o' \n",
        "print(my_tuple[-2]) \n",
        "# IndexError \n",
        "print(my_tuple[6])"
      ],
      "execution_count": 109,
      "outputs": [
        {
          "output_type": "stream",
          "text": [
            "p\n",
            "y\n",
            "n\n",
            "o\n"
          ],
          "name": "stdout"
        },
        {
          "output_type": "error",
          "ename": "IndexError",
          "evalue": "ignored",
          "traceback": [
            "\u001b[0;31m---------------------------------------------------------------------------\u001b[0m",
            "\u001b[0;31mIndexError\u001b[0m                                Traceback (most recent call last)",
            "\u001b[0;32m<ipython-input-109-4514095566ef>\u001b[0m in \u001b[0;36m<module>\u001b[0;34m()\u001b[0m\n\u001b[1;32m      9\u001b[0m \u001b[0mprint\u001b[0m\u001b[0;34m(\u001b[0m\u001b[0mmy_tuple\u001b[0m\u001b[0;34m[\u001b[0m\u001b[0;34m-\u001b[0m\u001b[0;36m2\u001b[0m\u001b[0;34m]\u001b[0m\u001b[0;34m)\u001b[0m\u001b[0;34m\u001b[0m\u001b[0;34m\u001b[0m\u001b[0m\n\u001b[1;32m     10\u001b[0m \u001b[0;31m# IndexError\u001b[0m\u001b[0;34m\u001b[0m\u001b[0;34m\u001b[0m\u001b[0;34m\u001b[0m\u001b[0m\n\u001b[0;32m---> 11\u001b[0;31m \u001b[0mprint\u001b[0m\u001b[0;34m(\u001b[0m\u001b[0mmy_tuple\u001b[0m\u001b[0;34m[\u001b[0m\u001b[0;36m6\u001b[0m\u001b[0;34m]\u001b[0m\u001b[0;34m)\u001b[0m\u001b[0;34m\u001b[0m\u001b[0;34m\u001b[0m\u001b[0m\n\u001b[0m",
            "\u001b[0;31mIndexError\u001b[0m: tuple index out of range"
          ]
        }
      ]
    },
    {
      "cell_type": "code",
      "metadata": {
        "colab": {
          "base_uri": "https://localhost:8080/"
        },
        "id": "_VY4OXy44Nbu",
        "outputId": "dc7a734e-b67d-49f9-d586-abab90293410"
      },
      "source": [
        "my_tuple = ('p','r','o','g','r','a','m','m','i','n','g') \n",
        "# akses dari indeks 0 s/d 2 \n",
        "# output: ('p','r','o') \n",
        "print(my_tuple[:3]) \n",
        "# Akses dari indeks 2 s/d 5 \n",
        "# output: ('r','o','g','r') \n",
        "print(my_tuple[2:6]) \n",
        "# Akses dari indeks 3 sampai akhir \n",
        "# output: ('r','o','g','r','a','m','m','i','n','g') \n",
        "print(my_tuple[3:])\n"
      ],
      "execution_count": 110,
      "outputs": [
        {
          "output_type": "stream",
          "text": [
            "('p', 'r', 'o')\n",
            "('o', 'g', 'r', 'a')\n",
            "('g', 'r', 'a', 'm', 'm', 'i', 'n', 'g')\n"
          ],
          "name": "stdout"
        }
      ]
    },
    {
      "cell_type": "code",
      "metadata": {
        "colab": {
          "base_uri": "https://localhost:8080/"
        },
        "id": "ulu2gX0a4dnF",
        "outputId": "69224266-4c3d-43bf-8569-2fd31e45ac91"
      },
      "source": [
        "my_tuple = (2, 3, 4, [5, 6]) \n",
        "# kita tidak bisa mengubah anggota tuple \n",
        "# bila kita hilangkan tanda komentar # pada baris ke 6 \n",
        "# akan muncul error: # TypeError: 'tuple' object does not support item assignment \n",
        "# my_tuple[1] = 8 \n",
        "# tapi list di dalam tuple bisa diubah \n",
        "# output: (2, 3, 4, [7, 6]) \n",
        "my_tuple[3][0] = 7 \n",
        "print(my_tuple) \n",
        "# tuple bisa diganti secara keseluruhan dengan penugasan kembali \n",
        "# output: ('p','y','t','h','o','n') \n",
        "my_tuple = ('p','y','t','h','o','n') \n",
        "print(my_tuple) \n",
        "# anggota tuple juga tidak bisa dihapus menggunakan del\n",
        "# perintah berikut akan menghasilkan error TypeError\n",
        "# kalau Anda menghilangkan tanda komentar #\n",
        "#del my_tuple[0]\n",
        "# kita bisa menghapus tuple keseluruhan\n",
        "del my_tuple"
      ],
      "execution_count": 112,
      "outputs": [
        {
          "output_type": "stream",
          "text": [
            "(2, 3, 4, [7, 6])\n",
            "('p', 'y', 't', 'h', 'o', 'n')\n"
          ],
          "name": "stdout"
        }
      ]
    },
    {
      "cell_type": "code",
      "metadata": {
        "colab": {
          "base_uri": "https://localhost:8080/"
        },
        "id": "eq-BzfXD4plw",
        "outputId": "37bc40e5-d5d0-470c-c752-7945ae56f942"
      },
      "source": [
        "my_tuple = (1, 2, 3, 'a', 'b', 'c') \n",
        "# menggunakan in \n",
        "# output: True \n",
        "print('3' in my_tuple) \n",
        "# output: False \n",
        "print('e' in my_tuple) \n",
        "# menggunakan not in \n",
        "# output True \n",
        "print('k' not in my_tuple)\n"
      ],
      "execution_count": 113,
      "outputs": [
        {
          "output_type": "stream",
          "text": [
            "False\n",
            "False\n",
            "True\n"
          ],
          "name": "stdout"
        }
      ]
    },
    {
      "cell_type": "code",
      "metadata": {
        "colab": {
          "base_uri": "https://localhost:8080/"
        },
        "id": "1lH26iWE4wnV",
        "outputId": "5b7af96c-fdea-4bbf-91eb-58113e3ddf65"
      },
      "source": [
        "# output: \n",
        "# Hi Galih \n",
        "# Hi Ratna \n",
        "nama = ('Galih', 'Ratna') \n",
        "for name in nama: \n",
        " print('Hi', name)\n"
      ],
      "execution_count": 114,
      "outputs": [
        {
          "output_type": "stream",
          "text": [
            "Hi Galih\n",
            "Hi Ratna\n"
          ],
          "name": "stdout"
        }
      ]
    },
    {
      "cell_type": "code",
      "metadata": {
        "colab": {
          "base_uri": "https://localhost:8080/"
        },
        "id": "aoNvpNe442yx",
        "outputId": "d0a65d78-0205-410c-fb5a-3da9079749e3"
      },
      "source": [
        "my_tuple = ('p','y','t','o','n','i','n','d','o') \n",
        "# count \n",
        "# output: 2 \n",
        "print(my_tuple.count('n')) \n",
        "# index \n",
        "# Output 4 \n",
        "print(my_tuple.index('n'))\n"
      ],
      "execution_count": 115,
      "outputs": [
        {
          "output_type": "stream",
          "text": [
            "2\n",
            "4\n"
          ],
          "name": "stdout"
        }
      ]
    },
    {
      "cell_type": "code",
      "metadata": {
        "colab": {
          "base_uri": "https://localhost:8080/",
          "height": 267
        },
        "id": "D62inIRv5DLD",
        "outputId": "b957e8f4-02a1-4414-f02e-ffba4a3bab7c"
      },
      "source": [
        "# set integer \n",
        "my_set = {1,2,3} \n",
        "print(my_set) \n",
        "# set dengan menggunakan fungsi set() \n",
        "my_set = set([1,2,3]) \n",
        "print(my_set) \n",
        "# set data campuran \n",
        "my_set = {1, 2.0, \"Python\", (3,4,5)} \n",
        "print(my_set) \n",
        "# bila kita mengisi duplikasi, set akan menghilangkan salah satu \n",
        "# output: {1,2,3} \n",
        "my_set = {1,2,2,3,3,3} \n",
        "print(my_set) \n",
        "# set tidak bisa berisi anggota list \n",
        "# contoh berikut akan muncul error TypeError \n",
        "my_set = {1,2,[3,4,5]}"
      ],
      "execution_count": 116,
      "outputs": [
        {
          "output_type": "stream",
          "text": [
            "{1, 2, 3}\n",
            "{1, 2, 3}\n",
            "{1, 2.0, (3, 4, 5), 'Python'}\n",
            "{1, 2, 3}\n"
          ],
          "name": "stdout"
        },
        {
          "output_type": "error",
          "ename": "TypeError",
          "evalue": "ignored",
          "traceback": [
            "\u001b[0;31m---------------------------------------------------------------------------\u001b[0m",
            "\u001b[0;31mTypeError\u001b[0m                                 Traceback (most recent call last)",
            "\u001b[0;32m<ipython-input-116-959f6d69e1ca>\u001b[0m in \u001b[0;36m<module>\u001b[0;34m()\u001b[0m\n\u001b[1;32m     14\u001b[0m \u001b[0;31m# set tidak bisa berisi anggota list\u001b[0m\u001b[0;34m\u001b[0m\u001b[0;34m\u001b[0m\u001b[0;34m\u001b[0m\u001b[0m\n\u001b[1;32m     15\u001b[0m \u001b[0;31m# contoh berikut akan muncul error TypeError\u001b[0m\u001b[0;34m\u001b[0m\u001b[0;34m\u001b[0m\u001b[0;34m\u001b[0m\u001b[0m\n\u001b[0;32m---> 16\u001b[0;31m \u001b[0mmy_set\u001b[0m \u001b[0;34m=\u001b[0m \u001b[0;34m{\u001b[0m\u001b[0;36m1\u001b[0m\u001b[0;34m,\u001b[0m\u001b[0;36m2\u001b[0m\u001b[0;34m,\u001b[0m\u001b[0;34m[\u001b[0m\u001b[0;36m3\u001b[0m\u001b[0;34m,\u001b[0m\u001b[0;36m4\u001b[0m\u001b[0;34m,\u001b[0m\u001b[0;36m5\u001b[0m\u001b[0;34m]\u001b[0m\u001b[0;34m}\u001b[0m\u001b[0;34m\u001b[0m\u001b[0;34m\u001b[0m\u001b[0m\n\u001b[0m",
            "\u001b[0;31mTypeError\u001b[0m: unhashable type: 'list'"
          ]
        }
      ]
    },
    {
      "cell_type": "code",
      "metadata": {
        "colab": {
          "base_uri": "https://localhost:8080/"
        },
        "id": "FGop-6-r5QMH",
        "outputId": "cfd9dfe8-0d83-45b8-97fc-958e0a923d32"
      },
      "source": [
        "# membuat variabel a dengan {}\n",
        "a = {}\n",
        "print(type(a))\n"
      ],
      "execution_count": 117,
      "outputs": [
        {
          "output_type": "stream",
          "text": [
            "<class 'dict'>\n"
          ],
          "name": "stdout"
        }
      ]
    },
    {
      "cell_type": "code",
      "metadata": {
        "colab": {
          "base_uri": "https://localhost:8080/"
        },
        "id": "1AT5Tyh15Sv1",
        "outputId": "7658ad2f-2783-4d45-a476-a891368ad95d"
      },
      "source": [
        "# harus menggunakan fungsi set()\n",
        "a = set()\n",
        "print(type(a))"
      ],
      "execution_count": 118,
      "outputs": [
        {
          "output_type": "stream",
          "text": [
            "<class 'set'>\n"
          ],
          "name": "stdout"
        }
      ]
    },
    {
      "cell_type": "code",
      "metadata": {
        "colab": {
          "base_uri": "https://localhost:8080/"
        },
        "id": "3-T7m-4I5gS3",
        "outputId": "eeec5178-0c5a-4e67-84b7-a4a1336d4a29"
      },
      "source": [
        "# membuat set baru \n",
        "my_set = {1,2,3} \n",
        "print(my_set) \n",
        "# bila kita hilangkan tanda # dari baris 9 akan muncul error TypeError \n",
        "#my_set[0] \n",
        "# menambah satu anggota \n",
        "# output: {1,2,3,4} \n",
        "my_set.add(4) \n",
        "print(my_set) \n",
        "# menambah beberapa anggota \n",
        "# set akan menghilangkan duplikasi \n",
        "# output: {1,2,3,4,5,6} \n",
        "my_set.update([3,4,5,6]) \n",
        "print(my_set)\n"
      ],
      "execution_count": 119,
      "outputs": [
        {
          "output_type": "stream",
          "text": [
            "{1, 2, 3}\n",
            "{1, 2, 3, 4}\n",
            "{1, 2, 3, 4, 5, 6}\n"
          ],
          "name": "stdout"
        }
      ]
    },
    {
      "cell_type": "code",
      "metadata": {
        "colab": {
          "base_uri": "https://localhost:8080/"
        },
        "id": "JvVZ3o-J5ubv",
        "outputId": "8630e553-9574-439c-c71b-67b1590bb8f6"
      },
      "source": [
        "# membuat set baru \n",
        "my_set = {1, 2, 3, 4, 5} \n",
        "print(my_set) \n",
        "# menghapus 4 dengan discard \n",
        "# output: {1, 2, 3, 5} \n",
        "my_set.discard(4) \n",
        "print(my_set) \n",
        "# menghapus 5 dengan remove \n",
        "# output : {1, 2, 3} \n",
        "my_set.remove(5) \n",
        "print(my_set) \n",
        "# anggota yang mau dihapus tidak ada dalam set \n",
        "# discard tidak akan memunculkan error\n",
        "# output: {1, 2, 3} \n",
        "my_set.discard(6)\n"
      ],
      "execution_count": 120,
      "outputs": [
        {
          "output_type": "stream",
          "text": [
            "{1, 2, 3, 4, 5}\n",
            "{1, 2, 3, 5}\n",
            "{1, 2, 3}\n"
          ],
          "name": "stdout"
        }
      ]
    },
    {
      "cell_type": "code",
      "metadata": {
        "colab": {
          "base_uri": "https://localhost:8080/"
        },
        "id": "LQHSdFUc50Ms",
        "outputId": "254f173d-b802-4a0d-98b3-8ef252fcde94"
      },
      "source": [
        "# membuat set baru \n",
        "# output: set berisi anggota yang unik \n",
        "my_set = set(\"HelloPython\") \n",
        "print(my_set) \n",
        "# pop anggota \n",
        "# output: anggota acak \n",
        "print(my_set.pop()) \n",
        "# pop anggota lainnya \n",
        "# output: anggota acak \n",
        "print(my_set.pop()) \n",
        "# mengosongkan set \n",
        "# output: set() \n",
        "my_set.clear() \n",
        "print(my_set)\n"
      ],
      "execution_count": 121,
      "outputs": [
        {
          "output_type": "stream",
          "text": [
            "{'t', 'h', 'n', 'l', 'e', 'y', 'H', 'P', 'o'}\n",
            "t\n",
            "h\n",
            "set()\n"
          ],
          "name": "stdout"
        }
      ]
    },
    {
      "cell_type": "code",
      "metadata": {
        "id": "u3jOAtNM582N"
      },
      "source": [
        "A = {1, 2, 3, 4, 5}\n",
        "B = {4, 5, 6, 7, 8}\n"
      ],
      "execution_count": 122,
      "outputs": []
    },
    {
      "cell_type": "code",
      "metadata": {
        "colab": {
          "base_uri": "https://localhost:8080/"
        },
        "id": "KoIiNWT_6ESc",
        "outputId": "da58a32c-5f44-4362-b2ec-4308673f7c2f"
      },
      "source": [
        "# Membuat set A and B \n",
        "A = {1, 2, 3, 4, 5} \n",
        "B = {4, 5, 6, 7, 8} \n",
        "# Gabungan menggunakan operator | \n",
        "# output: {1, 2, 3, 4, 5, 6, 7, 8} \n",
        "print(A | B) \n",
        "# Menggunakan fungsi union() \n",
        "# output: {1, 2, 3, 4, 5, 6, 7, 8} \n",
        "A.union(B) \n",
        "# output: {1, 2, 3, 4, 5, 6, 7, 8} \n",
        "B.union(A)\n"
      ],
      "execution_count": 123,
      "outputs": [
        {
          "output_type": "stream",
          "text": [
            "{1, 2, 3, 4, 5, 6, 7, 8}\n"
          ],
          "name": "stdout"
        },
        {
          "output_type": "execute_result",
          "data": {
            "text/plain": [
              "{1, 2, 3, 4, 5, 6, 7, 8}"
            ]
          },
          "metadata": {
            "tags": []
          },
          "execution_count": 123
        }
      ]
    },
    {
      "cell_type": "code",
      "metadata": {
        "colab": {
          "base_uri": "https://localhost:8080/"
        },
        "id": "A7Vp_f3M6P2G",
        "outputId": "f843bfb7-f172-42f3-ff52-1ad4031acce7"
      },
      "source": [
        "# Membuat set A and B \n",
        "A = {1, 2, 3, 4, 5} \n",
        "B = {4, 5, 6, 7, 8} \n",
        "# Irisan menggunakan operator &   \n",
        "# output: {4,5} \n",
        "print(A & B) \n",
        "# Menggunakan fungsi intersection() \n",
        "# output: {4,5} \n",
        "A.intersection(B) \n",
        "# output: {4,5} \n",
        "B.intersection(A)\n"
      ],
      "execution_count": 124,
      "outputs": [
        {
          "output_type": "stream",
          "text": [
            "{4, 5}\n"
          ],
          "name": "stdout"
        },
        {
          "output_type": "execute_result",
          "data": {
            "text/plain": [
              "{4, 5}"
            ]
          },
          "metadata": {
            "tags": []
          },
          "execution_count": 124
        }
      ]
    },
    {
      "cell_type": "code",
      "metadata": {
        "colab": {
          "base_uri": "https://localhost:8080/"
        },
        "id": "uWdQYSCC6ax0",
        "outputId": "8ae6723c-e176-4a24-bf94-1f08a9f54faa"
      },
      "source": [
        "# membuat A and B \n",
        "A = {1, 2, 3, 4, 5} \n",
        "B = {4, 5, 6, 7, 8} \n",
        "# Menggunakan operator - pada A \n",
        "# Output: {1, 2, 3} \n",
        "print(A - B) \n",
        "# Output: {1, 2, 3} \n",
        "A.difference(B) \n",
        "# Menggunakan operator - pada B \n",
        "# Output: {8, 6, 7} \n",
        "print(B - A) \n",
        "# Output: {8, 6, 7} \n",
        "B.difference(A)\n"
      ],
      "execution_count": 125,
      "outputs": [
        {
          "output_type": "stream",
          "text": [
            "{1, 2, 3}\n",
            "{8, 6, 7}\n"
          ],
          "name": "stdout"
        },
        {
          "output_type": "execute_result",
          "data": {
            "text/plain": [
              "{6, 7, 8}"
            ]
          },
          "metadata": {
            "tags": []
          },
          "execution_count": 125
        }
      ]
    },
    {
      "cell_type": "code",
      "metadata": {
        "colab": {
          "base_uri": "https://localhost:8080/"
        },
        "id": "9VrGkYxg6hnQ",
        "outputId": "08dfda00-5fff-40c6-d3f6-258d230a72e8"
      },
      "source": [
        "# membuat A and B \n",
        "A = {1, 2, 3, 4, 5} \n",
        "B = {4, 5, 6, 7, 8} \n",
        "# Menggunakan operator ^ pada A \n",
        "# Output: {1, 2, 3, 6, 7, 8} \n",
        "print(A ^ B) \n",
        "# Output: {1, 2, 3, 6, 7, 8} \n",
        "A.symmetric_difference(B) \n",
        "# Menggunakan operator ^ pada B \n",
        "# Output: {1, 2, 3, 6, 7, 8} \n",
        "print(B ^ A)\n",
        "# Output: {1, 2, 3, 6, 7, 8} \n",
        "B.symmetric_difference(A)\n"
      ],
      "execution_count": 126,
      "outputs": [
        {
          "output_type": "stream",
          "text": [
            "{1, 2, 3, 6, 7, 8}\n",
            "{1, 2, 3, 6, 7, 8}\n"
          ],
          "name": "stdout"
        },
        {
          "output_type": "execute_result",
          "data": {
            "text/plain": [
              "{1, 2, 3, 6, 7, 8}"
            ]
          },
          "metadata": {
            "tags": []
          },
          "execution_count": 126
        }
      ]
    }
  ]
}